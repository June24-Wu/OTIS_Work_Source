{
 "cells": [
  {
   "cell_type": "code",
   "execution_count": 0,
   "metadata": {
    "application/vnd.databricks.v1+cell": {
     "inputWidgets": {},
     "nuid": "8ccb8e45-cc0c-4d31-89a9-7d6c21276456",
     "showTitle": false,
     "title": ""
    }
   },
   "outputs": [
    {
     "data": {
      "text/html": [
       "<style scoped>\n",
       "  .ansiout {\n",
       "    display: block;\n",
       "    unicode-bidi: embed;\n",
       "    white-space: pre-wrap;\n",
       "    word-wrap: break-word;\n",
       "    word-break: break-all;\n",
       "    font-family: \"Source Code Pro\", \"Menlo\", monospace;;\n",
       "    font-size: 13px;\n",
       "    color: #555;\n",
       "    margin-left: 4px;\n",
       "    line-height: 19px;\n",
       "  }\n",
       "</style>\n",
       "<div class=\"ansiout\"></div>"
      ]
     },
     "metadata": {
      "application/vnd.databricks.v1+output": {
       "addedWidgets": {},
       "arguments": {},
       "data": "<div class=\"ansiout\"></div>",
       "datasetInfos": [],
       "removedWidgets": [],
       "type": "html"
      }
     },
     "output_type": "display_data"
    }
   ],
   "source": [
    "import os, uuid\n",
    "import time, datetime\n",
    "import multiprocessing\n",
    "from multiprocessing import cpu_count\n",
    "import pandas as pd\n",
    "# from azure.cosmos import CosmosClient"
   ]
  },
  {
   "cell_type": "code",
   "execution_count": 0,
   "metadata": {
    "application/vnd.databricks.v1+cell": {
     "inputWidgets": {},
     "nuid": "a56aae84-94ae-46ca-8419-43b9c2c5076b",
     "showTitle": false,
     "title": ""
    }
   },
   "outputs": [
    {
     "data": {
      "text/html": [
       "<style scoped>\n",
       "  .ansiout {\n",
       "    display: block;\n",
       "    unicode-bidi: embed;\n",
       "    white-space: pre-wrap;\n",
       "    word-wrap: break-word;\n",
       "    word-break: break-all;\n",
       "    font-family: \"Source Code Pro\", \"Menlo\", monospace;;\n",
       "    font-size: 13px;\n",
       "    color: #555;\n",
       "    margin-left: 4px;\n",
       "    line-height: 19px;\n",
       "  }\n",
       "</style>\n",
       "<div class=\"ansiout\"></div>"
      ]
     },
     "metadata": {
      "application/vnd.databricks.v1+output": {
       "addedWidgets": {},
       "arguments": {},
       "data": "<div class=\"ansiout\"></div>",
       "datasetInfos": [],
       "removedWidgets": [],
       "type": "html"
      }
     },
     "output_type": "display_data"
    }
   ],
   "source": [
    "# 储存账户名称\n",
    "storage_account_name = \"\"\n",
    "container_name=\"\"\n",
    "storage_account_access_key = \"\"\n",
    "connect_str = \"\"\n",
    "\n",
    "file_location = f\"wasbs://{container_name}@{storage_account_name}.blob.core.windows.net/\"\n",
    "# 写入ETL的时间\n",
    "filename = '/dbfs/FileStore/shared_uploads/wu.wenjun@otis.com/CameraStatus/ETL_date.txt' \n",
    "spark.conf.set(\n",
    "  \"fs.azure.account.key.\"+storage_account_name+\".blob.core.windows.net\",\n",
    "  storage_account_access_key)"
   ]
  },
  {
   "cell_type": "code",
   "execution_count": 0,
   "metadata": {
    "application/vnd.databricks.v1+cell": {
     "inputWidgets": {},
     "nuid": "a403217b-ebbb-4cab-9452-183a630c8e01",
     "showTitle": false,
     "title": ""
    }
   },
   "outputs": [
    {
     "data": {
      "text/html": [
       "<style scoped>\n",
       "  .ansiout {\n",
       "    display: block;\n",
       "    unicode-bidi: embed;\n",
       "    white-space: pre-wrap;\n",
       "    word-wrap: break-word;\n",
       "    word-break: break-all;\n",
       "    font-family: \"Source Code Pro\", \"Menlo\", monospace;;\n",
       "    font-size: 13px;\n",
       "    color: #555;\n",
       "    margin-left: 4px;\n",
       "    line-height: 19px;\n",
       "  }\n",
       "</style>\n",
       "<div class=\"ansiout\">2021-04-14 05:49:35.209164\n",
       "2021/4/14\n",
       "</div>"
      ]
     },
     "metadata": {
      "application/vnd.databricks.v1+output": {
       "addedWidgets": {},
       "arguments": {},
       "data": "<div class=\"ansiout\">2021-04-14 05:49:35.209164\n2021/4/14\n</div>",
       "datasetInfos": [],
       "removedWidgets": [],
       "type": "html"
      }
     },
     "output_type": "display_data"
    }
   ],
   "source": [
    "time = str(datetime.datetime.now())\n",
    "print(time)\n",
    "new_time = time[:10].split('-')\n",
    "year , month , day = int(new_time[0]) , int(new_time[1]) , int(new_time[2]) \n",
    "time = str(year) + '/' + str(month) + '/' +str(day) \n",
    "print(time)"
   ]
  },
  {
   "cell_type": "code",
   "execution_count": 0,
   "metadata": {
    "application/vnd.databricks.v1+cell": {
     "inputWidgets": {},
     "nuid": "3e3267c1-d9db-4841-b795-e344d855e5cd",
     "showTitle": false,
     "title": ""
    }
   },
   "outputs": [
    {
     "data": {
      "text/html": [
       "<style scoped>\n",
       "  .ansiout {\n",
       "    display: block;\n",
       "    unicode-bidi: embed;\n",
       "    white-space: pre-wrap;\n",
       "    word-wrap: break-word;\n",
       "    word-break: break-all;\n",
       "    font-family: \"Source Code Pro\", \"Menlo\", monospace;;\n",
       "    font-size: 13px;\n",
       "    color: #555;\n",
       "    margin-left: 4px;\n",
       "    line-height: 19px;\n",
       "  }\n",
       "</style>\n",
       "<div class=\"ansiout\"></div>"
      ]
     },
     "metadata": {
      "application/vnd.databricks.v1+output": {
       "addedWidgets": {},
       "arguments": {},
       "data": "<div class=\"ansiout\"></div>",
       "datasetInfos": [],
       "removedWidgets": [],
       "type": "html"
      }
     },
     "output_type": "display_data"
    }
   ],
   "source": [
    "spark.catalog.setCurrentDatabase(\"camera\")"
   ]
  },
  {
   "cell_type": "code",
   "execution_count": 0,
   "metadata": {
    "application/vnd.databricks.v1+cell": {
     "inputWidgets": {},
     "nuid": "03bb56c0-c875-4d66-bc24-bdfb9449397c",
     "showTitle": false,
     "title": ""
    }
   },
   "outputs": [
    {
     "data": {
      "text/html": [
       "<style scoped>\n",
       "  .ansiout {\n",
       "    display: block;\n",
       "    unicode-bidi: embed;\n",
       "    white-space: pre-wrap;\n",
       "    word-wrap: break-word;\n",
       "    word-break: break-all;\n",
       "    font-family: \"Source Code Pro\", \"Menlo\", monospace;;\n",
       "    font-size: 13px;\n",
       "    color: #555;\n",
       "    margin-left: 4px;\n",
       "    line-height: 19px;\n",
       "  }\n",
       "</style>\n",
       "<div class=\"ansiout\">wasbs://espdata@gw2data2lake2storage.blob.core.windows.net/00000000000000T/2021/3/27 does not exist\n",
       "insert into camerastatus values (&#39;00000000000000T&#39;,2021,3,27,0,0,0)\n",
       "wasbs://espdata@gw2data2lake2storage.blob.core.windows.net/00000000000003/2021/3/27 does not exist\n",
       "insert into camerastatus values (&#39;00000000000003&#39;,2021,3,27,0,0,0)\n",
       "wasbs://espdata@gw2data2lake2storage.blob.core.windows.net/0000000000000t/2021/3/27 does not exist\n",
       "insert into camerastatus values (&#39;0000000000000t&#39;,2021,3,27,0,0,0)\n",
       "wasbs://espdata@gw2data2lake2storage.blob.core.windows.net/00000000009478/2021/3/27 does not exist\n",
       "insert into camerastatus values (&#39;00000000009478&#39;,2021,3,27,0,0,0)\n",
       "wasbs://espdata@gw2data2lake2storage.blob.core.windows.net/0000000000947C/2021/3/27 does not exist\n",
       "insert into camerastatus values (&#39;0000000000947C&#39;,2021,3,27,0,0,0)\n",
       "wasbs://espdata@gw2data2lake2storage.blob.core.windows.net/00000000009A79/2021/3/27 does not exist\n",
       "insert into camerastatus values (&#39;00000000009A79&#39;,2021,3,27,0,0,0)\n",
       "insert into camerastatus values (&#39;0000000000EB9B&#39;,2021,3,27,8623,130,8493)\n",
       "wasbs://espdata@gw2data2lake2storage.blob.core.windows.net/0000000000TEST/2021/3/27 does not exist\n",
       "insert into camerastatus values (&#39;0000000000TEST&#39;,2021,3,27,0,0,0)\n",
       "wasbs://espdata@gw2data2lake2storage.blob.core.windows.net/60200924000002/2021/3/27 does not exist\n",
       "insert into camerastatus values (&#39;60200924000002&#39;,2021,3,27,0,0,0)\n",
       "wasbs://espdata@gw2data2lake2storage.blob.core.windows.net/60200925000023/2021/3/27 does not exist\n",
       "insert into camerastatus values (&#39;60200925000023&#39;,2021,3,27,0,0,0)\n",
       "wasbs://espdata@gw2data2lake2storage.blob.core.windows.net/60201121000004/2021/3/27 does not exist\n",
       "insert into camerastatus values (&#39;60201121000004&#39;,2021,3,27,0,0,0)\n",
       "wasbs://espdata@gw2data2lake2storage.blob.core.windows.net/60201121000017/2021/3/27 does not exist\n",
       "insert into camerastatus values (&#39;60201121000017&#39;,2021,3,27,0,0,0)\n",
       "wasbs://espdata@gw2data2lake2storage.blob.core.windows.net/60201122000001/2021/3/27 does not exist\n",
       "insert into camerastatus values (&#39;60201122000001&#39;,2021,3,27,0,0,0)\n",
       "wasbs://espdata@gw2data2lake2storage.blob.core.windows.net/60210117000118/2021/3/27 does not exist\n",
       "insert into camerastatus values (&#39;60210117000118&#39;,2021,3,27,0,0,0)\n",
       "wasbs://espdata@gw2data2lake2storage.blob.core.windows.net/60210122000057/2021/3/27 does not exist\n",
       "insert into camerastatus values (&#39;60210122000057&#39;,2021,3,27,0,0,0)\n",
       "wasbs://espdata@gw2data2lake2storage.blob.core.windows.net/LDCSH029/2021/3/27 does not exist\n",
       "insert into camerastatus values (&#39;LDCSH029&#39;,2021,3,27,0,0,0)\n",
       "2021/3/27\n",
       "</div>"
      ]
     },
     "metadata": {
      "application/vnd.databricks.v1+output": {
       "addedWidgets": {},
       "arguments": {},
       "data": "<div class=\"ansiout\">wasbs://espdata@gw2data2lake2storage.blob.core.windows.net/00000000000000T/2021/3/27 does not exist\ninsert into camerastatus values (&#39;00000000000000T&#39;,2021,3,27,0,0,0)\nwasbs://espdata@gw2data2lake2storage.blob.core.windows.net/00000000000003/2021/3/27 does not exist\ninsert into camerastatus values (&#39;00000000000003&#39;,2021,3,27,0,0,0)\nwasbs://espdata@gw2data2lake2storage.blob.core.windows.net/0000000000000t/2021/3/27 does not exist\ninsert into camerastatus values (&#39;0000000000000t&#39;,2021,3,27,0,0,0)\nwasbs://espdata@gw2data2lake2storage.blob.core.windows.net/00000000009478/2021/3/27 does not exist\ninsert into camerastatus values (&#39;00000000009478&#39;,2021,3,27,0,0,0)\nwasbs://espdata@gw2data2lake2storage.blob.core.windows.net/0000000000947C/2021/3/27 does not exist\ninsert into camerastatus values (&#39;0000000000947C&#39;,2021,3,27,0,0,0)\nwasbs://espdata@gw2data2lake2storage.blob.core.windows.net/00000000009A79/2021/3/27 does not exist\ninsert into camerastatus values (&#39;00000000009A79&#39;,2021,3,27,0,0,0)\ninsert into camerastatus values (&#39;0000000000EB9B&#39;,2021,3,27,8623,130,8493)\nwasbs://espdata@gw2data2lake2storage.blob.core.windows.net/0000000000TEST/2021/3/27 does not exist\ninsert into camerastatus values (&#39;0000000000TEST&#39;,2021,3,27,0,0,0)\nwasbs://espdata@gw2data2lake2storage.blob.core.windows.net/60200924000002/2021/3/27 does not exist\ninsert into camerastatus values (&#39;60200924000002&#39;,2021,3,27,0,0,0)\nwasbs://espdata@gw2data2lake2storage.blob.core.windows.net/60200925000023/2021/3/27 does not exist\ninsert into camerastatus values (&#39;60200925000023&#39;,2021,3,27,0,0,0)\nwasbs://espdata@gw2data2lake2storage.blob.core.windows.net/60201121000004/2021/3/27 does not exist\ninsert into camerastatus values (&#39;60201121000004&#39;,2021,3,27,0,0,0)\nwasbs://espdata@gw2data2lake2storage.blob.core.windows.net/60201121000017/2021/3/27 does not exist\ninsert into camerastatus values (&#39;60201121000017&#39;,2021,3,27,0,0,0)\nwasbs://espdata@gw2data2lake2storage.blob.core.windows.net/60201122000001/2021/3/27 does not exist\ninsert into camerastatus values (&#39;60201122000001&#39;,2021,3,27,0,0,0)\nwasbs://espdata@gw2data2lake2storage.blob.core.windows.net/60210117000118/2021/3/27 does not exist\ninsert into camerastatus values (&#39;60210117000118&#39;,2021,3,27,0,0,0)\nwasbs://espdata@gw2data2lake2storage.blob.core.windows.net/60210122000057/2021/3/27 does not exist\ninsert into camerastatus values (&#39;60210122000057&#39;,2021,3,27,0,0,0)\nwasbs://espdata@gw2data2lake2storage.blob.core.windows.net/LDCSH029/2021/3/27 does not exist\ninsert into camerastatus values (&#39;LDCSH029&#39;,2021,3,27,0,0,0)\n2021/3/27\n</div>",
       "datasetInfos": [],
       "removedWidgets": [],
       "type": "html"
      }
     },
     "output_type": "display_data"
    }
   ],
   "source": [
    "year , month , day = time.split('/')\n",
    "year , month , day = int(year) , int(month) , int(day)\n",
    "cameras = dbutils.fs.ls(file_location)\n",
    "data = [] # 'camera_name' , 'year' , 'month' , 'day' , 'up_load_image_num','positive','negative'\n",
    "for camera in cameras:\n",
    "  camera_name = camera[1]\n",
    "  img_location = file_location + camera_name  + time # wasbs://espdata@gw2data2lake2storage.blob.core.windows.net/00000000000000T/\n",
    "  camera_name = camera_name.replace('/','')\n",
    "  try:\n",
    "    img = dbutils.fs.ls(img_location)\n",
    "  except:\n",
    "    print(img_location +\" does not exist\")\n",
    "    sql = \"insert into camerastatus values ('%s',%d,%d,%d,%d,%d,%d)\" % (camera_name,year,month,day,0,0,0)\n",
    "  else:\n",
    "    positive , negative = 0 , 0\n",
    "    df = spark.read.format(\"json\").load(img_location).toPandas()\n",
    "    for i in df['Messages']:\n",
    "      i = str(i).split(',')\n",
    "      score = int(i[-2].replace(')','').replace('Score=',''))\n",
    "      if score < 128:\n",
    "        negative += 1\n",
    "      else:\n",
    "        positive += 1\n",
    "    sql = \"insert into camerastatus values ('%s',%d,%d,%d,%d,%d,%d)\" % (camera_name,year,month,day,len(img),positive,negative)\n",
    "  spark.sql(sql)\n",
    "  print(sql)\n",
    "with open(filename,'w') as f:\n",
    "  f.write(time)\n",
    "print(time)"
   ]
  },
  {
   "cell_type": "code",
   "execution_count": 0,
   "metadata": {
    "application/vnd.databricks.v1+cell": {
     "inputWidgets": {},
     "nuid": "7760d7f8-11c2-428d-8138-be2b04f04d55",
     "showTitle": false,
     "title": ""
    }
   },
   "outputs": [
    {
     "data": {
      "text/html": [
       "<style scoped>\n",
       "  .ansiout {\n",
       "    display: block;\n",
       "    unicode-bidi: embed;\n",
       "    white-space: pre-wrap;\n",
       "    word-wrap: break-word;\n",
       "    word-break: break-all;\n",
       "    font-family: \"Source Code Pro\", \"Menlo\", monospace;;\n",
       "    font-size: 13px;\n",
       "    color: #555;\n",
       "    margin-left: 4px;\n",
       "    line-height: 19px;\n",
       "  }\n",
       "</style>"
      ]
     },
     "metadata": {
      "application/vnd.databricks.v1+output": {
       "arguments": {},
       "data": "",
       "errorSummary": "",
       "type": "ipynbError"
      }
     },
     "output_type": "display_data"
    }
   ],
   "source": [
    "\"\"\"Camera Status Yesterday\"\"\"\n",
    "data_final = pd.DataFrame(data,columns = ['camera_name' , 'year' , 'month' , 'day' , 'up_load_image_num','positive','negative'])\n",
    "display(data_final)\n",
    "# convert into spark df\n",
    "cc=data_final.values.tolist()\n",
    "dd=list(data_final.columns)\n",
    "spark_df  = spark.createDataFrame(cc, dd)\n",
    "\n",
    "# Spark\n",
    "spark.sql(\"drop table if exists cameraStatus_yesterday\")\n",
    "spark_df.write.saveAsTable(\"cameraStatus_yesterday\")"
   ]
  }
 ],
 "metadata": {
  "application/vnd.databricks.v1+notebook": {
   "dashboards": [],
   "language": "python",
   "notebookMetadata": {
    "pythonIndentUnit": 2
   },
   "notebookName": "ETL_Final",
   "notebookOrigID": 1329903010340425,
   "widgets": {}
  },
  "kernelspec": {
   "display_name": "Python 3",
   "language": "python",
   "name": "python3"
  },
  "language_info": {
   "codemirror_mode": {
    "name": "ipython",
    "version": 3
   },
   "file_extension": ".py",
   "mimetype": "text/x-python",
   "name": "python",
   "nbconvert_exporter": "python",
   "pygments_lexer": "ipython3",
   "version": "3.8.3"
  }
 },
 "nbformat": 4,
 "nbformat_minor": 1
}
