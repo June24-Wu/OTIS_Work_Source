{
 "cells": [
  {
   "cell_type": "code",
   "execution_count": 0,
   "metadata": {
    "application/vnd.databricks.v1+cell": {
     "inputWidgets": {},
     "nuid": "0d8702ac-8dcc-4e54-8b31-8292ffcf049c",
     "showTitle": false,
     "title": ""
    }
   },
   "outputs": [
    {
     "data": {
      "text/html": [
       "<style scoped>\n",
       "  .ansiout {\n",
       "    display: block;\n",
       "    unicode-bidi: embed;\n",
       "    white-space: pre-wrap;\n",
       "    word-wrap: break-word;\n",
       "    word-break: break-all;\n",
       "    font-family: \"Source Code Pro\", \"Menlo\", monospace;;\n",
       "    font-size: 13px;\n",
       "    color: #555;\n",
       "    margin-left: 4px;\n",
       "    line-height: 19px;\n",
       "  }\n",
       "</style>\n",
       "<div class=\"ansiout\"></div>"
      ]
     },
     "metadata": {
      "application/vnd.databricks.v1+output": {
       "addedWidgets": {},
       "arguments": {},
       "data": "<div class=\"ansiout\"></div>",
       "datasetInfos": [],
       "metadata": {},
       "removedWidgets": [],
       "type": "html"
      }
     },
     "output_type": "display_data"
    }
   ],
   "source": [
    "import pandas as pd\n",
    "import datetime\n",
    "from datetime import timedelta\n",
    "import time\n",
    "import json\n",
    "import pytz\n",
    "\n",
    "\n",
    "from pyspark.sql.types import StructType, ArrayType  \n",
    "from pyspark.sql.functions import col, when\n",
    "from delta.tables import *\n",
    "from pyspark.sql.functions import *\n",
    "import numpy as np\n",
    "# from azure.cosmos import CosmosClient"
   ]
  },
  {
   "cell_type": "code",
   "execution_count": 0,
   "metadata": {
    "application/vnd.databricks.v1+cell": {
     "inputWidgets": {},
     "nuid": "7ce94721-ac62-4f24-9e43-a62cbea374f4",
     "showTitle": false,
     "title": ""
    }
   },
   "outputs": [
    {
     "data": {
      "text/html": [
       "<style scoped>\n",
       "  .ansiout {\n",
       "    display: block;\n",
       "    unicode-bidi: embed;\n",
       "    white-space: pre-wrap;\n",
       "    word-wrap: break-word;\n",
       "    word-break: break-all;\n",
       "    font-family: \"Source Code Pro\", \"Menlo\", monospace;;\n",
       "    font-size: 13px;\n",
       "    color: #555;\n",
       "    margin-left: 4px;\n",
       "    line-height: 19px;\n",
       "  }\n",
       "</style>\n",
       "<div class=\"ansiout\"></div>"
      ]
     },
     "metadata": {
      "application/vnd.databricks.v1+output": {
       "addedWidgets": {},
       "arguments": {},
       "data": "<div class=\"ansiout\"></div>",
       "datasetInfos": [],
       "metadata": {},
       "removedWidgets": [],
       "type": "html"
      }
     },
     "output_type": "display_data"
    }
   ],
   "source": [
    "# 储存账户名称\n",
    "storage_account_name = \"\"\n",
    "container_name=\"\"\n",
    "storage_account_access_key = \"\"\n",
    "connect_str = \"\"\n",
    "\n",
    "file_location = f\"wasbs://{container_name}@{storage_account_name}.blob.core.windows.net/\"\n",
    "spark.conf.set(\n",
    "  \"fs.azure.account.key.\"+storage_account_name+\".blob.core.windows.net\",\n",
    "  storage_account_access_key)"
   ]
  },
  {
   "cell_type": "code",
   "execution_count": 0,
   "metadata": {
    "application/vnd.databricks.v1+cell": {
     "inputWidgets": {},
     "nuid": "9f655862-3af9-4479-a17b-3ee99a45a4fd",
     "showTitle": false,
     "title": ""
    }
   },
   "outputs": [
    {
     "data": {
      "text/html": [
       "<style scoped>\n",
       "  .ansiout {\n",
       "    display: block;\n",
       "    unicode-bidi: embed;\n",
       "    white-space: pre-wrap;\n",
       "    word-wrap: break-word;\n",
       "    word-break: break-all;\n",
       "    font-family: \"Source Code Pro\", \"Menlo\", monospace;;\n",
       "    font-size: 13px;\n",
       "    color: #555;\n",
       "    margin-left: 4px;\n",
       "    line-height: 19px;\n",
       "  }\n",
       "</style>\n",
       "<div class=\"ansiout\">[&#39;2021/5/13&#39;, &#39;2021/5/12&#39;]\n",
       "</div>"
      ]
     },
     "metadata": {
      "application/vnd.databricks.v1+output": {
       "addedWidgets": {},
       "arguments": {},
       "data": "<div class=\"ansiout\">[&#39;2021/5/13&#39;, &#39;2021/5/12&#39;]\n</div>",
       "datasetInfos": [],
       "metadata": {},
       "removedWidgets": [],
       "type": "html"
      }
     },
     "output_type": "display_data"
    }
   ],
   "source": [
    "day = []\n",
    "file_location = \n",
    "elevator_list = ['F8N94277/','F8N94278/','D7SE7336/']\n",
    "\n",
    "# 前一天\n",
    "for day_num in range(1,3):\n",
    "  date = datetime.datetime.now(pytz.timezone('Asia/Shanghai')) - timedelta(days=day_num)\n",
    "  day.append(str(date.year) +'/' + str(date.month) +'/' + str(date.day))\n",
    "print(day)"
   ]
  },
  {
   "cell_type": "code",
   "execution_count": 0,
   "metadata": {
    "application/vnd.databricks.v1+cell": {
     "inputWidgets": {},
     "nuid": "01cb5e63-066e-4025-8622-4292f52d67a3",
     "showTitle": false,
     "title": ""
    }
   },
   "outputs": [
    {
     "data": {
      "text/html": [
       "<style scoped>\n",
       "  .ansiout {\n",
       "    display: block;\n",
       "    unicode-bidi: embed;\n",
       "    white-space: pre-wrap;\n",
       "    word-wrap: break-word;\n",
       "    word-break: break-all;\n",
       "    font-family: \"Source Code Pro\", \"Menlo\", monospace;;\n",
       "    font-size: 13px;\n",
       "    color: #555;\n",
       "    margin-left: 4px;\n",
       "    line-height: 19px;\n",
       "  }\n",
       "</style>\n",
       "<div class=\"ansiout\"></div>"
      ]
     },
     "metadata": {
      "application/vnd.databricks.v1+output": {
       "addedWidgets": {},
       "arguments": {},
       "data": "<div class=\"ansiout\"></div>",
       "datasetInfos": [],
       "metadata": {},
       "removedWidgets": [],
       "type": "html"
      }
     },
     "output_type": "display_data"
    }
   ],
   "source": [
    "final = pd.DataFrame()\n",
    "final2 = pd.DataFrame()\n",
    "for elevator in elevator_list:\n",
    "  new_file_location = file_location + elevator\n",
    "  pic_list = []\n",
    "  for date in day:\n",
    "    pic = dbutils.fs.ls(new_file_location + '/' +date)\n",
    "    for i in pic:\n",
    "      i = int(i[1].replace('.json',''))\n",
    "      pic_list.append(i)\n",
    "  pic_list = sorted(pic_list)\n",
    "  df = pd.DataFrame(pic_list,columns = ['end_time'])\n",
    "  df['start_time'] = df.shift(1)\n",
    "  df['gap'] = df['end_time'] - df['start_time']\n",
    "  df.dropna(axis=0,how='any',inplace=True)\n",
    "  df['elevator'] = elevator\n",
    "  df = df.sort_values(by = 'gap',ascending=False)\n",
    "#   df['end_time'] = pd.to_datetime(df['end_time'],unit='ms',origin=pd.Timestamp('1970-01-01 08:00:00'))\n",
    "#   df['start_time'] = pd.to_datetime(df['start_time'],unit='ms',origin=pd.Timestamp('1970-01-01 08:00:00'))\n",
    "  final = pd.concat([final,df],axis=0)\n",
    "  \n",
    "  \n",
    "  value_1_12 , value_13_15 , value_16_20 ,value_21_30 , value_31= 0 ,0,0,0,0\n",
    "  for value in df['gap']:\n",
    "    if value <= 12:\n",
    "      value_1_12 += 1\n",
    "    if 12< value <=15:\n",
    "      value_13_15 += 1\n",
    "    if 15< value <=20:\n",
    "      value_16_20 += 1\n",
    "    if 20 < value <=30:\n",
    "      value_21_30 += 1\n",
    "    if value >30:\n",
    "      value_31 += 1\n",
    "  df2 =[elevator,value_1_12 , value_13_15 , value_16_20 ,value_21_30 , value_31]\n",
    "  df2 = pd.DataFrame(df2,index = ['电梯','1-12','13-15','16-20','21-30','大于31']).T\n",
    "  final2 = pd.concat([final2,df2],axis=0)\n",
    "\n",
    "final.set_index('elevator',inplace=True)\n",
    "final2.set_index('电梯',inplace=True)\n",
    "final.to_csv('/dbfs/FileStore/shared_uploads/lilian.lu@otis.com/Upload_Time/Unix/%s——%s.csv' % (day[0].replace('/','-'),day[1].replace('/','-')))\n",
    "final2.to_csv('/dbfs/FileStore/shared_uploads/lilian.lu@otis.com/Upload_Time/Result/%s——%s.csv' % (day[0].replace('/','-'),day[1].replace('/','-')))\n",
    "print('储存完成：' + '/dbfs/FileStore/shared_uploads/lilian.lu@otis.com/Upload_Time/Unix/%s——%s.csv' % (day[0].replace('/','-'),day[1].replace('/','-')))\n",
    "print('储存完成：' + '/dbfs/FileStore/shared_uploads/lilian.lu@otis.com/Upload_Time/Result/%s——%s.csv' % (day[0].replace('/','-'),day[1].replace('/','-')))"
   ]
  },
  {
   "cell_type": "code",
   "execution_count": 0,
   "metadata": {
    "application/vnd.databricks.v1+cell": {
     "inputWidgets": {},
     "nuid": "6eb4fd32-7f51-4169-805b-de1ab0f2603e",
     "showTitle": false,
     "title": ""
    }
   },
   "outputs": [],
   "source": []
  }
 ],
 "metadata": {
  "application/vnd.databricks.v1+notebook": {
   "dashboards": [],
   "language": "python",
   "notebookMetadata": {
    "pythonIndentUnit": 2
   },
   "notebookName": "Uploading_Time",
   "notebookOrigID": 3929938156419200,
   "widgets": {}
  },
  "kernelspec": {
   "display_name": "Python 3",
   "language": "python",
   "name": "python3"
  },
  "language_info": {
   "codemirror_mode": {
    "name": "ipython",
    "version": 3
   },
   "file_extension": ".py",
   "mimetype": "text/x-python",
   "name": "python",
   "nbconvert_exporter": "python",
   "pygments_lexer": "ipython3",
   "version": "3.8.3"
  }
 },
 "nbformat": 4,
 "nbformat_minor": 1
}
