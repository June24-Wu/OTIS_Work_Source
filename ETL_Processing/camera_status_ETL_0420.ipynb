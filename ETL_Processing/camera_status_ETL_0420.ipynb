{
 "cells": [
  {
   "cell_type": "code",
   "execution_count": 0,
   "metadata": {
    "application/vnd.databricks.v1+cell": {
     "inputWidgets": {},
     "nuid": "8ccb8e45-cc0c-4d31-89a9-7d6c21276456",
     "showTitle": false,
     "title": ""
    }
   },
   "outputs": [
    {
     "data": {
      "text/html": [
       "<style scoped>\n",
       "  .ansiout {\n",
       "    display: block;\n",
       "    unicode-bidi: embed;\n",
       "    white-space: pre-wrap;\n",
       "    word-wrap: break-word;\n",
       "    word-break: break-all;\n",
       "    font-family: \"Source Code Pro\", \"Menlo\", monospace;;\n",
       "    font-size: 13px;\n",
       "    color: #555;\n",
       "    margin-left: 4px;\n",
       "    line-height: 19px;\n",
       "  }\n",
       "</style>\n",
       "<div class=\"ansiout\"></div>"
      ]
     },
     "metadata": {
      "application/vnd.databricks.v1+output": {
       "addedWidgets": {},
       "arguments": {},
       "data": "<div class=\"ansiout\"></div>",
       "datasetInfos": [],
       "removedWidgets": [],
       "type": "html"
      }
     },
     "output_type": "display_data"
    }
   ],
   "source": [
    "import os, uuid\n",
    "import time, datetime\n",
    "import multiprocessing\n",
    "from multiprocessing import cpu_count\n",
    "import pandas as pd\n",
    "# from azure.cosmos import CosmosClient"
   ]
  },
  {
   "cell_type": "code",
   "execution_count": 0,
   "metadata": {
    "application/vnd.databricks.v1+cell": {
     "inputWidgets": {},
     "nuid": "a56aae84-94ae-46ca-8419-43b9c2c5076b",
     "showTitle": false,
     "title": ""
    }
   },
   "outputs": [
    {
     "data": {
      "text/html": [
       "<style scoped>\n",
       "  .ansiout {\n",
       "    display: block;\n",
       "    unicode-bidi: embed;\n",
       "    white-space: pre-wrap;\n",
       "    word-wrap: break-word;\n",
       "    word-break: break-all;\n",
       "    font-family: \"Source Code Pro\", \"Menlo\", monospace;;\n",
       "    font-size: 13px;\n",
       "    color: #555;\n",
       "    margin-left: 4px;\n",
       "    line-height: 19px;\n",
       "  }\n",
       "</style>\n",
       "<div class=\"ansiout\"></div>"
      ]
     },
     "metadata": {
      "application/vnd.databricks.v1+output": {
       "addedWidgets": {},
       "arguments": {},
       "data": "<div class=\"ansiout\"></div>",
       "datasetInfos": [],
       "removedWidgets": [],
       "type": "html"
      }
     },
     "output_type": "display_data"
    }
   ],
   "source": [
    "# 储存账户名称\n",
    "storage_account_name = \"\"\n",
    "container_name=\"\"\n",
    "storage_account_access_key = \"\"\n",
    "connect_str = \"\"\n",
    "\n",
    "file_location = f\"wasbs://{container_name}@{storage_account_name}.blob.core.windows.net/\"\n",
    "# 写入ETL的时间\n",
    "filename = '/dbfs/FileStore/shared_uploads/wu.wenjun@otis.com/CameraStatus/ETL_date.txt' \n",
    "spark.conf.set(\n",
    "  \"fs.azure.account.key.\"+storage_account_name+\".blob.core.windows.net\",\n",
    "  storage_account_access_key)"
   ]
  },
  {
   "cell_type": "code",
   "execution_count": 0,
   "metadata": {
    "application/vnd.databricks.v1+cell": {
     "inputWidgets": {},
     "nuid": "a403217b-ebbb-4cab-9452-183a630c8e01",
     "showTitle": false,
     "title": ""
    }
   },
   "outputs": [
    {
     "data": {
      "text/html": [
       "<style scoped>\n",
       "  .ansiout {\n",
       "    display: block;\n",
       "    unicode-bidi: embed;\n",
       "    white-space: pre-wrap;\n",
       "    word-wrap: break-word;\n",
       "    word-break: break-all;\n",
       "    font-family: \"Source Code Pro\", \"Menlo\", monospace;;\n",
       "    font-size: 13px;\n",
       "    color: #555;\n",
       "    margin-left: 4px;\n",
       "    line-height: 19px;\n",
       "  }\n",
       "</style>\n",
       "<div class=\"ansiout\">Out[137]: &#39;2021/4/14&#39;</div>"
      ]
     },
     "metadata": {
      "application/vnd.databricks.v1+output": {
       "addedWidgets": {},
       "arguments": {},
       "data": "<div class=\"ansiout\">Out[137]: &#39;2021/4/14&#39;</div>",
       "datasetInfos": [],
       "removedWidgets": [],
       "type": "html"
      }
     },
     "output_type": "display_data"
    }
   ],
   "source": [
    "def gen_dates(b_date, days):\n",
    "    day = datetime.timedelta(days=1)\n",
    "    for i in range(days):\n",
    "        yield b_date + day*i\n",
    "\n",
    "\n",
    "def get_date_list(start=None, end=None):\n",
    "    \"\"\"\n",
    "    获取日期列表\n",
    "    :param start: 开始日期\n",
    "    :param end: 结束日期\n",
    "    :return:\n",
    "    \"\"\"\n",
    "    if start is None:\n",
    "        start = datetime.datetime.strptime(\"2020/12/01\", \"%Y/%m/%d\")\n",
    "    if end is None:\n",
    "        end = datetime.datetime.now()\n",
    "    data = []\n",
    "    for d in gen_dates(start, (end-start).days):\n",
    "        data.append(d)\n",
    "    data_new = []\n",
    "    for i in data:\n",
    "      new = str(i)[:10]\n",
    "      new_time = new.split('-')\n",
    "      year , month , day = int(new_time[0]) , int(new_time[1]) , int(new_time[2]) \n",
    "      date = str(year) + '/' + str(month) + '/' +str(day) \n",
    "      data_new.append(date)\n",
    "    return data_new\n",
    "\n",
    "data = get_date_list()\n",
    "with open(filename,'r') as f: \n",
    "  ETL_date = f.read()\n",
    "time = data[data.index(ETL_date)+1]\n",
    "time"
   ]
  },
  {
   "cell_type": "code",
   "execution_count": 0,
   "metadata": {
    "application/vnd.databricks.v1+cell": {
     "inputWidgets": {},
     "nuid": "3e3267c1-d9db-4841-b795-e344d855e5cd",
     "showTitle": false,
     "title": ""
    }
   },
   "outputs": [
    {
     "data": {
      "text/html": [
       "<style scoped>\n",
       "  .ansiout {\n",
       "    display: block;\n",
       "    unicode-bidi: embed;\n",
       "    white-space: pre-wrap;\n",
       "    word-wrap: break-word;\n",
       "    word-break: break-all;\n",
       "    font-family: \"Source Code Pro\", \"Menlo\", monospace;;\n",
       "    font-size: 13px;\n",
       "    color: #555;\n",
       "    margin-left: 4px;\n",
       "    line-height: 19px;\n",
       "  }\n",
       "</style>\n",
       "<div class=\"ansiout\"></div>"
      ]
     },
     "metadata": {
      "application/vnd.databricks.v1+output": {
       "addedWidgets": {},
       "arguments": {},
       "data": "<div class=\"ansiout\"></div>",
       "datasetInfos": [],
       "removedWidgets": [],
       "type": "html"
      }
     },
     "output_type": "display_data"
    }
   ],
   "source": [
    "spark.catalog.setCurrentDatabase(\"camera\")"
   ]
  },
  {
   "cell_type": "code",
   "execution_count": 0,
   "metadata": {
    "application/vnd.databricks.v1+cell": {
     "inputWidgets": {},
     "nuid": "03bb56c0-c875-4d66-bc24-bdfb9449397c",
     "showTitle": false,
     "title": ""
    }
   },
   "outputs": [
    {
     "data": {
      "text/html": [
       "<style scoped>\n",
       "  .ansiout {\n",
       "    display: block;\n",
       "    unicode-bidi: embed;\n",
       "    white-space: pre-wrap;\n",
       "    word-wrap: break-word;\n",
       "    word-break: break-all;\n",
       "    font-family: \"Source Code Pro\", \"Menlo\", monospace;;\n",
       "    font-size: 13px;\n",
       "    color: #555;\n",
       "    margin-left: 4px;\n",
       "    line-height: 19px;\n",
       "  }\n",
       "</style>\n",
       "<div class=\"ansiout\">wasbs://espdata@storageaccountcamera.blob.core.windows.net/04670119080008/2021/4/14 does not exist\n",
       "insert into camerastatus values (&#39;04670119080008&#39;,2021,4,14,0,0,0)\n",
       "</div>"
      ]
     },
     "metadata": {
      "application/vnd.databricks.v1+output": {
       "addedWidgets": {},
       "arguments": {},
       "data": "<div class=\"ansiout\">wasbs://espdata@storageaccountcamera.blob.core.windows.net/04670119080008/2021/4/14 does not exist\ninsert into camerastatus values (&#39;04670119080008&#39;,2021,4,14,0,0,0)\n</div>",
       "datasetInfos": [],
       "removedWidgets": [],
       "type": "html"
      }
     },
     "output_type": "display_data"
    }
   ],
   "source": [
    "year , month , day = time.split('/')\n",
    "year , month , day = int(year) , int(month) , int(day)\n",
    "cameras = dbutils.fs.ls(file_location)\n",
    "data = [] # 'camera_name' , 'year' , 'month' , 'day' , 'up_load_image_num','positive','negative'\n",
    "for camera in cameras:\n",
    "  camera_name = camera[1]\n",
    "  img_location = file_location + camera_name  + time # wasbs://espdata@gw2data2lake2storage.blob.core.windows.net/00000000000000T/\n",
    "  camera_name = camera_name.replace('/','')\n",
    "  try:\n",
    "    img = dbutils.fs.ls(img_location)\n",
    "  except:\n",
    "    print(img_location +\" does not exist\")\n",
    "    sql = \"insert into camerastatus values ('%s',%d,%d,%d,%d,%d,%d)\" % (camera_name,year,month,day,0,0,0)\n",
    "  else:\n",
    "    positive , negative = 0 , 0\n",
    "    df = spark.read.format(\"json\").load(img_location).toPandas()\n",
    "    for i in df['Messages']:\n",
    "      i = str(i).split(',')\n",
    "      score = int(i[-2].replace(')','').replace('Score=',''))\n",
    "      if score < 128:\n",
    "        negative += 1\n",
    "      else:\n",
    "        positive += 1\n",
    "    sql = \"insert into camerastatus values ('%s',%d,%d,%d,%d,%d,%d)\" % (camera_name,year,month,day,len(img),positive,negative)\n",
    "  spark.sql(sql)\n",
    "  print(sql)\n",
    "with open(filename,'w') as f:\n",
    "  f.write(time)\n",
    "print(time)"
   ]
  },
  {
   "cell_type": "code",
   "execution_count": 0,
   "metadata": {
    "application/vnd.databricks.v1+cell": {
     "inputWidgets": {},
     "nuid": "58861aad-c1f1-4a1b-9402-73a477c66636",
     "showTitle": false,
     "title": ""
    }
   },
   "outputs": [
    {
     "data": {
      "text/html": [
       "<style scoped>\n",
       "  .table-result-container {\n",
       "    max-height: 300px;\n",
       "    overflow: auto;\n",
       "  }\n",
       "  table, th, td {\n",
       "    border: 1px solid black;\n",
       "    border-collapse: collapse;\n",
       "  }\n",
       "  th, td {\n",
       "    padding: 5px;\n",
       "  }\n",
       "  th {\n",
       "    text-align: left;\n",
       "  }\n",
       "</style><div class='table-result-container'><table class='table-result'><thead style='background-color: white'><tr><th>camera_name</th><th>year</th><th>month</th><th>day</th><th>up_load_image_num</th><th>positive</th><th>negative</th></tr></thead><tbody><tr><td>60210117000118</td><td>2021</td><td>4</td><td>13</td><td>4341</td><td>2609</td><td>1732</td></tr><tr><td>04670119080008</td><td>2021</td><td>4</td><td>13</td><td>0</td><td>0</td><td>0</td></tr><tr><td>60210117000009</td><td>2021</td><td>4</td><td>12</td><td>3555</td><td>18</td><td>3537</td></tr><tr><td>04670119080008</td><td>2021</td><td>4</td><td>12</td><td>0</td><td>0</td><td>0</td></tr><tr><td>04670119080008</td><td>2021</td><td>4</td><td>12</td><td>0</td><td>0</td><td>0</td></tr><tr><td>60210117000009</td><td>2021</td><td>4</td><td>13</td><td>8586</td><td>2522</td><td>6064</td></tr><tr><td>60210117000118</td><td>2021</td><td>4</td><td>12</td><td>1145</td><td>374</td><td>771</td></tr><tr><td>LDCSH040</td><td>2021</td><td>4</td><td>12</td><td>0</td><td>0</td><td>0</td></tr><tr><td>LDCSH040</td><td>2021</td><td>4</td><td>13</td><td>0</td><td>0</td><td>0</td></tr></tbody></table></div>"
      ]
     },
     "metadata": {
      "application/vnd.databricks.v1+output": {
       "addedWidgets": {},
       "aggData": [],
       "aggError": "",
       "aggOverflow": false,
       "aggSchema": [],
       "aggSeriesLimitReached": false,
       "aggType": "",
       "arguments": {},
       "columnCustomDisplayInfos": {},
       "data": [
        [
         "60210117000118",
         2021,
         4,
         13,
         4341,
         2609,
         1732
        ],
        [
         "04670119080008",
         2021,
         4,
         13,
         0,
         0,
         0
        ],
        [
         "60210117000009",
         2021,
         4,
         12,
         3555,
         18,
         3537
        ],
        [
         "04670119080008",
         2021,
         4,
         12,
         0,
         0,
         0
        ],
        [
         "04670119080008",
         2021,
         4,
         12,
         0,
         0,
         0
        ],
        [
         "60210117000009",
         2021,
         4,
         13,
         8586,
         2522,
         6064
        ],
        [
         "60210117000118",
         2021,
         4,
         12,
         1145,
         374,
         771
        ],
        [
         "LDCSH040",
         2021,
         4,
         12,
         0,
         0,
         0
        ],
        [
         "LDCSH040",
         2021,
         4,
         13,
         0,
         0,
         0
        ]
       ],
       "datasetInfos": [],
       "dbfsResultPath": null,
       "isJsonSchema": true,
       "overflow": false,
       "plotOptions": {
        "customPlotOptions": {},
        "displayType": "table",
        "pivotAggregation": null,
        "pivotColumns": [],
        "xColumns": [],
        "yColumns": []
       },
       "removedWidgets": [],
       "schema": [
        {
         "metadata": "{}",
         "name": "camera_name",
         "type": "\"string\""
        },
        {
         "metadata": "{}",
         "name": "year",
         "type": "\"long\""
        },
        {
         "metadata": "{}",
         "name": "month",
         "type": "\"long\""
        },
        {
         "metadata": "{}",
         "name": "day",
         "type": "\"long\""
        },
        {
         "metadata": "{}",
         "name": "up_load_image_num",
         "type": "\"long\""
        },
        {
         "metadata": "{}",
         "name": "positive",
         "type": "\"long\""
        },
        {
         "metadata": "{}",
         "name": "negative",
         "type": "\"long\""
        }
       ],
       "type": "table"
      }
     },
     "output_type": "display_data"
    },
    {
     "data": {
      "text/html": [
       "<style scoped>\n",
       "  .ansiout {\n",
       "    display: block;\n",
       "    unicode-bidi: embed;\n",
       "    white-space: pre-wrap;\n",
       "    word-wrap: break-word;\n",
       "    word-break: break-all;\n",
       "    font-family: \"Source Code Pro\", \"Menlo\", monospace;;\n",
       "    font-size: 13px;\n",
       "    color: #555;\n",
       "    margin-left: 4px;\n",
       "    line-height: 19px;\n",
       "  }\n",
       "</style>"
      ]
     },
     "metadata": {
      "application/vnd.databricks.v1+output": {
       "arguments": {},
       "data": "",
       "errorSummary": "",
       "type": "ipynbError"
      }
     },
     "output_type": "display_data"
    }
   ],
   "source": [
    "%sql\n",
    "select * from camerastatus"
   ]
  },
  {
   "cell_type": "code",
   "execution_count": 0,
   "metadata": {
    "application/vnd.databricks.v1+cell": {
     "inputWidgets": {},
     "nuid": "cfb4cf36-f0b3-450b-ada4-9968a582c5b8",
     "showTitle": false,
     "title": ""
    }
   },
   "outputs": [
    {
     "data": {
      "text/html": [
       "<style scoped>\n",
       "  .ansiout {\n",
       "    display: block;\n",
       "    unicode-bidi: embed;\n",
       "    white-space: pre-wrap;\n",
       "    word-wrap: break-word;\n",
       "    word-break: break-all;\n",
       "    font-family: \"Source Code Pro\", \"Menlo\", monospace;;\n",
       "    font-size: 13px;\n",
       "    color: #555;\n",
       "    margin-left: 4px;\n",
       "    line-height: 19px;\n",
       "  }\n",
       "</style>\n",
       "<div class=\"ansiout\"></div>"
      ]
     },
     "metadata": {
      "application/vnd.databricks.v1+output": {
       "addedWidgets": {},
       "arguments": {},
       "data": "<div class=\"ansiout\"></div>",
       "datasetInfos": [],
       "removedWidgets": [],
       "type": "html"
      }
     },
     "output_type": "display_data"
    },
    {
     "data": {
      "text/html": [
       "<style scoped>\n",
       "  .ansiout {\n",
       "    display: block;\n",
       "    unicode-bidi: embed;\n",
       "    white-space: pre-wrap;\n",
       "    word-wrap: break-word;\n",
       "    word-break: break-all;\n",
       "    font-family: \"Source Code Pro\", \"Menlo\", monospace;;\n",
       "    font-size: 13px;\n",
       "    color: #555;\n",
       "    margin-left: 4px;\n",
       "    line-height: 19px;\n",
       "  }\n",
       "</style>"
      ]
     },
     "metadata": {
      "application/vnd.databricks.v1+output": {
       "arguments": {},
       "data": "",
       "errorSummary": "",
       "type": "ipynbError"
      }
     },
     "output_type": "display_data"
    }
   ],
   "source": [
    "# spark_df.write.format(\"parquet\").mode('append').save(\"cameraStatus_yesterday\")"
   ]
  },
  {
   "cell_type": "code",
   "execution_count": 0,
   "metadata": {
    "application/vnd.databricks.v1+cell": {
     "inputWidgets": {},
     "nuid": "a7176163-c17d-4870-b748-88ce3028187a",
     "showTitle": false,
     "title": ""
    }
   },
   "outputs": [
    {
     "data": {
      "text/html": [
       "<style scoped>\n",
       "  .ansiout {\n",
       "    display: block;\n",
       "    unicode-bidi: embed;\n",
       "    white-space: pre-wrap;\n",
       "    word-wrap: break-word;\n",
       "    word-break: break-all;\n",
       "    font-family: \"Source Code Pro\", \"Menlo\", monospace;;\n",
       "    font-size: 13px;\n",
       "    color: #555;\n",
       "    margin-left: 4px;\n",
       "    line-height: 19px;\n",
       "  }\n",
       "</style>\n",
       "<div class=\"ansiout\"></div>"
      ]
     },
     "metadata": {
      "application/vnd.databricks.v1+output": {
       "addedWidgets": {},
       "arguments": {},
       "data": "<div class=\"ansiout\"></div>",
       "datasetInfos": [],
       "removedWidgets": [],
       "type": "html"
      }
     },
     "output_type": "display_data"
    },
    {
     "data": {
      "text/html": [
       "<style scoped>\n",
       "  .ansiout {\n",
       "    display: block;\n",
       "    unicode-bidi: embed;\n",
       "    white-space: pre-wrap;\n",
       "    word-wrap: break-word;\n",
       "    word-break: break-all;\n",
       "    font-family: \"Source Code Pro\", \"Menlo\", monospace;;\n",
       "    font-size: 13px;\n",
       "    color: #555;\n",
       "    margin-left: 4px;\n",
       "    line-height: 19px;\n",
       "  }\n",
       "</style>"
      ]
     },
     "metadata": {
      "application/vnd.databricks.v1+output": {
       "arguments": {},
       "data": "",
       "errorSummary": "",
       "type": "ipynbError"
      }
     },
     "output_type": "display_data"
    }
   ],
   "source": [
    "# def read(): \n",
    "#   data = spark.read.format(\"json\").load(\"wasbs://espdata@gw2data2lake2storage.blob.core.windows.net/0000000000EB9B/2021/4/6/\")\n",
    "#   data = data.toPandas()\n",
    "#   return data\n",
    "# for i in range(1):\n",
    "# #   image_path = location_path +\"/\" + i[1]\n",
    "#   p.apply_async(read())\n",
    "#   display(data)"
   ]
  }
 ],
 "metadata": {
  "application/vnd.databricks.v1+notebook": {
   "dashboards": [
    {
     "elements": [
      {
       "elementNUID": "58861aad-c1f1-4a1b-9402-73a477c66636",
       "elementType": "command",
       "guid": "1dbe2c47-9f74-4af5-86f9-fe09b93615e7",
       "options": null,
       "position": {
        "height": 6,
        "width": 12,
        "x": 0,
        "y": 0,
        "z": null
       }
      }
     ],
     "globalVars": {},
     "guid": "497fed15-91ef-47bf-a291-ac17e78175ab",
     "layoutOption": {
      "grid": true,
      "stack": true
     },
     "nuid": "6be55648-0777-427a-a3ad-093f1e4cae91",
     "origId": 4441219516739702,
     "title": "Untitled",
     "version": "DashboardViewV1",
     "width": 1024
    }
   ],
   "language": "python",
   "notebookMetadata": {
    "pythonIndentUnit": 2
   },
   "notebookName": "camera_status_ETL",
   "notebookOrigID": 1329903010340432,
   "widgets": {}
  },
  "kernelspec": {
   "display_name": "Python 3",
   "language": "python",
   "name": "python3"
  },
  "language_info": {
   "codemirror_mode": {
    "name": "ipython",
    "version": 3
   },
   "file_extension": ".py",
   "mimetype": "text/x-python",
   "name": "python",
   "nbconvert_exporter": "python",
   "pygments_lexer": "ipython3",
   "version": "3.8.3"
  }
 },
 "nbformat": 4,
 "nbformat_minor": 1
}
