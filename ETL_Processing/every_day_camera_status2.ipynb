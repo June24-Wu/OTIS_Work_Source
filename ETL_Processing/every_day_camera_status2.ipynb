{
 "cells": [
  {
   "cell_type": "code",
   "execution_count": 0,
   "metadata": {
    "application/vnd.databricks.v1+cell": {
     "inputWidgets": {},
     "nuid": "8ccb8e45-cc0c-4d31-89a9-7d6c21276456",
     "showTitle": false,
     "title": ""
    }
   },
   "outputs": [
    {
     "data": {
      "text/html": [
       "<style scoped>\n",
       "  .ansiout {\n",
       "    display: block;\n",
       "    unicode-bidi: embed;\n",
       "    white-space: pre-wrap;\n",
       "    word-wrap: break-word;\n",
       "    word-break: break-all;\n",
       "    font-family: \"Source Code Pro\", \"Menlo\", monospace;;\n",
       "    font-size: 13px;\n",
       "    color: #555;\n",
       "    margin-left: 4px;\n",
       "    line-height: 19px;\n",
       "  }\n",
       "</style>\n",
       "<div class=\"ansiout\"></div>"
      ]
     },
     "metadata": {
      "application/vnd.databricks.v1+output": {
       "addedWidgets": {},
       "arguments": {},
       "data": "<div class=\"ansiout\"></div>",
       "datasetInfos": [],
       "removedWidgets": [],
       "type": "html"
      }
     },
     "output_type": "display_data"
    }
   ],
   "source": [
    "import os, uuid\n",
    "import time, datetime\n",
    "import multiprocessing\n",
    "from multiprocessing import cpu_count\n",
    "import pandas as pd\n",
    "\n",
    "# from azure.cosmos import CosmosClient"
   ]
  },
  {
   "cell_type": "code",
   "execution_count": 0,
   "metadata": {
    "application/vnd.databricks.v1+cell": {
     "inputWidgets": {},
     "nuid": "a56aae84-94ae-46ca-8419-43b9c2c5076b",
     "showTitle": false,
     "title": ""
    }
   },
   "outputs": [
    {
     "data": {
      "text/html": [
       "<style scoped>\n",
       "  .ansiout {\n",
       "    display: block;\n",
       "    unicode-bidi: embed;\n",
       "    white-space: pre-wrap;\n",
       "    word-wrap: break-word;\n",
       "    word-break: break-all;\n",
       "    font-family: \"Source Code Pro\", \"Menlo\", monospace;;\n",
       "    font-size: 13px;\n",
       "    color: #555;\n",
       "    margin-left: 4px;\n",
       "    line-height: 19px;\n",
       "  }\n",
       "</style>\n",
       "<div class=\"ansiout\"></div>"
      ]
     },
     "metadata": {
      "application/vnd.databricks.v1+output": {
       "addedWidgets": {},
       "arguments": {},
       "data": "<div class=\"ansiout\"></div>",
       "datasetInfos": [],
       "removedWidgets": [],
       "type": "html"
      }
     },
     "output_type": "display_data"
    }
   ],
   "source": [
    "container_name=\"\"\n",
    "storage_account_name = \"\"\n",
    "storage_account_access_key = \"\"\n",
    "\n",
    "connect_str = \"\"\n",
    "\n",
    "file_location = f\"wasbs://{container_name}@{storage_account_name}.blob.core.windows.net/\"\n",
    "spark.conf.set(\n",
    "  \"fs.azure.account.key.\"+storage_account_name+\".blob.core.windows.net\",\n",
    "  storage_account_access_key)"
   ]
  },
  {
   "cell_type": "code",
   "execution_count": 0,
   "metadata": {
    "application/vnd.databricks.v1+cell": {
     "inputWidgets": {},
     "nuid": "0c62c6d9-67b0-45dd-88e4-b9e97b872892",
     "showTitle": false,
     "title": ""
    }
   },
   "outputs": [
    {
     "data": {
      "text/html": [
       "<style scoped>\n",
       "  .ansiout {\n",
       "    display: block;\n",
       "    unicode-bidi: embed;\n",
       "    white-space: pre-wrap;\n",
       "    word-wrap: break-word;\n",
       "    word-break: break-all;\n",
       "    font-family: \"Source Code Pro\", \"Menlo\", monospace;;\n",
       "    font-size: 13px;\n",
       "    color: #555;\n",
       "    margin-left: 4px;\n",
       "    line-height: 19px;\n",
       "  }\n",
       "</style>\n",
       "<div class=\"ansiout\">2021-04-07 08:47:06.123174\n",
       "2021/4/6\n",
       "</div>"
      ]
     },
     "metadata": {
      "application/vnd.databricks.v1+output": {
       "addedWidgets": {},
       "arguments": {},
       "data": "<div class=\"ansiout\">2021-04-07 08:47:06.123174\n2021/4/6\n</div>",
       "datasetInfos": [],
       "removedWidgets": [],
       "type": "html"
      }
     },
     "output_type": "display_data"
    }
   ],
   "source": [
    "time = str(datetime.datetime.now())\n",
    "print(time)\n",
    "new_time = time[:10].split('-')\n",
    "year , month , day = int(new_time[0]) , int(new_time[1]) , int(new_time[2]) \n",
    "yesterday = str(year) + '/' + str(month) + '/' +str(day) \n",
    "print(yesterday)"
   ]
  },
  {
   "cell_type": "code",
   "execution_count": 0,
   "metadata": {
    "application/vnd.databricks.v1+cell": {
     "inputWidgets": {},
     "nuid": "3e3267c1-d9db-4841-b795-e344d855e5cd",
     "showTitle": false,
     "title": ""
    }
   },
   "outputs": [
    {
     "data": {
      "text/html": [
       "<style scoped>\n",
       "  .ansiout {\n",
       "    display: block;\n",
       "    unicode-bidi: embed;\n",
       "    white-space: pre-wrap;\n",
       "    word-wrap: break-word;\n",
       "    word-break: break-all;\n",
       "    font-family: \"Source Code Pro\", \"Menlo\", monospace;;\n",
       "    font-size: 13px;\n",
       "    color: #555;\n",
       "    margin-left: 4px;\n",
       "    line-height: 19px;\n",
       "  }\n",
       "</style>\n",
       "<div class=\"ansiout\"></div>"
      ]
     },
     "metadata": {
      "application/vnd.databricks.v1+output": {
       "addedWidgets": {},
       "arguments": {},
       "data": "<div class=\"ansiout\"></div>",
       "datasetInfos": [],
       "removedWidgets": [],
       "type": "html"
      }
     },
     "output_type": "display_data"
    }
   ],
   "source": [
    "spark.catalog.setCurrentDatabase(\"camera\")"
   ]
  },
  {
   "cell_type": "code",
   "execution_count": 0,
   "metadata": {
    "application/vnd.databricks.v1+cell": {
     "inputWidgets": {},
     "nuid": "03bb56c0-c875-4d66-bc24-bdfb9449397c",
     "showTitle": false,
     "title": ""
    }
   },
   "outputs": [
    {
     "data": {
      "text/html": [
       "<style scoped>\n",
       "  .table-result-container {\n",
       "    max-height: 300px;\n",
       "    overflow: auto;\n",
       "  }\n",
       "  table, th, td {\n",
       "    border: 1px solid black;\n",
       "    border-collapse: collapse;\n",
       "  }\n",
       "  th, td {\n",
       "    padding: 5px;\n",
       "  }\n",
       "  th {\n",
       "    text-align: left;\n",
       "  }\n",
       "</style><div class='table-result-container'><table class='table-result'><thead style='background-color: white'><tr><th>camera_name</th><th>year</th><th>month</th><th>day</th><th>up_load_image_num</th><th>positive</th><th>negative</th></tr></thead><tbody><tr><td>00000000000000T</td><td>2021</td><td>4</td><td>6</td><td>0</td><td>0</td><td>0</td></tr><tr><td>00000000000003</td><td>2021</td><td>4</td><td>6</td><td>0</td><td>0</td><td>0</td></tr><tr><td>0000000000000t</td><td>2021</td><td>4</td><td>6</td><td>0</td><td>0</td><td>0</td></tr><tr><td>00000000009478</td><td>2021</td><td>4</td><td>6</td><td>0</td><td>0</td><td>0</td></tr><tr><td>0000000000947C</td><td>2021</td><td>4</td><td>6</td><td>0</td><td>0</td><td>0</td></tr><tr><td>00000000009A79</td><td>2021</td><td>4</td><td>6</td><td>0</td><td>0</td><td>0</td></tr><tr><td>0000000000EB9B</td><td>2021</td><td>4</td><td>6</td><td>8631</td><td>1664</td><td>6967</td></tr><tr><td>0000000000TEST</td><td>2021</td><td>4</td><td>6</td><td>0</td><td>0</td><td>0</td></tr><tr><td>60200924000002</td><td>2021</td><td>4</td><td>6</td><td>0</td><td>0</td><td>0</td></tr><tr><td>60200925000023</td><td>2021</td><td>4</td><td>6</td><td>0</td><td>0</td><td>0</td></tr><tr><td>60201121000004</td><td>2021</td><td>4</td><td>6</td><td>0</td><td>0</td><td>0</td></tr><tr><td>60201121000017</td><td>2021</td><td>4</td><td>6</td><td>0</td><td>0</td><td>0</td></tr><tr><td>60201122000001</td><td>2021</td><td>4</td><td>6</td><td>0</td><td>0</td><td>0</td></tr><tr><td>60210117000118</td><td>2021</td><td>4</td><td>6</td><td>0</td><td>0</td><td>0</td></tr><tr><td>60210122000057</td><td>2021</td><td>4</td><td>6</td><td>0</td><td>0</td><td>0</td></tr><tr><td>LDCSH029</td><td>2021</td><td>4</td><td>6</td><td>0</td><td>0</td><td>0</td></tr></tbody></table></div>"
      ]
     },
     "metadata": {
      "application/vnd.databricks.v1+output": {
       "addedWidgets": {},
       "aggData": [],
       "aggError": "",
       "aggOverflow": false,
       "aggSchema": [],
       "aggSeriesLimitReached": false,
       "aggType": "",
       "arguments": {},
       "columnCustomDisplayInfos": {},
       "data": [
        [
         "00000000000000T",
         2021,
         4,
         6,
         0,
         0,
         0
        ],
        [
         "00000000000003",
         2021,
         4,
         6,
         0,
         0,
         0
        ],
        [
         "0000000000000t",
         2021,
         4,
         6,
         0,
         0,
         0
        ],
        [
         "00000000009478",
         2021,
         4,
         6,
         0,
         0,
         0
        ],
        [
         "0000000000947C",
         2021,
         4,
         6,
         0,
         0,
         0
        ],
        [
         "00000000009A79",
         2021,
         4,
         6,
         0,
         0,
         0
        ],
        [
         "0000000000EB9B",
         2021,
         4,
         6,
         8631,
         1664,
         6967
        ],
        [
         "0000000000TEST",
         2021,
         4,
         6,
         0,
         0,
         0
        ],
        [
         "60200924000002",
         2021,
         4,
         6,
         0,
         0,
         0
        ],
        [
         "60200925000023",
         2021,
         4,
         6,
         0,
         0,
         0
        ],
        [
         "60201121000004",
         2021,
         4,
         6,
         0,
         0,
         0
        ],
        [
         "60201121000017",
         2021,
         4,
         6,
         0,
         0,
         0
        ],
        [
         "60201122000001",
         2021,
         4,
         6,
         0,
         0,
         0
        ],
        [
         "60210117000118",
         2021,
         4,
         6,
         0,
         0,
         0
        ],
        [
         "60210122000057",
         2021,
         4,
         6,
         0,
         0,
         0
        ],
        [
         "LDCSH029",
         2021,
         4,
         6,
         0,
         0,
         0
        ]
       ],
       "datasetInfos": [],
       "dbfsResultPath": null,
       "isJsonSchema": true,
       "overflow": false,
       "plotOptions": {
        "customPlotOptions": {},
        "displayType": "table",
        "pivotAggregation": null,
        "pivotColumns": null,
        "xColumns": null,
        "yColumns": null
       },
       "removedWidgets": [],
       "schema": [
        {
         "metadata": "{}",
         "name": "camera_name",
         "type": "\"string\""
        },
        {
         "metadata": "{}",
         "name": "year",
         "type": "\"long\""
        },
        {
         "metadata": "{}",
         "name": "month",
         "type": "\"long\""
        },
        {
         "metadata": "{}",
         "name": "day",
         "type": "\"long\""
        },
        {
         "metadata": "{}",
         "name": "up_load_image_num",
         "type": "\"long\""
        },
        {
         "metadata": "{}",
         "name": "positive",
         "type": "\"long\""
        },
        {
         "metadata": "{}",
         "name": "negative",
         "type": "\"long\""
        }
       ],
       "type": "table"
      }
     },
     "output_type": "display_data"
    }
   ],
   "source": [
    "cameras = dbutils.fs.ls(file_location)\n",
    "data = [] # camera_name , year , month , day , count \n",
    "for camera in cameras:\n",
    "  camera_name = camera[1]\n",
    "  img_location = file_location + camera_name  + yesterday# wasbs://espdata@gw2data2lake2storage.blob.core.windows.net/00000000000000T/\n",
    "  camera_name = camera_name.replace('/','')\n",
    "  try:\n",
    "    img = dbutils.fs.ls(img_location)\n",
    "    # read positive & negtive\n",
    "    df = spark.read.format(\"json\").load(img_location)\n",
    "    df = df.toPandas()\n",
    "    positive , negative = df[df['score'] >= 125] , df[df['score'] < 125]\n",
    "    row = []\n",
    "    row.extend([camera_name,year,month,day,len(img),int(positive.count()[0]),int(negative.count()[0])])\n",
    "    data.append(row)\n",
    "  except:\n",
    "    row = []\n",
    "    row.extend([camera_name,year,month,day,0,0,0])\n",
    "    data.append(row)\n",
    "data_final = pd.DataFrame(data,columns = ['camera_name' , 'year' , 'month' , 'day' , 'up_load_image_num','positive','negative'])\n",
    "display(data_final)\n",
    "\n",
    "\n",
    "# convert into spark df\n",
    "cc=data_final.values.tolist()\n",
    "dd=list(data_final.columns)\n",
    "spark_df  = spark.createDataFrame(cc, dd)"
   ]
  },
  {
   "cell_type": "code",
   "execution_count": 0,
   "metadata": {
    "application/vnd.databricks.v1+cell": {
     "inputWidgets": {},
     "nuid": "e7c79c57-e560-4475-a0ed-e38cac069b4e",
     "showTitle": false,
     "title": ""
    }
   },
   "outputs": [
    {
     "data": {
      "text/html": [
       "<style scoped>\n",
       "  .ansiout {\n",
       "    display: block;\n",
       "    unicode-bidi: embed;\n",
       "    white-space: pre-wrap;\n",
       "    word-wrap: break-word;\n",
       "    word-break: break-all;\n",
       "    font-family: \"Source Code Pro\", \"Menlo\", monospace;;\n",
       "    font-size: 13px;\n",
       "    color: #555;\n",
       "    margin-left: 4px;\n",
       "    line-height: 19px;\n",
       "  }\n",
       "</style>\n",
       "<div class=\"ansiout\">Out[51]: DataFrame[]</div>"
      ]
     },
     "metadata": {
      "application/vnd.databricks.v1+output": {
       "addedWidgets": {},
       "arguments": {},
       "data": "<div class=\"ansiout\">Out[51]: DataFrame[]</div>",
       "datasetInfos": [],
       "removedWidgets": [],
       "type": "html"
      }
     },
     "output_type": "display_data"
    }
   ],
   "source": [
    "spark.sql(\"drop table if exists cameraStatus_yesterday\")"
   ]
  },
  {
   "cell_type": "code",
   "execution_count": 0,
   "metadata": {
    "application/vnd.databricks.v1+cell": {
     "inputWidgets": {},
     "nuid": "b94db157-0ab9-498d-ab73-15344f430386",
     "showTitle": false,
     "title": ""
    }
   },
   "outputs": [
    {
     "data": {
      "text/html": [
       "<style scoped>\n",
       "  .ansiout {\n",
       "    display: block;\n",
       "    unicode-bidi: embed;\n",
       "    white-space: pre-wrap;\n",
       "    word-wrap: break-word;\n",
       "    word-break: break-all;\n",
       "    font-family: \"Source Code Pro\", \"Menlo\", monospace;;\n",
       "    font-size: 13px;\n",
       "    color: #555;\n",
       "    margin-left: 4px;\n",
       "    line-height: 19px;\n",
       "  }\n",
       "</style>\n",
       "<div class=\"ansiout\"></div>"
      ]
     },
     "metadata": {
      "application/vnd.databricks.v1+output": {
       "addedWidgets": {},
       "arguments": {},
       "data": "<div class=\"ansiout\"></div>",
       "datasetInfos": [],
       "removedWidgets": [],
       "type": "html"
      }
     },
     "output_type": "display_data"
    }
   ],
   "source": [
    "spark_df.write.saveAsTable(\"cameraStatus_yesterday\")"
   ]
  },
  {
   "cell_type": "code",
   "execution_count": 0,
   "metadata": {
    "application/vnd.databricks.v1+cell": {
     "inputWidgets": {},
     "nuid": "cfb4cf36-f0b3-450b-ada4-9968a582c5b8",
     "showTitle": false,
     "title": ""
    }
   },
   "outputs": [
    {
     "data": {
      "text/html": [
       "<style scoped>\n",
       "  .ansiout {\n",
       "    display: block;\n",
       "    unicode-bidi: embed;\n",
       "    white-space: pre-wrap;\n",
       "    word-wrap: break-word;\n",
       "    word-break: break-all;\n",
       "    font-family: \"Source Code Pro\", \"Menlo\", monospace;;\n",
       "    font-size: 13px;\n",
       "    color: #555;\n",
       "    margin-left: 4px;\n",
       "    line-height: 19px;\n",
       "  }\n",
       "</style>\n",
       "<div class=\"ansiout\"></div>"
      ]
     },
     "metadata": {
      "application/vnd.databricks.v1+output": {
       "addedWidgets": {},
       "arguments": {},
       "data": "<div class=\"ansiout\"></div>",
       "datasetInfos": [],
       "removedWidgets": [],
       "type": "html"
      }
     },
     "output_type": "display_data"
    }
   ],
   "source": [
    "# spark_df.write.format(\"parquet\").mode('append').save(\"cameraStatus_yesterday\")"
   ]
  },
  {
   "cell_type": "code",
   "execution_count": 0,
   "metadata": {
    "application/vnd.databricks.v1+cell": {
     "inputWidgets": {},
     "nuid": "a7176163-c17d-4870-b748-88ce3028187a",
     "showTitle": false,
     "title": ""
    }
   },
   "outputs": [
    {
     "data": {
      "text/html": [
       "<style scoped>\n",
       "  .ansiout {\n",
       "    display: block;\n",
       "    unicode-bidi: embed;\n",
       "    white-space: pre-wrap;\n",
       "    word-wrap: break-word;\n",
       "    word-break: break-all;\n",
       "    font-family: \"Source Code Pro\", \"Menlo\", monospace;;\n",
       "    font-size: 13px;\n",
       "    color: #555;\n",
       "    margin-left: 4px;\n",
       "    line-height: 19px;\n",
       "  }\n",
       "</style>\n",
       "<div class=\"ansiout\"></div>"
      ]
     },
     "metadata": {
      "application/vnd.databricks.v1+output": {
       "addedWidgets": {},
       "arguments": {},
       "data": "<div class=\"ansiout\"></div>",
       "datasetInfos": [],
       "removedWidgets": [],
       "type": "html"
      }
     },
     "output_type": "display_data"
    }
   ],
   "source": [
    "# def read(): \n",
    "#   data = spark.read.format(\"json\").load(\"wasbs://espdata@gw2data2lake2storage.blob.core.windows.net/0000000000EB9B/2021/4/6/\")\n",
    "#   data = data.toPandas()\n",
    "#   return data\n",
    "# for i in range(1):\n",
    "# #   image_path = location_path +\"/\" + i[1]\n",
    "#   p.apply_async(read())\n",
    "#   display(data)"
   ]
  }
 ],
 "metadata": {
  "application/vnd.databricks.v1+notebook": {
   "dashboards": [],
   "language": "python",
   "notebookMetadata": {
    "pythonIndentUnit": 2
   },
   "notebookName": "every_day_camera_status2",
   "notebookOrigID": 2932627135154044,
   "widgets": {}
  },
  "kernelspec": {
   "display_name": "Python 3",
   "language": "python",
   "name": "python3"
  },
  "language_info": {
   "codemirror_mode": {
    "name": "ipython",
    "version": 3
   },
   "file_extension": ".py",
   "mimetype": "text/x-python",
   "name": "python",
   "nbconvert_exporter": "python",
   "pygments_lexer": "ipython3",
   "version": "3.8.3"
  }
 },
 "nbformat": 4,
 "nbformat_minor": 1
}
