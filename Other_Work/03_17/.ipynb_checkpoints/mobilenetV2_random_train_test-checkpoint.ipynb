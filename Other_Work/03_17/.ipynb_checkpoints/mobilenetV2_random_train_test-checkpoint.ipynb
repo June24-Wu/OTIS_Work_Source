{
 "cells": [
  {
   "cell_type": "code",
   "execution_count": 2,
   "metadata": {
    "ExecuteTime": {
     "end_time": "2021-03-17T04:20:11.325951Z",
     "start_time": "2021-03-17T04:19:34.532762Z"
    },
    "application/vnd.databricks.v1+cell": {
     "inputWidgets": {},
     "nuid": "d2aca74f-2f2d-4475-aee5-19061ce67bc6",
     "showTitle": false,
     "title": ""
    }
   },
   "outputs": [],
   "source": [
    "import tensorflow as tf\n",
    "from tensorflow.keras import layers\n",
    "from PIL import Image\n",
    "import os\n",
    "import pathlib\n",
    "import numpy as np\n",
    "import pathlib\n",
    "import shutil\n",
    "import os\n",
    "import cv2\n",
    "import numpy as np "
   ]
  },
  {
   "cell_type": "code",
   "execution_count": 3,
   "metadata": {
    "ExecuteTime": {
     "end_time": "2021-03-17T04:20:11.349749Z",
     "start_time": "2021-03-17T04:20:11.328806Z"
    }
   },
   "outputs": [
    {
     "data": {
      "text/plain": [
       "['.DS_Store', '._.DS_Store', 'negative', 'positive']"
      ]
     },
     "execution_count": 3,
     "metadata": {},
     "output_type": "execute_result"
    }
   ],
   "source": [
    "path = r'D:\\PyCharmproject\\OTIS\\03_17\\training_01_18_relabel_2_resize'\n",
    "files_name = os.listdir(path)\n",
    "files_name = ['negetive','positive']\n",
    "data = []\n",
    "y = []\n",
    "for count , files in enumerate(files_name):\n",
    "    sub_path = path + \"\\\\\" + files\n",
    "    sub_files_name = os.listdir(sub_path)\n",
    "    for image_path in sub_files_name:\n",
    "        image_path = sub_path + \"\\\\\" + image_path\n",
    "        image = np.array(cv2.imread(image_path))\n",
    "#         image = cv2.resize(image,(32,32)).flatten()\n",
    "        data.append(image)\n",
    "        y.append(files)\n",
    "print(y)\n",
    "x = np.array(data,dtype = 'float') / 255\n",
    "y = np.array(y)"
   ]
  },
  {
   "cell_type": "code",
   "execution_count": 0,
   "metadata": {
    "application/vnd.databricks.v1+cell": {
     "inputWidgets": {},
     "nuid": "c9656def-8fa9-4254-ae11-5c925b7b14ab",
     "showTitle": false,
     "title": ""
    }
   },
   "outputs": [
    {
     "data": {
      "text/html": [
       "<style scoped>\n",
       "  .ansiout {\n",
       "    display: block;\n",
       "    unicode-bidi: embed;\n",
       "    white-space: pre-wrap;\n",
       "    word-wrap: break-word;\n",
       "    word-break: break-all;\n",
       "    font-family: \"Source Code Pro\", \"Menlo\", monospace;;\n",
       "    font-size: 13px;\n",
       "    color: #555;\n",
       "    margin-left: 4px;\n",
       "    line-height: 19px;\n",
       "  }\n",
       "</style>\n",
       "<div class=\"ansiout\"></div>"
      ]
     },
     "metadata": {
      "application/vnd.databricks.v1+output": {
       "addedWidgets": {},
       "arguments": {},
       "data": "<div class=\"ansiout\"></div>",
       "datasetInfos": [],
       "removedWidgets": [],
       "type": "html"
      }
     },
     "output_type": "display_data"
    }
   ],
   "source": [
    "DATA_PATH = '/dbfs/FileStore/shared_uploads/lilian.lu@otis.com/images/training_01_18_relabel_2_resize'\n",
    "# train_dir = pathlib.Path(DATA_PATH+'/training')\n",
    "# val_dir = pathlib.Path(DATA_PATH+'/val')\n",
    "\n",
    "# train_dir = dbutils.fs.ls(DATA_PATH+\"/train/\")\n",
    "# val_dir = dbutils.fs.ls(DATA_PATH+\"/val/\")\n",
    "batch_size = 128\n",
    "img_height = 120\n",
    "img_width = 160\n",
    "\n",
    "resized_height = 120\n",
    "resized_width = 160\n",
    "\n",
    "# IMG_SHAPE = (224, 224, 3)\n",
    "CLASS_PEOPLE = \"/dbfs/FileStore/shared_uploads/lilian.lu@otis.com/training/people_class\"\n",
    "num_classes = 2\n",
    "NUM_EPOCHS = 120\n",
    "seed = 12\n",
    "log_dir = \"/dbfs/FileStore/shared_uploads/lilian.lu@otis.com/logs\"\n",
    "\n",
    "STEPS_PER_EPOCH = 1508 //batch_size"
   ]
  },
  {
   "cell_type": "code",
   "execution_count": 0,
   "metadata": {
    "application/vnd.databricks.v1+cell": {
     "inputWidgets": {},
     "nuid": "99ce880e-5476-4f8e-b471-653a76a034d4",
     "showTitle": false,
     "title": ""
    }
   },
   "outputs": [
    {
     "data": {
      "text/html": [
       "<style scoped>\n",
       "  .ansiout {\n",
       "    display: block;\n",
       "    unicode-bidi: embed;\n",
       "    white-space: pre-wrap;\n",
       "    word-wrap: break-word;\n",
       "    word-break: break-all;\n",
       "    font-family: \"Source Code Pro\", \"Menlo\", monospace;;\n",
       "    font-size: 13px;\n",
       "    color: #555;\n",
       "    margin-left: 4px;\n",
       "    line-height: 19px;\n",
       "  }\n",
       "</style>\n",
       "<div class=\"ansiout\">Found 7910 files belonging to 2 classes.\n",
       "Using 6328 files for training.\n",
       "Found 7910 files belonging to 2 classes.\n",
       "Using 1582 files for validation.\n",
       "</div>"
      ]
     },
     "metadata": {
      "application/vnd.databricks.v1+output": {
       "addedWidgets": {},
       "arguments": {},
       "data": "<div class=\"ansiout\">Found 7910 files belonging to 2 classes.\nUsing 6328 files for training.\nFound 7910 files belonging to 2 classes.\nUsing 1582 files for validation.\n</div>",
       "datasetInfos": [],
       "removedWidgets": [],
       "type": "html"
      }
     },
     "output_type": "display_data"
    }
   ],
   "source": [
    "AUTOTUNE = tf.data.experimental.AUTOTUNE\n",
    "data_augmentation = tf.keras.Sequential([\n",
    "#   layers.experimental.preprocessing.RandomFlip(\"horizontal_and_vertical\"),\n",
    "  layers.experimental.preprocessing.RandomFlip(\"horizontal\"),\n",
    "  layers.experimental.preprocessing.RandomRotation(0.2),\n",
    "  layers.experimental.preprocessing.RandomZoom(0.2),\n",
    "  layers.experimental.preprocessing.RandomContrast(0.2),\n",
    "#   layers.experimental.preprocessing.RandomContrast(0.2),\n",
    "])\n",
    "\n",
    "resize = tf.keras.layers.experimental.preprocessing.Resizing(resized_height, resized_width)\n",
    "\n",
    "def preprocess_input(image):\n",
    "    return (image/127.5) - 1\n",
    "\n",
    "train_ds = tf.keras.preprocessing.image_dataset_from_directory(\n",
    "  DATA_PATH,\n",
    "  seed=seed,\n",
    "  shuffle=True,\n",
    "  validation_split=0.2,\n",
    "  subset='training',\n",
    "  image_size=(img_height, img_width),\n",
    "  batch_size=batch_size)\n",
    "train_ds = train_ds.cache().prefetch(buffer_size=AUTOTUNE)\n",
    "\n",
    "\n",
    "train_ds = train_ds.map(\n",
    "  lambda x, y: (data_augmentation(x, training=True), y))\n",
    "\n",
    "# train_ds = train_ds.map(\n",
    "#   lambda x, y: (resize(x), y))\n",
    "\n",
    "train_ds = train_ds.map(\n",
    "  lambda x, y: (preprocess_input(x), y))\n",
    "\n",
    "\n",
    "val_ds = tf.keras.preprocessing.image_dataset_from_directory(\n",
    "  DATA_PATH,\n",
    "  seed=seed,\n",
    "  shuffle=True,\n",
    "  validation_split=0.2,\n",
    "  subset='validation',\n",
    "  image_size=(img_height, img_width),\n",
    "  batch_size=batch_size)\n",
    "val_ds = val_ds.cache().prefetch(buffer_size=AUTOTUNE)\n",
    "\n",
    "# val_ds = val_ds.map(\n",
    "#   lambda x, y: (resize(x), y))\n",
    "\n",
    "val_ds = val_ds.map(\n",
    "  lambda x, y: (preprocess_input(x), y))\n",
    "# val_ds.prefech(tf.data.AUTOTUNE)"
   ]
  },
  {
   "cell_type": "code",
   "execution_count": 0,
   "metadata": {
    "application/vnd.databricks.v1+cell": {
     "inputWidgets": {},
     "nuid": "7147ed03-a019-4d5d-bdba-633d203b0df3",
     "showTitle": false,
     "title": ""
    }
   },
   "outputs": [
    {
     "data": {
      "text/html": [
       "<style scoped>\n",
       "  .ansiout {\n",
       "    display: block;\n",
       "    unicode-bidi: embed;\n",
       "    white-space: pre-wrap;\n",
       "    word-wrap: break-word;\n",
       "    word-break: break-all;\n",
       "    font-family: \"Source Code Pro\", \"Menlo\", monospace;;\n",
       "    font-size: 13px;\n",
       "    color: #555;\n",
       "    margin-left: 4px;\n",
       "    line-height: 19px;\n",
       "  }\n",
       "</style>\n",
       "<div class=\"ansiout\"></div>"
      ]
     },
     "metadata": {
      "application/vnd.databricks.v1+output": {
       "addedWidgets": {},
       "arguments": {},
       "data": "<div class=\"ansiout\"></div>",
       "datasetInfos": [],
       "removedWidgets": [],
       "type": "html"
      }
     },
     "output_type": "display_data"
    }
   ],
   "source": [
    "# initial_learning_rate = 0.001\n",
    "# lr_schedule = tf.keras.optimizers.schedules.ExponentialDecay(\n",
    "#     initial_learning_rate,\n",
    "#     decay_steps=10000,\n",
    "#     decay_rate=0.96,\n",
    "#     staircase=True)"
   ]
  },
  {
   "cell_type": "code",
   "execution_count": 0,
   "metadata": {
    "application/vnd.databricks.v1+cell": {
     "inputWidgets": {},
     "nuid": "fdecf590-69e1-4548-be8e-746ec23f9612",
     "showTitle": false,
     "title": ""
    }
   },
   "outputs": [
    {
     "data": {
      "text/html": [
       "<style scoped>\n",
       "  .ansiout {\n",
       "    display: block;\n",
       "    unicode-bidi: embed;\n",
       "    white-space: pre-wrap;\n",
       "    word-wrap: break-word;\n",
       "    word-break: break-all;\n",
       "    font-family: \"Source Code Pro\", \"Menlo\", monospace;;\n",
       "    font-size: 13px;\n",
       "    color: #555;\n",
       "    margin-left: 4px;\n",
       "    line-height: 19px;\n",
       "  }\n",
       "</style>\n",
       "<div class=\"ansiout\"></div>"
      ]
     },
     "metadata": {
      "application/vnd.databricks.v1+output": {
       "addedWidgets": {},
       "arguments": {},
       "data": "<div class=\"ansiout\"></div>",
       "datasetInfos": [],
       "removedWidgets": [],
       "type": "html"
      }
     },
     "output_type": "display_data"
    }
   ],
   "source": [
    "class CustomLearningRateScheduler(tf.keras.callbacks.Callback):\n",
    "    \"\"\"Learning rate scheduler which sets the learning rate according to schedule.\n",
    "\n",
    "  Arguments:\n",
    "      schedule: a function that takes an epoch index\n",
    "          (integer, indexed from 0) and current learning rate\n",
    "          as inputs and returns a new learning rate as output (float).\n",
    "  \"\"\"\n",
    "\n",
    "    def __init__(self, schedule):\n",
    "        super(CustomLearningRateScheduler, self).__init__()\n",
    "        self.schedule = schedule\n",
    "\n",
    "    def on_epoch_begin(self, epoch, logs=None):\n",
    "        if not hasattr(self.model.optimizer, \"lr\"):\n",
    "            raise ValueError('Optimizer must have a \"lr\" attribute.')\n",
    "        # Get the current learning rate from model's optimizer.\n",
    "        lr = float(tf.keras.backend.get_value(self.model.optimizer.learning_rate))\n",
    "        # Call schedule function to get the scheduled learning rate.\n",
    "        scheduled_lr = self.schedule(epoch, lr)\n",
    "        # Set the value back to the optimizer before this epoch starts\n",
    "        tf.keras.backend.set_value(self.model.optimizer.lr, scheduled_lr)\n",
    "        print(\"\\nEpoch %05d: Learning rate is %6.4f.\" % (epoch, scheduled_lr))\n",
    "\n",
    "\n",
    "LR_SCHEDULE = [\n",
    "    # (epoch to start, learning rate) tuples\n",
    "    (10, 0.005),\n",
    "    (30, 0.001),\n",
    "    (50, 0.0005)\n",
    "]\n",
    "\n",
    "\n",
    "def lr_schedule(epoch, lr):\n",
    "    \"\"\"Helper function to retrieve the scheduled learning rate based on epoch.\"\"\"\n",
    "    if epoch < LR_SCHEDULE[0][0] or epoch > LR_SCHEDULE[-1][0]:\n",
    "        return lr\n",
    "    for i in range(len(LR_SCHEDULE)):\n",
    "        if epoch == LR_SCHEDULE[i][0]:\n",
    "            return LR_SCHEDULE[i][1]\n",
    "    return lr"
   ]
  },
  {
   "cell_type": "code",
   "execution_count": 0,
   "metadata": {
    "application/vnd.databricks.v1+cell": {
     "inputWidgets": {},
     "nuid": "efb76772-5ba0-4868-9d28-45bd917b4836",
     "showTitle": false,
     "title": ""
    }
   },
   "outputs": [
    {
     "data": {
      "text/html": [
       "<style scoped>\n",
       "  .ansiout {\n",
       "    display: block;\n",
       "    unicode-bidi: embed;\n",
       "    white-space: pre-wrap;\n",
       "    word-wrap: break-word;\n",
       "    word-break: break-all;\n",
       "    font-family: \"Source Code Pro\", \"Menlo\", monospace;;\n",
       "    font-size: 13px;\n",
       "    color: #555;\n",
       "    margin-left: 4px;\n",
       "    line-height: 19px;\n",
       "  }\n",
       "</style>\n",
       "<div class=\"ansiout\"></div>"
      ]
     },
     "metadata": {
      "application/vnd.databricks.v1+output": {
       "addedWidgets": {},
       "arguments": {},
       "data": "<div class=\"ansiout\"></div>",
       "datasetInfos": [],
       "removedWidgets": [],
       "type": "html"
      }
     },
     "output_type": "display_data"
    }
   ],
   "source": [
    "def get_model(lr=0.001, alpha=0.35):\n",
    "    base_model = tf.keras.applications.MobileNetV2(\n",
    "        input_shape=(img_height, img_width, 3),\n",
    "        include_top=False, weights='imagenet', alpha=alpha)\n",
    "#     base_model.trainable = False\n",
    "    base_model.trainable = True\n",
    "    # Add a new classifier layer for transfer learning\n",
    "    global_average_layer = tf.keras.layers.GlobalAveragePooling2D()\n",
    "    dropout = tf.keras.layers.Dropout(0.2)\n",
    "    prediction_layer = tf.keras.layers.Dense(num_classes, activation='softmax')\n",
    "#     prediction_layer = tf.keras.layers.Dense(1, activation='softmax')\n",
    "  \n",
    "    model = tf.keras.Sequential([\n",
    "      base_model,\n",
    "      global_average_layer,\n",
    "      dropout,\n",
    "      prediction_layer\n",
    "    ])\n",
    "    return model\n",
    "  \n",
    "def get_compiled_model(alpha=0.35, lr=0.001):\n",
    "    model = get_model(lr, alpha)\n",
    "#     lr = learning_rate = CustomSchedule(2)\n",
    "    model.compile(\n",
    "                optimizer=tf.keras.optimizers.SGD(learning_rate=lr, momentum=0.9),\n",
    "#                 optimizer=tf.keras.optimizers.SGD(learning_rate=0.01),\n",
    "                loss=tf.keras.losses.SparseCategoricalCrossentropy(from_logits=True),\n",
    "                metrics=['accuracy'])\n",
    "    return model"
   ]
  },
  {
   "cell_type": "code",
   "execution_count": 0,
   "metadata": {
    "application/vnd.databricks.v1+cell": {
     "inputWidgets": {},
     "nuid": "36b6f893-7f0c-41ec-b049-985d42543ba7",
     "showTitle": false,
     "title": ""
    }
   },
   "outputs": [
    {
     "data": {
      "text/html": [
       "<style scoped>\n",
       "  .ansiout {\n",
       "    display: block;\n",
       "    unicode-bidi: embed;\n",
       "    white-space: pre-wrap;\n",
       "    word-wrap: break-word;\n",
       "    word-break: break-all;\n",
       "    font-family: \"Source Code Pro\", \"Menlo\", monospace;;\n",
       "    font-size: 13px;\n",
       "    color: #555;\n",
       "    margin-left: 4px;\n",
       "    line-height: 19px;\n",
       "  }\n",
       "</style>\n",
       "<div class=\"ansiout\"></div>"
      ]
     },
     "metadata": {
      "application/vnd.databricks.v1+output": {
       "addedWidgets": {},
       "arguments": {},
       "data": "<div class=\"ansiout\"></div>",
       "datasetInfos": [],
       "removedWidgets": [],
       "type": "html"
      }
     },
     "output_type": "display_data"
    }
   ],
   "source": [
    "def train_and_evaluate(train_ds, val_ds, lr=0.001):\n",
    "    model = get_compiled_model()\n",
    "#     model = get_compiled_model_2()\n",
    "    checkpoint_path = \"/dbfs/FileStore/shared_uploads/lilian.lu@otis.com/training/cp-{epoch:04d}.ckpt\"\n",
    "    checkpoint_dir = os.path.dirname(checkpoint_path)\n",
    "    \n",
    "    model.save_weights(checkpoint_path.format(epoch=0))\n",
    "\n",
    "    # 创建一个保存模型权重的回调\n",
    "    cp_callback = tf.keras.callbacks.ModelCheckpoint(filepath=checkpoint_path,\n",
    "                                                     save_weights_only=True,\n",
    "                                                     verbose=1)\n",
    "#                                                      save_freq=5)\n",
    "    early_stop = tf.keras.callbacks.EarlyStopping(monitor='accuracy', patience=10)\n",
    "    board_callback = tf.keras.callbacks.TensorBoard(\n",
    "        log_dir=log_dir,\n",
    "        histogram_freq=0,  # How often to log histogram visualizations\n",
    "        embeddings_freq=0,  # How often to log embedding visualizations\n",
    "        update_freq=\"epoch\",\n",
    "    )  # How often to write logs (default: once per epoch)\n",
    "    \n",
    "#     steps_per_epoch = len(train_ds) // batch_size\n",
    "    hist = model.fit(train_ds, \n",
    "#                      steps_per_epoch=steps_per_epoch,\n",
    "                     epochs=NUM_EPOCHS,\n",
    "                     validation_data=val_ds,\n",
    "#                      class_weight={0:0.3, 1:0.7},\n",
    "#                      validation_steps=validation_steps,\n",
    "                     verbose=2,\n",
    "                     callbacks=[\n",
    "                       cp_callback, \n",
    "                       board_callback, \n",
    "                       early_stop,\n",
    "#                        CustomLearningRateScheduler(lr_schedule),\n",
    "                     ])\n",
    "#     model.save('saved_model/my_model')\n",
    "    return hist,model"
   ]
  },
  {
   "cell_type": "code",
   "execution_count": 0,
   "metadata": {
    "application/vnd.databricks.v1+cell": {
     "inputWidgets": {},
     "nuid": "4e02e922-b7c8-4368-af37-78a199f4b31c",
     "showTitle": false,
     "title": ""
    }
   },
   "outputs": [
    {
     "data": {
      "text/html": [
       "<style scoped>\n",
       "  .ansiout {\n",
       "    display: block;\n",
       "    unicode-bidi: embed;\n",
       "    white-space: pre-wrap;\n",
       "    word-wrap: break-word;\n",
       "    word-break: break-all;\n",
       "    font-family: \"Source Code Pro\", \"Menlo\", monospace;;\n",
       "    font-size: 13px;\n",
       "    color: #555;\n",
       "    margin-left: 4px;\n",
       "    line-height: 19px;\n",
       "  }\n",
       "</style>\n",
       "<div class=\"ansiout\">[]\n",
       "</div>"
      ]
     },
     "metadata": {
      "application/vnd.databricks.v1+output": {
       "addedWidgets": {},
       "arguments": {},
       "data": "<div class=\"ansiout\">[]\n</div>",
       "datasetInfos": [],
       "removedWidgets": [],
       "type": "html"
      }
     },
     "output_type": "display_data"
    }
   ],
   "source": [
    "gpus = tf.config.experimental.list_physical_devices('GPU')\n",
    "print(gpus)\n",
    "if gpus:\n",
    "  # Restrict TensorFlow to only allocate 1GB of memory on the first GPU\n",
    "  try:\n",
    "    for gpu in gpus:\n",
    "#       tf.config.experimental.set_memory_growth(gpu, True)\n",
    "      print('yes')\n",
    "#     tf.config.experimental.set_virtual_device_configuration(\n",
    "#         gpus[0],\n",
    "#         [tf.config.experimental.VirtualDeviceConfiguration(memory_limit=1024)])\n",
    "    logical_gpus = tf.config.experimental.list_logical_devices('GPU')\n",
    "    print(len(gpus), \"Physical GPUs,\", len(logical_gpus), \"Logical GPUs\")\n",
    "  except RuntimeError as e:\n",
    "    # Virtual devices must be set before GPUs have been initialized\n",
    "    print(e)"
   ]
  },
  {
   "cell_type": "code",
   "execution_count": 0,
   "metadata": {
    "application/vnd.databricks.v1+cell": {
     "inputWidgets": {},
     "nuid": "d82f6f97-cdd4-41dc-afec-12b0b69e0a34",
     "showTitle": false,
     "title": ""
    }
   },
   "outputs": [
    {
     "data": {
      "text/html": [
       "<style scoped>\n",
       "  .ansiout {\n",
       "    display: block;\n",
       "    unicode-bidi: embed;\n",
       "    white-space: pre-wrap;\n",
       "    word-wrap: break-word;\n",
       "    word-break: break-all;\n",
       "    font-family: \"Source Code Pro\", \"Menlo\", monospace;;\n",
       "    font-size: 13px;\n",
       "    color: #555;\n",
       "    margin-left: 4px;\n",
       "    line-height: 19px;\n",
       "  }\n",
       "</style>\n",
       "<div class=\"ansiout\">WARNING:tensorflow:There are non-GPU devices in `tf.distribute.Strategy`, not using nccl allreduce.\n",
       "INFO:tensorflow:Using MirroredStrategy with devices (&#39;/job:localhost/replica:0/task:0/device:CPU:0&#39;,)\n",
       "WARNING:tensorflow:`input_shape` is undefined or non-square, or `rows` is not in [96, 128, 160, 192, 224]. Weights for input shape (224, 224) will be loaded as the default.\n",
       "Downloading data from https://storage.googleapis.com/tensorflow/keras-applications/mobilenet_v2/mobilenet_v2_weights_tf_dim_ordering_tf_kernels_0.35_224_no_top.h5\n",
       "\r",
       "   8192/2019640 [..............................] - ETA: 0s\b\b\b\b\b\b\b\b\b\b\b\b\b\b\b\b\b\b\b\b\b\b\b\b\b\b\b\b\b\b\b\b\b\b\b\b\b\b\b\b\b\b\b\b\b\b\b\b\b\b\b\b\b\b\b\b\b\b\r",
       "2023424/2019640 [==============================] - 0s 0us/step\n",
       "Epoch 1/120\n",
       "50/50 - 121s - loss: 0.6388 - accuracy: 0.6675 - val_loss: 0.5838 - val_accuracy: 0.7307\n",
       "\n",
       "Epoch 00001: saving model to /dbfs/FileStore/shared_uploads/lilian.lu@otis.com/training/cp-0001.ckpt\n",
       "Epoch 2/120\n",
       "50/50 - 38s - loss: 0.4105 - accuracy: 0.8135 - val_loss: 0.4887 - val_accuracy: 0.7541\n",
       "\n",
       "Epoch 00002: saving model to /dbfs/FileStore/shared_uploads/lilian.lu@otis.com/training/cp-0002.ckpt\n",
       "Epoch 3/120\n",
       "50/50 - 38s - loss: 0.3083 - accuracy: 0.8699 - val_loss: 0.4557 - val_accuracy: 0.7876\n",
       "\n",
       "Epoch 00003: saving model to /dbfs/FileStore/shared_uploads/lilian.lu@otis.com/training/cp-0003.ckpt\n",
       "Epoch 4/120\n",
       "50/50 - 38s - loss: 0.2533 - accuracy: 0.8966 - val_loss: 0.7012 - val_accuracy: 0.7686\n",
       "\n",
       "Epoch 00004: saving model to /dbfs/FileStore/shared_uploads/lilian.lu@otis.com/training/cp-0004.ckpt\n",
       "Epoch 5/120\n",
       "50/50 - 37s - loss: 0.2107 - accuracy: 0.9166 - val_loss: 0.7804 - val_accuracy: 0.7541\n",
       "\n",
       "Epoch 00005: saving model to /dbfs/FileStore/shared_uploads/lilian.lu@otis.com/training/cp-0005.ckpt\n",
       "Epoch 6/120\n",
       "50/50 - 37s - loss: 0.1738 - accuracy: 0.9325 - val_loss: 0.8044 - val_accuracy: 0.7623\n",
       "\n",
       "Epoch 00006: saving model to /dbfs/FileStore/shared_uploads/lilian.lu@otis.com/training/cp-0006.ckpt\n",
       "Epoch 7/120\n",
       "50/50 - 38s - loss: 0.1510 - accuracy: 0.9444 - val_loss: 0.6016 - val_accuracy: 0.8028\n",
       "\n",
       "Epoch 00007: saving model to /dbfs/FileStore/shared_uploads/lilian.lu@otis.com/training/cp-0007.ckpt\n",
       "Epoch 8/120\n",
       "50/50 - 38s - loss: 0.1521 - accuracy: 0.9436 - val_loss: 0.4183 - val_accuracy: 0.8515\n",
       "\n",
       "Epoch 00008: saving model to /dbfs/FileStore/shared_uploads/lilian.lu@otis.com/training/cp-0008.ckpt\n",
       "Epoch 9/120\n",
       "50/50 - 37s - loss: 0.1398 - accuracy: 0.9490 - val_loss: 0.3766 - val_accuracy: 0.8603\n",
       "\n",
       "Epoch 00009: saving model to /dbfs/FileStore/shared_uploads/lilian.lu@otis.com/training/cp-0009.ckpt\n",
       "Epoch 10/120\n",
       "50/50 - 37s - loss: 0.1229 - accuracy: 0.9551 - val_loss: 0.4062 - val_accuracy: 0.8824\n",
       "\n",
       "Epoch 00010: saving model to /dbfs/FileStore/shared_uploads/lilian.lu@otis.com/training/cp-0010.ckpt\n",
       "Epoch 11/120\n",
       "50/50 - 38s - loss: 0.1147 - accuracy: 0.9569 - val_loss: 0.4428 - val_accuracy: 0.8660\n",
       "\n",
       "Epoch 00011: saving model to /dbfs/FileStore/shared_uploads/lilian.lu@otis.com/training/cp-0011.ckpt\n",
       "Epoch 12/120\n",
       "50/50 - 38s - loss: 0.1112 - accuracy: 0.9599 - val_loss: 0.6649 - val_accuracy: 0.7756\n",
       "\n",
       "Epoch 00012: saving model to /dbfs/FileStore/shared_uploads/lilian.lu@otis.com/training/cp-0012.ckpt\n",
       "Epoch 13/120\n",
       "50/50 - 38s - loss: 0.0998 - accuracy: 0.9637 - val_loss: 0.5001 - val_accuracy: 0.8325\n",
       "\n",
       "Epoch 00013: saving model to /dbfs/FileStore/shared_uploads/lilian.lu@otis.com/training/cp-0013.ckpt\n",
       "Epoch 14/120\n",
       "50/50 - 38s - loss: 0.0955 - accuracy: 0.9678 - val_loss: 0.4740 - val_accuracy: 0.8357\n",
       "\n",
       "Epoch 00014: saving model to /dbfs/FileStore/shared_uploads/lilian.lu@otis.com/training/cp-0014.ckpt\n",
       "Epoch 15/120\n",
       "50/50 - 38s - loss: 0.0939 - accuracy: 0.9662 - val_loss: 0.3330 - val_accuracy: 0.8906\n",
       "\n",
       "Epoch 00015: saving model to /dbfs/FileStore/shared_uploads/lilian.lu@otis.com/training/cp-0015.ckpt\n",
       "Epoch 16/120\n",
       "50/50 - 38s - loss: 0.0924 - accuracy: 0.9663 - val_loss: 0.3268 - val_accuracy: 0.8887\n",
       "\n",
       "Epoch 00016: saving model to /dbfs/FileStore/shared_uploads/lilian.lu@otis.com/training/cp-0016.ckpt\n",
       "Epoch 17/120\n",
       "50/50 - 38s - loss: 0.0846 - accuracy: 0.9689 - val_loss: 0.4899 - val_accuracy: 0.8508\n",
       "\n",
       "Epoch 00017: saving model to /dbfs/FileStore/shared_uploads/lilian.lu@otis.com/training/cp-0017.ckpt\n",
       "Epoch 18/120\n",
       "50/50 - 38s - loss: 0.0848 - accuracy: 0.9690 - val_loss: 0.3326 - val_accuracy: 0.8831\n",
       "\n",
       "Epoch 00018: saving model to /dbfs/FileStore/shared_uploads/lilian.lu@otis.com/training/cp-0018.ckpt\n",
       "Epoch 19/120\n",
       "50/50 - 38s - loss: 0.0777 - accuracy: 0.9719 - val_loss: 0.4294 - val_accuracy: 0.8654\n",
       "\n",
       "Epoch 00019: saving model to /dbfs/FileStore/shared_uploads/lilian.lu@otis.com/training/cp-0019.ckpt\n",
       "Epoch 20/120\n",
       "50/50 - 38s - loss: 0.0762 - accuracy: 0.9739 - val_loss: 0.4193 - val_accuracy: 0.8673\n",
       "\n",
       "Epoch 00020: saving model to /dbfs/FileStore/shared_uploads/lilian.lu@otis.com/training/cp-0020.ckpt\n",
       "Epoch 21/120\n",
       "50/50 - 38s - loss: 0.0727 - accuracy: 0.9738 - val_loss: 0.5283 - val_accuracy: 0.8357\n",
       "\n",
       "Epoch 00021: saving model to /dbfs/FileStore/shared_uploads/lilian.lu@otis.com/training/cp-0021.ckpt\n",
       "Epoch 22/120\n",
       "50/50 - 37s - loss: 0.0701 - accuracy: 0.9766 - val_loss: 0.4394 - val_accuracy: 0.8540\n",
       "\n",
       "Epoch 00022: saving model to /dbfs/FileStore/shared_uploads/lilian.lu@otis.com/training/cp-0022.ckpt\n",
       "Epoch 23/120\n",
       "50/50 - 38s - loss: 0.0722 - accuracy: 0.9757 - val_loss: 0.2953 - val_accuracy: 0.9001\n",
       "\n",
       "Epoch 00023: saving model to /dbfs/FileStore/shared_uploads/lilian.lu@otis.com/training/cp-0023.ckpt\n",
       "Epoch 24/120\n",
       "50/50 - 38s - loss: 0.0659 - accuracy: 0.9760 - val_loss: 0.3480 - val_accuracy: 0.8812\n",
       "\n",
       "Epoch 00024: saving model to /dbfs/FileStore/shared_uploads/lilian.lu@otis.com/training/cp-0024.ckpt\n",
       "Epoch 25/120\n",
       "50/50 - 38s - loss: 0.0687 - accuracy: 0.9768 - val_loss: 0.3171 - val_accuracy: 0.9046\n",
       "\n",
       "Epoch 00025: saving model to /dbfs/FileStore/shared_uploads/lilian.lu@otis.com/training/cp-0025.ckpt\n",
       "Epoch 26/120\n",
       "50/50 - 38s - loss: 0.0670 - accuracy: 0.9776 - val_loss: 0.2270 - val_accuracy: 0.9216\n",
       "\n",
       "Epoch 00026: saving model to /dbfs/FileStore/shared_uploads/lilian.lu@otis.com/training/cp-0026.ckpt\n",
       "Epoch 27/120\n",
       "50/50 - 38s - loss: 0.0673 - accuracy: 0.9772 - val_loss: 0.1941 - val_accuracy: 0.9324\n",
       "\n",
       "Epoch 00027: saving model to /dbfs/FileStore/shared_uploads/lilian.lu@otis.com/training/cp-0027.ckpt\n",
       "Epoch 28/120\n",
       "50/50 - 38s - loss: 0.0623 - accuracy: 0.9776 - val_loss: 0.1967 - val_accuracy: 0.9343\n",
       "\n",
       "Epoch 00028: saving model to /dbfs/FileStore/shared_uploads/lilian.lu@otis.com/training/cp-0028.ckpt\n",
       "Epoch 29/120\n",
       "50/50 - 38s - loss: 0.0631 - accuracy: 0.9766 - val_loss: 0.1443 - val_accuracy: 0.9507\n",
       "\n",
       "Epoch 00029: saving model to /dbfs/FileStore/shared_uploads/lilian.lu@otis.com/training/cp-0029.ckpt\n",
       "Epoch 30/120\n",
       "50/50 - 38s - loss: 0.0653 - accuracy: 0.9772 - val_loss: 0.1370 - val_accuracy: 0.9564\n",
       "\n",
       "Epoch 00030: saving model to /dbfs/FileStore/shared_uploads/lilian.lu@otis.com/training/cp-0030.ckpt\n",
       "Epoch 31/120\n",
       "50/50 - 38s - loss: 0.0627 - accuracy: 0.9785 - val_loss: 0.1202 - val_accuracy: 0.9583\n",
       "\n",
       "Epoch 00031: saving model to /dbfs/FileStore/shared_uploads/lilian.lu@otis.com/training/cp-0031.ckpt\n",
       "Epoch 32/120\n",
       "50/50 - 38s - loss: 0.0581 - accuracy: 0.9787 - val_loss: 0.1329 - val_accuracy: 0.9595\n",
       "\n",
       "Epoch 00032: saving model to /dbfs/FileStore/shared_uploads/lilian.lu@otis.com/training/cp-0032.ckpt\n",
       "Epoch 33/120\n",
       "50/50 - 38s - loss: 0.0532 - accuracy: 0.9817 - val_loss: 0.1726 - val_accuracy: 0.9469\n",
       "\n",
       "Epoch 00033: saving model to /dbfs/FileStore/shared_uploads/lilian.lu@otis.com/training/cp-0033.ckpt\n",
       "Epoch 34/120\n",
       "50/50 - 38s - loss: 0.0537 - accuracy: 0.9798 - val_loss: 0.1158 - val_accuracy: 0.9640\n",
       "\n",
       "Epoch 00034: saving model to /dbfs/FileStore/shared_uploads/lilian.lu@otis.com/training/cp-0034.ckpt\n",
       "Epoch 35/120\n",
       "50/50 - 38s - loss: 0.0498 - accuracy: 0.9821 - val_loss: 0.0970 - val_accuracy: 0.9697\n",
       "\n",
       "Epoch 00035: saving model to /dbfs/FileStore/shared_uploads/lilian.lu@otis.com/training/cp-0035.ckpt\n",
       "Epoch 36/120\n",
       "50/50 - 38s - loss: 0.0558 - accuracy: 0.9820 - val_loss: 0.1017 - val_accuracy: 0.9709\n",
       "\n",
       "Epoch 00036: saving model to /dbfs/FileStore/shared_uploads/lilian.lu@otis.com/training/cp-0036.ckpt\n",
       "Epoch 37/120\n",
       "50/50 - 38s - loss: 0.0544 - accuracy: 0.9836 - val_loss: 0.0866 - val_accuracy: 0.9753\n",
       "\n",
       "Epoch 00037: saving model to /dbfs/FileStore/shared_uploads/lilian.lu@otis.com/training/cp-0037.ckpt\n",
       "Epoch 38/120\n",
       "50/50 - 38s - loss: 0.0522 - accuracy: 0.9812 - val_loss: 0.0992 - val_accuracy: 0.9690\n",
       "\n",
       "Epoch 00038: saving model to /dbfs/FileStore/shared_uploads/lilian.lu@otis.com/training/cp-0038.ckpt\n",
       "Epoch 39/120\n",
       "50/50 - 38s - loss: 0.0530 - accuracy: 0.9806 - val_loss: 0.0884 - val_accuracy: 0.9741\n",
       "\n",
       "Epoch 00039: saving model to /dbfs/FileStore/shared_uploads/lilian.lu@otis.com/training/cp-0039.ckpt\n",
       "Epoch 40/120\n",
       "50/50 - 38s - loss: 0.0492 - accuracy: 0.9836 - val_loss: 0.0661 - val_accuracy: 0.9810\n",
       "\n",
       "Epoch 00040: saving model to /dbfs/FileStore/shared_uploads/lilian.lu@otis.com/training/cp-0040.ckpt\n",
       "Epoch 41/120\n",
       "50/50 - 38s - loss: 0.0452 - accuracy: 0.9851 - val_loss: 0.0670 - val_accuracy: 0.9817\n",
       "\n",
       "Epoch 00041: saving model to /dbfs/FileStore/shared_uploads/lilian.lu@otis.com/training/cp-0041.ckpt\n",
       "Epoch 42/120\n",
       "50/50 - 39s - loss: 0.0486 - accuracy: 0.9832 - val_loss: 0.0800 - val_accuracy: 0.9791\n",
       "\n",
       "Epoch 00042: saving model to /dbfs/FileStore/shared_uploads/lilian.lu@otis.com/training/cp-0042.ckpt\n",
       "Epoch 43/120\n",
       "50/50 - 38s - loss: 0.0497 - accuracy: 0.9842 - val_loss: 0.0771 - val_accuracy: 0.9760\n",
       "\n",
       "Epoch 00043: saving model to /dbfs/FileStore/shared_uploads/lilian.lu@otis.com/training/cp-0043.ckpt\n",
       "Epoch 44/120\n",
       "50/50 - 38s - loss: 0.0471 - accuracy: 0.9831 - val_loss: 0.0709 - val_accuracy: 0.9772\n",
       "\n",
       "Epoch 00044: saving model to /dbfs/FileStore/shared_uploads/lilian.lu@otis.com/training/cp-0044.ckpt\n",
       "Epoch 45/120\n",
       "50/50 - 38s - loss: 0.0481 - accuracy: 0.9839 - val_loss: 0.0997 - val_accuracy: 0.9709\n",
       "\n",
       "Epoch 00045: saving model to /dbfs/FileStore/shared_uploads/lilian.lu@otis.com/training/cp-0045.ckpt\n",
       "Epoch 46/120\n",
       "50/50 - 38s - loss: 0.0419 - accuracy: 0.9870 - val_loss: 0.1228 - val_accuracy: 0.9671\n",
       "\n",
       "Epoch 00046: saving model to /dbfs/FileStore/shared_uploads/lilian.lu@otis.com/training/cp-0046.ckpt\n",
       "Epoch 47/120\n",
       "50/50 - 38s - loss: 0.0459 - accuracy: 0.9853 - val_loss: 0.1141 - val_accuracy: 0.9690\n",
       "\n",
       "Epoch 00047: saving model to /dbfs/FileStore/shared_uploads/lilian.lu@otis.com/training/cp-0047.ckpt\n",
       "Epoch 48/120\n",
       "50/50 - 38s - loss: 0.0442 - accuracy: 0.9855 - val_loss: 0.1442 - val_accuracy: 0.9633\n",
       "\n",
       "Epoch 00048: saving model to /dbfs/FileStore/shared_uploads/lilian.lu@otis.com/training/cp-0048.ckpt\n",
       "Epoch 49/120\n",
       "50/50 - 38s - loss: 0.0434 - accuracy: 0.9864 - val_loss: 0.0772 - val_accuracy: 0.9747\n",
       "\n",
       "Epoch 00049: saving model to /dbfs/FileStore/shared_uploads/lilian.lu@otis.com/training/cp-0049.ckpt\n",
       "Epoch 50/120\n",
       "50/50 - 38s - loss: 0.0442 - accuracy: 0.9845 - val_loss: 0.0723 - val_accuracy: 0.9760\n",
       "\n",
       "Epoch 00050: saving model to /dbfs/FileStore/shared_uploads/lilian.lu@otis.com/training/cp-0050.ckpt\n",
       "Epoch 51/120\n",
       "50/50 - 38s - loss: 0.0406 - accuracy: 0.9853 - val_loss: 0.0669 - val_accuracy: 0.9791\n",
       "\n",
       "Epoch 00051: saving model to /dbfs/FileStore/shared_uploads/lilian.lu@otis.com/training/cp-0051.ckpt\n",
       "Epoch 52/120\n",
       "50/50 - 37s - loss: 0.0441 - accuracy: 0.9851 - val_loss: 0.0658 - val_accuracy: 0.9785\n",
       "\n",
       "Epoch 00052: saving model to /dbfs/FileStore/shared_uploads/lilian.lu@otis.com/training/cp-0052.ckpt\n",
       "Epoch 53/120\n",
       "50/50 - 38s - loss: 0.0422 - accuracy: 0.9863 - val_loss: 0.0685 - val_accuracy: 0.9779\n",
       "\n",
       "Epoch 00053: saving model to /dbfs/FileStore/shared_uploads/lilian.lu@otis.com/training/cp-0053.ckpt\n",
       "Epoch 54/120\n",
       "50/50 - 38s - loss: 0.0418 - accuracy: 0.9855 - val_loss: 0.0680 - val_accuracy: 0.9804\n",
       "\n",
       "Epoch 00054: saving model to /dbfs/FileStore/shared_uploads/lilian.lu@otis.com/training/cp-0054.ckpt\n",
       "Epoch 55/120\n",
       "50/50 - 37s - loss: 0.0394 - accuracy: 0.9859 - val_loss: 0.0634 - val_accuracy: 0.9810\n",
       "\n",
       "Epoch 00055: saving model to /dbfs/FileStore/shared_uploads/lilian.lu@otis.com/training/cp-0055.ckpt\n",
       "Epoch 56/120\n",
       "50/50 - 38s - loss: 0.0335 - accuracy: 0.9902 - val_loss: 0.0619 - val_accuracy: 0.9836\n",
       "\n",
       "Epoch 00056: saving model to /dbfs/FileStore/shared_uploads/lilian.lu@otis.com/training/cp-0056.ckpt\n",
       "Epoch 57/120\n",
       "50/50 - 38s - loss: 0.0379 - accuracy: 0.9869 - val_loss: 0.0693 - val_accuracy: 0.9791\n",
       "\n",
       "Epoch 00057: saving model to /dbfs/FileStore/shared_uploads/lilian.lu@otis.com/training/cp-0057.ckpt\n",
       "Epoch 58/120\n",
       "50/50 - 38s - loss: 0.0383 - accuracy: 0.9872 - val_loss: 0.0796 - val_accuracy: 0.9779\n",
       "\n",
       "Epoch 00058: saving model to /dbfs/FileStore/shared_uploads/lilian.lu@otis.com/training/cp-0058.ckpt\n",
       "Epoch 59/120\n",
       "50/50 - 39s - loss: 0.0389 - accuracy: 0.9872 - val_loss: 0.0635 - val_accuracy: 0.9836\n",
       "\n",
       "Epoch 00059: saving model to /dbfs/FileStore/shared_uploads/lilian.lu@otis.com/training/cp-0059.ckpt\n",
       "Epoch 60/120\n",
       "50/50 - 38s - loss: 0.0366 - accuracy: 0.9886 - val_loss: 0.0702 - val_accuracy: 0.9810\n",
       "\n",
       "Epoch 00060: saving model to /dbfs/FileStore/shared_uploads/lilian.lu@otis.com/training/cp-0060.ckpt\n",
       "Epoch 61/120\n",
       "50/50 - 38s - loss: 0.0398 - accuracy: 0.9856 - val_loss: 0.0702 - val_accuracy: 0.9798\n",
       "\n",
       "Epoch 00061: saving model to /dbfs/FileStore/shared_uploads/lilian.lu@otis.com/training/cp-0061.ckpt\n",
       "Epoch 62/120\n",
       "50/50 - 38s - loss: 0.0371 - accuracy: 0.9870 - val_loss: 0.0703 - val_accuracy: 0.9810\n",
       "\n",
       "Epoch 00062: saving model to /dbfs/FileStore/shared_uploads/lilian.lu@otis.com/training/cp-0062.ckpt\n",
       "Epoch 63/120\n",
       "50/50 - 38s - loss: 0.0399 - accuracy: 0.9863 - val_loss: 0.0629 - val_accuracy: 0.9823\n",
       "\n",
       "Epoch 00063: saving model to /dbfs/FileStore/shared_uploads/lilian.lu@otis.com/training/cp-0063.ckpt\n",
       "Epoch 64/120\n",
       "50/50 - 37s - loss: 0.0345 - accuracy: 0.9883 - val_loss: 0.0697 - val_accuracy: 0.9804\n",
       "\n",
       "Epoch 00064: saving model to /dbfs/FileStore/shared_uploads/lilian.lu@otis.com/training/cp-0064.ckpt\n",
       "Epoch 65/120\n",
       "50/50 - 38s - loss: 0.0333 - accuracy: 0.9893 - val_loss: 0.0539 - val_accuracy: 0.9855\n",
       "\n",
       "Epoch 00065: saving model to /dbfs/FileStore/shared_uploads/lilian.lu@otis.com/training/cp-0065.ckpt\n",
       "Epoch 66/120\n",
       "50/50 - 37s - loss: 0.0344 - accuracy: 0.9886 - val_loss: 0.0646 - val_accuracy: 0.9817\n",
       "\n",
       "Epoch 00066: saving model to /dbfs/FileStore/shared_uploads/lilian.lu@otis.com/training/cp-0066.ckpt\n",
       "</div>"
      ]
     },
     "metadata": {
      "application/vnd.databricks.v1+output": {
       "addedWidgets": {},
       "arguments": {},
       "data": "<div class=\"ansiout\">WARNING:tensorflow:There are non-GPU devices in `tf.distribute.Strategy`, not using nccl allreduce.\nINFO:tensorflow:Using MirroredStrategy with devices (&#39;/job:localhost/replica:0/task:0/device:CPU:0&#39;,)\nWARNING:tensorflow:`input_shape` is undefined or non-square, or `rows` is not in [96, 128, 160, 192, 224]. Weights for input shape (224, 224) will be loaded as the default.\nDownloading data from https://storage.googleapis.com/tensorflow/keras-applications/mobilenet_v2/mobilenet_v2_weights_tf_dim_ordering_tf_kernels_0.35_224_no_top.h5\n\r   8192/2019640 [..............................] - ETA: 0s\b\b\b\b\b\b\b\b\b\b\b\b\b\b\b\b\b\b\b\b\b\b\b\b\b\b\b\b\b\b\b\b\b\b\b\b\b\b\b\b\b\b\b\b\b\b\b\b\b\b\b\b\b\b\b\b\b\b\r2023424/2019640 [==============================] - 0s 0us/step\nEpoch 1/120\n50/50 - 121s - loss: 0.6388 - accuracy: 0.6675 - val_loss: 0.5838 - val_accuracy: 0.7307\n\nEpoch 00001: saving model to /dbfs/FileStore/shared_uploads/lilian.lu@otis.com/training/cp-0001.ckpt\nEpoch 2/120\n50/50 - 38s - loss: 0.4105 - accuracy: 0.8135 - val_loss: 0.4887 - val_accuracy: 0.7541\n\nEpoch 00002: saving model to /dbfs/FileStore/shared_uploads/lilian.lu@otis.com/training/cp-0002.ckpt\nEpoch 3/120\n50/50 - 38s - loss: 0.3083 - accuracy: 0.8699 - val_loss: 0.4557 - val_accuracy: 0.7876\n\nEpoch 00003: saving model to /dbfs/FileStore/shared_uploads/lilian.lu@otis.com/training/cp-0003.ckpt\nEpoch 4/120\n50/50 - 38s - loss: 0.2533 - accuracy: 0.8966 - val_loss: 0.7012 - val_accuracy: 0.7686\n\nEpoch 00004: saving model to /dbfs/FileStore/shared_uploads/lilian.lu@otis.com/training/cp-0004.ckpt\nEpoch 5/120\n50/50 - 37s - loss: 0.2107 - accuracy: 0.9166 - val_loss: 0.7804 - val_accuracy: 0.7541\n\nEpoch 00005: saving model to /dbfs/FileStore/shared_uploads/lilian.lu@otis.com/training/cp-0005.ckpt\nEpoch 6/120\n50/50 - 37s - loss: 0.1738 - accuracy: 0.9325 - val_loss: 0.8044 - val_accuracy: 0.7623\n\nEpoch 00006: saving model to /dbfs/FileStore/shared_uploads/lilian.lu@otis.com/training/cp-0006.ckpt\nEpoch 7/120\n50/50 - 38s - loss: 0.1510 - accuracy: 0.9444 - val_loss: 0.6016 - val_accuracy: 0.8028\n\nEpoch 00007: saving model to /dbfs/FileStore/shared_uploads/lilian.lu@otis.com/training/cp-0007.ckpt\nEpoch 8/120\n50/50 - 38s - loss: 0.1521 - accuracy: 0.9436 - val_loss: 0.4183 - val_accuracy: 0.8515\n\nEpoch 00008: saving model to /dbfs/FileStore/shared_uploads/lilian.lu@otis.com/training/cp-0008.ckpt\nEpoch 9/120\n50/50 - 37s - loss: 0.1398 - accuracy: 0.9490 - val_loss: 0.3766 - val_accuracy: 0.8603\n\nEpoch 00009: saving model to /dbfs/FileStore/shared_uploads/lilian.lu@otis.com/training/cp-0009.ckpt\nEpoch 10/120\n50/50 - 37s - loss: 0.1229 - accuracy: 0.9551 - val_loss: 0.4062 - val_accuracy: 0.8824\n\nEpoch 00010: saving model to /dbfs/FileStore/shared_uploads/lilian.lu@otis.com/training/cp-0010.ckpt\nEpoch 11/120\n50/50 - 38s - loss: 0.1147 - accuracy: 0.9569 - val_loss: 0.4428 - val_accuracy: 0.8660\n\nEpoch 00011: saving model to /dbfs/FileStore/shared_uploads/lilian.lu@otis.com/training/cp-0011.ckpt\nEpoch 12/120\n50/50 - 38s - loss: 0.1112 - accuracy: 0.9599 - val_loss: 0.6649 - val_accuracy: 0.7756\n\nEpoch 00012: saving model to /dbfs/FileStore/shared_uploads/lilian.lu@otis.com/training/cp-0012.ckpt\nEpoch 13/120\n50/50 - 38s - loss: 0.0998 - accuracy: 0.9637 - val_loss: 0.5001 - val_accuracy: 0.8325\n\nEpoch 00013: saving model to /dbfs/FileStore/shared_uploads/lilian.lu@otis.com/training/cp-0013.ckpt\nEpoch 14/120\n50/50 - 38s - loss: 0.0955 - accuracy: 0.9678 - val_loss: 0.4740 - val_accuracy: 0.8357\n\nEpoch 00014: saving model to /dbfs/FileStore/shared_uploads/lilian.lu@otis.com/training/cp-0014.ckpt\nEpoch 15/120\n50/50 - 38s - loss: 0.0939 - accuracy: 0.9662 - val_loss: 0.3330 - val_accuracy: 0.8906\n\nEpoch 00015: saving model to /dbfs/FileStore/shared_uploads/lilian.lu@otis.com/training/cp-0015.ckpt\nEpoch 16/120\n50/50 - 38s - loss: 0.0924 - accuracy: 0.9663 - val_loss: 0.3268 - val_accuracy: 0.8887\n\nEpoch 00016: saving model to /dbfs/FileStore/shared_uploads/lilian.lu@otis.com/training/cp-0016.ckpt\nEpoch 17/120\n50/50 - 38s - loss: 0.0846 - accuracy: 0.9689 - val_loss: 0.4899 - val_accuracy: 0.8508\n\nEpoch 00017: saving model to /dbfs/FileStore/shared_uploads/lilian.lu@otis.com/training/cp-0017.ckpt\nEpoch 18/120\n50/50 - 38s - loss: 0.0848 - accuracy: 0.9690 - val_loss: 0.3326 - val_accuracy: 0.8831\n\nEpoch 00018: saving model to /dbfs/FileStore/shared_uploads/lilian.lu@otis.com/training/cp-0018.ckpt\nEpoch 19/120\n50/50 - 38s - loss: 0.0777 - accuracy: 0.9719 - val_loss: 0.4294 - val_accuracy: 0.8654\n\nEpoch 00019: saving model to /dbfs/FileStore/shared_uploads/lilian.lu@otis.com/training/cp-0019.ckpt\nEpoch 20/120\n50/50 - 38s - loss: 0.0762 - accuracy: 0.9739 - val_loss: 0.4193 - val_accuracy: 0.8673\n\nEpoch 00020: saving model to /dbfs/FileStore/shared_uploads/lilian.lu@otis.com/training/cp-0020.ckpt\nEpoch 21/120\n50/50 - 38s - loss: 0.0727 - accuracy: 0.9738 - val_loss: 0.5283 - val_accuracy: 0.8357\n\nEpoch 00021: saving model to /dbfs/FileStore/shared_uploads/lilian.lu@otis.com/training/cp-0021.ckpt\nEpoch 22/120\n50/50 - 37s - loss: 0.0701 - accuracy: 0.9766 - val_loss: 0.4394 - val_accuracy: 0.8540\n\nEpoch 00022: saving model to /dbfs/FileStore/shared_uploads/lilian.lu@otis.com/training/cp-0022.ckpt\nEpoch 23/120\n50/50 - 38s - loss: 0.0722 - accuracy: 0.9757 - val_loss: 0.2953 - val_accuracy: 0.9001\n\nEpoch 00023: saving model to /dbfs/FileStore/shared_uploads/lilian.lu@otis.com/training/cp-0023.ckpt\nEpoch 24/120\n50/50 - 38s - loss: 0.0659 - accuracy: 0.9760 - val_loss: 0.3480 - val_accuracy: 0.8812\n\nEpoch 00024: saving model to /dbfs/FileStore/shared_uploads/lilian.lu@otis.com/training/cp-0024.ckpt\nEpoch 25/120\n50/50 - 38s - loss: 0.0687 - accuracy: 0.9768 - val_loss: 0.3171 - val_accuracy: 0.9046\n\nEpoch 00025: saving model to /dbfs/FileStore/shared_uploads/lilian.lu@otis.com/training/cp-0025.ckpt\nEpoch 26/120\n50/50 - 38s - loss: 0.0670 - accuracy: 0.9776 - val_loss: 0.2270 - val_accuracy: 0.9216\n\nEpoch 00026: saving model to /dbfs/FileStore/shared_uploads/lilian.lu@otis.com/training/cp-0026.ckpt\nEpoch 27/120\n50/50 - 38s - loss: 0.0673 - accuracy: 0.9772 - val_loss: 0.1941 - val_accuracy: 0.9324\n\nEpoch 00027: saving model to /dbfs/FileStore/shared_uploads/lilian.lu@otis.com/training/cp-0027.ckpt\nEpoch 28/120\n50/50 - 38s - loss: 0.0623 - accuracy: 0.9776 - val_loss: 0.1967 - val_accuracy: 0.9343\n\nEpoch 00028: saving model to /dbfs/FileStore/shared_uploads/lilian.lu@otis.com/training/cp-0028.ckpt\nEpoch 29/120\n50/50 - 38s - loss: 0.0631 - accuracy: 0.9766 - val_loss: 0.1443 - val_accuracy: 0.9507\n\nEpoch 00029: saving model to /dbfs/FileStore/shared_uploads/lilian.lu@otis.com/training/cp-0029.ckpt\nEpoch 30/120\n50/50 - 38s - loss: 0.0653 - accuracy: 0.9772 - val_loss: 0.1370 - val_accuracy: 0.9564\n\nEpoch 00030: saving model to /dbfs/FileStore/shared_uploads/lilian.lu@otis.com/training/cp-0030.ckpt\nEpoch 31/120\n50/50 - 38s - loss: 0.0627 - accuracy: 0.9785 - val_loss: 0.1202 - val_accuracy: 0.9583\n\nEpoch 00031: saving model to /dbfs/FileStore/shared_uploads/lilian.lu@otis.com/training/cp-0031.ckpt\nEpoch 32/120\n50/50 - 38s - loss: 0.0581 - accuracy: 0.9787 - val_loss: 0.1329 - val_accuracy: 0.9595\n\nEpoch 00032: saving model to /dbfs/FileStore/shared_uploads/lilian.lu@otis.com/training/cp-0032.ckpt\nEpoch 33/120\n50/50 - 38s - loss: 0.0532 - accuracy: 0.9817 - val_loss: 0.1726 - val_accuracy: 0.9469\n\nEpoch 00033: saving model to /dbfs/FileStore/shared_uploads/lilian.lu@otis.com/training/cp-0033.ckpt\nEpoch 34/120\n50/50 - 38s - loss: 0.0537 - accuracy: 0.9798 - val_loss: 0.1158 - val_accuracy: 0.9640\n\nEpoch 00034: saving model to /dbfs/FileStore/shared_uploads/lilian.lu@otis.com/training/cp-0034.ckpt\nEpoch 35/120\n50/50 - 38s - loss: 0.0498 - accuracy: 0.9821 - val_loss: 0.0970 - val_accuracy: 0.9697\n\nEpoch 00035: saving model to /dbfs/FileStore/shared_uploads/lilian.lu@otis.com/training/cp-0035.ckpt\nEpoch 36/120\n50/50 - 38s - loss: 0.0558 - accuracy: 0.9820 - val_loss: 0.1017 - val_accuracy: 0.9709\n\nEpoch 00036: saving model to /dbfs/FileStore/shared_uploads/lilian.lu@otis.com/training/cp-0036.ckpt\nEpoch 37/120\n50/50 - 38s - loss: 0.0544 - accuracy: 0.9836 - val_loss: 0.0866 - val_accuracy: 0.9753\n\nEpoch 00037: saving model to /dbfs/FileStore/shared_uploads/lilian.lu@otis.com/training/cp-0037.ckpt\nEpoch 38/120\n50/50 - 38s - loss: 0.0522 - accuracy: 0.9812 - val_loss: 0.0992 - val_accuracy: 0.9690\n\nEpoch 00038: saving model to /dbfs/FileStore/shared_uploads/lilian.lu@otis.com/training/cp-0038.ckpt\nEpoch 39/120\n50/50 - 38s - loss: 0.0530 - accuracy: 0.9806 - val_loss: 0.0884 - val_accuracy: 0.9741\n\nEpoch 00039: saving model to /dbfs/FileStore/shared_uploads/lilian.lu@otis.com/training/cp-0039.ckpt\nEpoch 40/120\n50/50 - 38s - loss: 0.0492 - accuracy: 0.9836 - val_loss: 0.0661 - val_accuracy: 0.9810\n\nEpoch 00040: saving model to /dbfs/FileStore/shared_uploads/lilian.lu@otis.com/training/cp-0040.ckpt\nEpoch 41/120\n50/50 - 38s - loss: 0.0452 - accuracy: 0.9851 - val_loss: 0.0670 - val_accuracy: 0.9817\n\nEpoch 00041: saving model to /dbfs/FileStore/shared_uploads/lilian.lu@otis.com/training/cp-0041.ckpt\nEpoch 42/120\n50/50 - 39s - loss: 0.0486 - accuracy: 0.9832 - val_loss: 0.0800 - val_accuracy: 0.9791\n\nEpoch 00042: saving model to /dbfs/FileStore/shared_uploads/lilian.lu@otis.com/training/cp-0042.ckpt\nEpoch 43/120\n50/50 - 38s - loss: 0.0497 - accuracy: 0.9842 - val_loss: 0.0771 - val_accuracy: 0.9760\n\nEpoch 00043: saving model to /dbfs/FileStore/shared_uploads/lilian.lu@otis.com/training/cp-0043.ckpt\nEpoch 44/120\n50/50 - 38s - loss: 0.0471 - accuracy: 0.9831 - val_loss: 0.0709 - val_accuracy: 0.9772\n\nEpoch 00044: saving model to /dbfs/FileStore/shared_uploads/lilian.lu@otis.com/training/cp-0044.ckpt\nEpoch 45/120\n50/50 - 38s - loss: 0.0481 - accuracy: 0.9839 - val_loss: 0.0997 - val_accuracy: 0.9709\n\nEpoch 00045: saving model to /dbfs/FileStore/shared_uploads/lilian.lu@otis.com/training/cp-0045.ckpt\nEpoch 46/120\n50/50 - 38s - loss: 0.0419 - accuracy: 0.9870 - val_loss: 0.1228 - val_accuracy: 0.9671\n\nEpoch 00046: saving model to /dbfs/FileStore/shared_uploads/lilian.lu@otis.com/training/cp-0046.ckpt\nEpoch 47/120\n50/50 - 38s - loss: 0.0459 - accuracy: 0.9853 - val_loss: 0.1141 - val_accuracy: 0.9690\n\nEpoch 00047: saving model to /dbfs/FileStore/shared_uploads/lilian.lu@otis.com/training/cp-0047.ckpt\nEpoch 48/120\n50/50 - 38s - loss: 0.0442 - accuracy: 0.9855 - val_loss: 0.1442 - val_accuracy: 0.9633\n\nEpoch 00048: saving model to /dbfs/FileStore/shared_uploads/lilian.lu@otis.com/training/cp-0048.ckpt\nEpoch 49/120\n50/50 - 38s - loss: 0.0434 - accuracy: 0.9864 - val_loss: 0.0772 - val_accuracy: 0.9747\n\nEpoch 00049: saving model to /dbfs/FileStore/shared_uploads/lilian.lu@otis.com/training/cp-0049.ckpt\nEpoch 50/120\n50/50 - 38s - loss: 0.0442 - accuracy: 0.9845 - val_loss: 0.0723 - val_accuracy: 0.9760\n\nEpoch 00050: saving model to /dbfs/FileStore/shared_uploads/lilian.lu@otis.com/training/cp-0050.ckpt\nEpoch 51/120\n50/50 - 38s - loss: 0.0406 - accuracy: 0.9853 - val_loss: 0.0669 - val_accuracy: 0.9791\n\nEpoch 00051: saving model to /dbfs/FileStore/shared_uploads/lilian.lu@otis.com/training/cp-0051.ckpt\nEpoch 52/120\n50/50 - 37s - loss: 0.0441 - accuracy: 0.9851 - val_loss: 0.0658 - val_accuracy: 0.9785\n\nEpoch 00052: saving model to /dbfs/FileStore/shared_uploads/lilian.lu@otis.com/training/cp-0052.ckpt\nEpoch 53/120\n50/50 - 38s - loss: 0.0422 - accuracy: 0.9863 - val_loss: 0.0685 - val_accuracy: 0.9779\n\nEpoch 00053: saving model to /dbfs/FileStore/shared_uploads/lilian.lu@otis.com/training/cp-0053.ckpt\nEpoch 54/120\n50/50 - 38s - loss: 0.0418 - accuracy: 0.9855 - val_loss: 0.0680 - val_accuracy: 0.9804\n\nEpoch 00054: saving model to /dbfs/FileStore/shared_uploads/lilian.lu@otis.com/training/cp-0054.ckpt\nEpoch 55/120\n50/50 - 37s - loss: 0.0394 - accuracy: 0.9859 - val_loss: 0.0634 - val_accuracy: 0.9810\n\nEpoch 00055: saving model to /dbfs/FileStore/shared_uploads/lilian.lu@otis.com/training/cp-0055.ckpt\nEpoch 56/120\n50/50 - 38s - loss: 0.0335 - accuracy: 0.9902 - val_loss: 0.0619 - val_accuracy: 0.9836\n\nEpoch 00056: saving model to /dbfs/FileStore/shared_uploads/lilian.lu@otis.com/training/cp-0056.ckpt\nEpoch 57/120\n50/50 - 38s - loss: 0.0379 - accuracy: 0.9869 - val_loss: 0.0693 - val_accuracy: 0.9791\n\nEpoch 00057: saving model to /dbfs/FileStore/shared_uploads/lilian.lu@otis.com/training/cp-0057.ckpt\nEpoch 58/120\n50/50 - 38s - loss: 0.0383 - accuracy: 0.9872 - val_loss: 0.0796 - val_accuracy: 0.9779\n\nEpoch 00058: saving model to /dbfs/FileStore/shared_uploads/lilian.lu@otis.com/training/cp-0058.ckpt\nEpoch 59/120\n50/50 - 39s - loss: 0.0389 - accuracy: 0.9872 - val_loss: 0.0635 - val_accuracy: 0.9836\n\nEpoch 00059: saving model to /dbfs/FileStore/shared_uploads/lilian.lu@otis.com/training/cp-0059.ckpt\nEpoch 60/120\n50/50 - 38s - loss: 0.0366 - accuracy: 0.9886 - val_loss: 0.0702 - val_accuracy: 0.9810\n\nEpoch 00060: saving model to /dbfs/FileStore/shared_uploads/lilian.lu@otis.com/training/cp-0060.ckpt\nEpoch 61/120\n50/50 - 38s - loss: 0.0398 - accuracy: 0.9856 - val_loss: 0.0702 - val_accuracy: 0.9798\n\nEpoch 00061: saving model to /dbfs/FileStore/shared_uploads/lilian.lu@otis.com/training/cp-0061.ckpt\nEpoch 62/120\n50/50 - 38s - loss: 0.0371 - accuracy: 0.9870 - val_loss: 0.0703 - val_accuracy: 0.9810\n\nEpoch 00062: saving model to /dbfs/FileStore/shared_uploads/lilian.lu@otis.com/training/cp-0062.ckpt\nEpoch 63/120\n50/50 - 38s - loss: 0.0399 - accuracy: 0.9863 - val_loss: 0.0629 - val_accuracy: 0.9823\n\nEpoch 00063: saving model to /dbfs/FileStore/shared_uploads/lilian.lu@otis.com/training/cp-0063.ckpt\nEpoch 64/120\n50/50 - 37s - loss: 0.0345 - accuracy: 0.9883 - val_loss: 0.0697 - val_accuracy: 0.9804\n\nEpoch 00064: saving model to /dbfs/FileStore/shared_uploads/lilian.lu@otis.com/training/cp-0064.ckpt\nEpoch 65/120\n50/50 - 38s - loss: 0.0333 - accuracy: 0.9893 - val_loss: 0.0539 - val_accuracy: 0.9855\n\nEpoch 00065: saving model to /dbfs/FileStore/shared_uploads/lilian.lu@otis.com/training/cp-0065.ckpt\nEpoch 66/120\n50/50 - 37s - loss: 0.0344 - accuracy: 0.9886 - val_loss: 0.0646 - val_accuracy: 0.9817\n\nEpoch 00066: saving model to /dbfs/FileStore/shared_uploads/lilian.lu@otis.com/training/cp-0066.ckpt\n</div>",
       "datasetInfos": [],
       "removedWidgets": [],
       "type": "html"
      }
     },
     "output_type": "display_data"
    }
   ],
   "source": [
    "tf.debugging.set_log_device_placement(True)\n",
    "strategy = tf.distribute.MirroredStrategy()\n",
    "with strategy.scope():\n",
    "  hist,model = train_and_evaluate(train_ds, val_ds)"
   ]
  },
  {
   "cell_type": "code",
   "execution_count": 0,
   "metadata": {
    "application/vnd.databricks.v1+cell": {
     "inputWidgets": {},
     "nuid": "2fc10fee-5b2a-4be1-a095-842b0547489a",
     "showTitle": false,
     "title": ""
    }
   },
   "outputs": [
    {
     "data": {
      "text/html": [
       "<style scoped>\n",
       "  .ansiout {\n",
       "    display: block;\n",
       "    unicode-bidi: embed;\n",
       "    white-space: pre-wrap;\n",
       "    word-wrap: break-word;\n",
       "    word-break: break-all;\n",
       "    font-family: \"Source Code Pro\", \"Menlo\", monospace;;\n",
       "    font-size: 13px;\n",
       "    color: #555;\n",
       "    margin-left: 4px;\n",
       "    line-height: 19px;\n",
       "  }\n",
       "</style>\n",
       "<div class=\"ansiout\"></div>"
      ]
     },
     "metadata": {
      "application/vnd.databricks.v1+output": {
       "addedWidgets": {},
       "arguments": {},
       "data": "<div class=\"ansiout\"></div>",
       "datasetInfos": [],
       "removedWidgets": [],
       "type": "html"
      }
     },
     "output_type": "display_data"
    }
   ],
   "source": [
    "def load_model(checkpoint_path):\n",
    "  model = get_compiled_model()\n",
    "  # load weights\n",
    "  model.load_weights(checkpoint_path)\n",
    "  return model\n",
    "  \n",
    "def predict(img_path, model):\n",
    "  test_ds = tf.keras.preprocessing.image_dataset_from_directory(\n",
    "    img_path,\n",
    "#     seed=seed,\n",
    "    shuffle=False,\n",
    "#     validation_split=0.2,\n",
    "#     subset='validation',\n",
    "    image_size=(img_height, img_width),\n",
    "    batch_size=batch_size)\n",
    "\n",
    "#   test_ds_2 = test_ds.map(\n",
    "#   lambda x, y: (resize(x), y))\n",
    "  test_ds_2 = test_ds.map(\n",
    "    lambda x, y: (preprocess_input(x), y))\n",
    "  \n",
    "#     with open(CLASS_PEOPLE + '.pkl','rb') as f:\n",
    "#         class_to_index = pickle.load(f)\n",
    "\n",
    "  result = model.predict(test_ds_2, batch_size=batch_size)\n",
    "  scores = []\n",
    "  for i in range(len(result)):\n",
    "      scores.append(result[i][-1])\n",
    "  print(scores)\n",
    "  return result, test_ds, scores\n",
    "#   for item in result:\n",
    "#       print(np.argmax(item))"
   ]
  },
  {
   "cell_type": "code",
   "execution_count": 0,
   "metadata": {
    "application/vnd.databricks.v1+cell": {
     "inputWidgets": {},
     "nuid": "05fb8785-f608-41fd-941d-68fbf41626d1",
     "showTitle": false,
     "title": ""
    }
   },
   "outputs": [
    {
     "data": {
      "text/html": [
       "<style scoped>\n",
       "  .ansiout {\n",
       "    display: block;\n",
       "    unicode-bidi: embed;\n",
       "    white-space: pre-wrap;\n",
       "    word-wrap: break-word;\n",
       "    word-break: break-all;\n",
       "    font-family: \"Source Code Pro\", \"Menlo\", monospace;;\n",
       "    font-size: 13px;\n",
       "    color: #555;\n",
       "    margin-left: 4px;\n",
       "    line-height: 19px;\n",
       "  }\n",
       "</style>\n",
       "<div class=\"ansiout\">WARNING:tensorflow:`input_shape` is undefined or non-square, or `rows` is not in [96, 128, 160, 192, 224]. Weights for input shape (224, 224) will be loaded as the default.\n",
       "Found 7910 files belonging to 2 classes.\n",
       "[0.009047583, 1.9313173e-05, 1.653631e-05, 1.0876821e-06, 4.3260598e-06, 0.00018759553, 0.00013659812, 1.02764666e-07, 2.0338803e-08, 6.44587e-06, 0.000606891, 2.7177218e-06, 6.1973915e-06, 1.6048759e-06, 8.085251e-06, 8.0965316e-07, 1.9027539e-05, 2.171893e-06, 2.7786065e-08, 6.3446144e-08, 1.6560822e-06, 1.6911912e-05, 0.00013510081, 1.29763275e-05, 0.00013439232, 6.1304185e-05, 0.009011903, 0.00039551713, 7.676802e-06, 4.442841e-06, 2.2239744e-06, 0.006189834, 2.088173e-06, 7.8321296e-05, 0.0038281332, 2.5704638e-05, 7.2581397e-06, 4.6824058e-05, 8.320918e-06, 0.0001377669, 2.618487e-05, 0.0025691912, 4.947391e-06, 0.00031641277, 2.3781344e-05, 0.025563365, 4.5274388e-07, 1.6508015e-05, 0.0024670253, 3.2478004e-06, 4.405207e-06, 0.021843446, 0.027586976, 0.000642597, 1.0185266e-05, 0.015780274, 1.7644323e-06, 2.370892e-06, 0.08794704, 0.6655283, 0.009679929, 1.1721211e-06, 6.7604765e-06, 3.040001e-05, 8.344578e-07, 3.0428293e-06, 2.3719136e-07, 6.959189e-07, 4.9788378e-06, 0.05651084, 1.2646395e-05, 1.0529704e-05, 3.0383604e-05, 0.006337009, 5.6823967e-05, 0.002177447, 0.0076432223, 2.6089658e-06, 3.6673694e-06, 1.132475e-06, 0.003925392, 0.0002398007, 0.00041862423, 4.1788986e-08, 0.116691746, 0.00091110065, 2.7796494e-05, 2.5150791e-06, 1.750169e-05, 0.0032458492, 3.4901157e-05, 7.064164e-07, 2.1549542e-05, 1.1058995e-05, 0.00019911895, 0.00014415564, 4.611283e-06, 2.5950325e-05, 0.00017567589, 0.00066311756, 7.4581103e-06, 0.00030009577, 0.0005138433, 0.0031651428, 3.6696329e-06, 1.6314822e-05, 1.0762956e-06, 0.0018160068, 4.873352e-06, 2.7326525e-06, 3.5422358e-06, 4.537752e-05, 4.496176e-06, 1.7777296e-05, 1.1582032e-05, 6.7140622e-06, 4.7871723e-05, 2.8834176e-05, 8.812338e-06, 9.319421e-06, 3.4733323e-06, 0.00021640617, 0.00013904071, 6.7927126e-06, 0.00048429408, 1.4456791e-06, 0.0002501994, 2.425262e-05, 5.4421904e-05, 1.151257e-06, 2.8920645e-05, 0.001264116, 0.0002072395, 4.72656e-06, 1.8346879e-06, 6.8769973e-06, 9.180172e-05, 3.6890513e-06, 2.0015701e-05, 3.4424073e-05, 1.0244005e-05, 3.5736215e-05, 0.00030106178, 1.5181165e-05, 7.537755e-05, 4.8422658e-06, 6.992492e-06, 1.0391716e-05, 0.00013287191, 1.9466408e-05, 2.3499895e-05, 8.5321924e-05, 7.0597525e-06, 6.7310697e-07, 2.319525e-06, 4.16798e-06, 3.1983947e-07, 0.000109824614, 5.328415e-06, 5.6185263e-06, 0.00019993054, 3.5216317e-07, 6.470879e-05, 1.3518977e-06, 3.083873e-05, 1.5486974e-05, 3.401325e-06, 0.00028882938, 4.170044e-05, 0.00019117666, 1.7214833e-06, 0.00021487358, 1.0174032e-06, 4.0572868e-07, 1.0761796e-06, 0.00012737526, 4.403821e-05, 1.5241671e-05, 1.1145981e-07, 0.00012050236, 9.649555e-07, 0.00019037268, 0.0016730184, 0.00016378172, 1.4299379e-06, 1.0489012e-05, 0.00028928302, 0.0007309222, 0.00019845234, 1.33628255e-05, 6.230708e-06, 5.0573868e-05, 0.00011186857, 1.0449594e-05, 6.086021e-05, 0.00087564415, 0.0001710712, 0.00010719909, 0.00019703525, 0.00013172305, 7.1890313e-06, 1.7472838e-06, 5.668638e-06, 5.522219e-05, 0.0001485882, 0.00013429727, 1.2665915e-06, 2.1517053e-06, 0.00015830636, 5.365379e-05, 7.515455e-05, 1.3224766e-05, 1.1248194e-07, 2.4840053e-06, 1.3393906e-05, 5.33002e-07, 0.00015496479, 1.5929174e-05, 0.000135022, 9.288262e-07, 7.065613e-07, 4.3995014e-06, 3.581681e-06, 3.0284846e-05, 1.7957811e-05, 0.00027279626, 4.3560052e-05, 4.7737976e-05, 0.0023755026, 7.3185547e-06, 6.5889817e-06, 3.6738627e-05, 5.98005e-07, 0.0041868654, 0.015379617, 3.868065e-05, 6.5378304e-06, 2.098934e-05, 2.9878865e-05, 1.7755205e-05, 3.9354137e-07, 0.00016928205, 6.0278395e-05, 3.924383e-06, 4.7873677e-06, 4.6522287e-05, 7.3191995e-07, 5.1787254e-05, 9.07226e-07, 1.44986e-06, 0.0034346518, 9.1961294e-07, 3.6883125e-06, 1.2378094e-06, 5.7739573e-05, 1.794877e-05, 1.8494127e-05, 4.399166e-06, 3.766323e-05, 6.407179e-05, 0.00026417058, 4.4838966e-05, 0.0015895551, 0.00023670476, 0.000119329736, 1.8433414e-07, 0.00037314923, 1.1582253e-05, 4.82073e-06, 1.1488656e-07, 5.7649777e-06, 1.1725577e-07, 0.00014303083, 2.0580474e-06, 3.3091123e-07, 5.910566e-06, 0.00010461667, 4.437877e-05, 1.2939498e-06, 1.821426e-06, 0.00013846424, 1.2475433e-05, 5.160788e-07, 6.768805e-06, 1.1572956e-05, 1.2095371e-05, 1.1804902e-05, 0.00024483784, 2.533156e-05, 1.2771071e-05, 4.340598e-06, 0.0013933133, 0.00013703138, 3.3006731e-06, 1.561998e-05, 7.5179887e-06, 9.424236e-05, 4.237764e-06, 2.3152265e-06, 6.496321e-05, 1.78146e-05, 8.891835e-06, 5.887046e-06, 5.887046e-06, 3.9237228e-05, 1.0384309e-06, 3.017144e-05, 1.2018147e-06, 1.1878914e-06, 1.4732284e-06, 2.0895313e-05, 0.0002433319, 1.8266435e-05, 1.03023325e-07, 4.454606e-06, 1.8034071e-06, 2.6242026e-06, 3.363016e-05, 1.8879327e-05, 6.3813723e-06, 1.280285e-05, 0.00022189993, 4.4443816e-05, 3.2624823e-07, 2.7677805e-05, 9.432947e-07, 3.2316e-07, 0.00027791434, 3.1668262e-07, 2.6214104e-05, 3.4506636e-05, 4.2098995e-07, 1.282254e-06, 1.4796668e-05, 1.0899637e-05, 7.48834e-07, 0.00045723116, 1.3762831e-05, 4.6377707e-07, 2.932433e-07, 2.625376e-05, 5.7393125e-05, 1.630323e-06, 1.6242938e-06, 4.4828877e-05, 0.00021103008, 3.468115e-05, 0.0006897049, 2.0069028e-05, 1.2185841e-05, 7.076348e-06, 2.786366e-06, 3.6308782e-06, 1.1322524e-05, 9.173233e-07, 3.8646212e-06, 1.3427697e-06, 3.9402323e-05, 0.00020858874, 0.00014772291, 0.019592175, 0.00056578236, 0.0011681998, 1.2769366e-05, 6.415929e-06, 0.074466065, 9.999026e-07, 1.7609273e-05, 0.0053590164, 1.3177944e-06, 3.9159993e-05, 4.2832812e-07, 7.717284e-06, 8.181711e-06, 8.631944e-06, 4.9414645e-08, 5.126749e-07, 1.3771823e-05, 6.364115e-07, 0.13814948, 9.435019e-08, 2.6396137e-06, 0.00014615244, 0.000117362455, 7.9153216e-07, 0.00025593152, 2.8897875e-07, 7.506423e-05, 7.759474e-06, 1.3924509e-06, 1.9740337e-05, 4.4558485e-05, 9.951802e-07, 0.00020360881, 3.3448606e-07, 4.7457834e-06, 1.2975393e-07, 2.2269967e-06, 4.2032625e-06, 0.00046855918, 4.8551533e-07, 5.855154e-08, 3.1054105e-06, 6.7172837e-06, 0.00043801928, 1.3127859e-05, 1.2222467e-06, 0.83186615, 5.595586e-06, 6.972483e-06, 5.17786e-07, 7.459545e-08, 0.00041658443, 1.4726842e-05, 2.5444388e-08, 3.1285379e-07, 3.1401228e-06, 1.6325401e-06, 0.3295143, 5.6939723e-07, 6.6358984e-06, 0.0005941236, 2.8326936e-06, 2.3205594e-05, 0.00011469383, 6.374229e-07, 0.013248024, 6.1437684e-05, 9.866112e-06, 1.0267498e-05, 0.009701978, 3.1573834e-06, 0.0007704345, 2.822547e-07, 2.760768e-05, 3.4332885e-07, 6.510775e-07, 2.0895216e-06, 1.413985e-06, 3.2106789e-06, 3.2585922e-07, 1.2621975e-06, 8.592512e-06, 1.8783626e-06, 1.9522756e-06, 1.2227248e-06, 8.667165e-06, 4.286573e-06, 0.004050618, 2.850852e-07, 4.7845015e-07, 4.050748e-06, 7.347135e-06, 4.5905065e-07, 4.6027693e-05, 1.9200066e-05, 2.1852957e-06, 2.1852957e-06, 4.0911787e-06, 0.96384907, 4.865225e-06, 1.4507324e-05, 0.00029518385, 7.669138e-07, 6.293911e-06, 0.00030214209, 0.01893758, 1.4694695e-06, 1.3465103e-06, 2.979148e-06, 4.2303162e-07, 2.0101815e-07, 4.7371465e-08, 9.539899e-07, 1.1712211e-05, 4.5620025e-05, 1.3002565e-05, 3.3856348e-05, 4.012598e-05, 2.550567e-06, 7.4574846e-06, 0.00041993122, 5.363855e-06, 0.00037894756, 1.1654049e-05, 5.1755233e-06, 0.019122288, 0.03810608, 2.1430902e-05, 3.7022996e-06, 0.00018672342, 5.2682516e-09, 0.013327174, 3.9150077e-06, 2.6060638e-07, 1.3244442e-05, 2.3206778e-06, 5.4020617e-05, 2.8026677e-06, 4.721969e-07, 0.011498357, 2.978325e-07, 1.2279623e-05, 0.0052730436, 0.0013120071, 7.836197e-08, 3.1117397e-06, 1.29068185e-05, 2.5372906e-08, 1.6829736e-06, 6.992048e-05, 1.6811347e-05, 0.00013714393, 2.5998108e-07, 5.586968e-07, 0.024877306, 2.81856e-06, 8.2132647e-07, 5.9762817e-05, 0.00059214054, 0.0006898268, 0.0007675758, 6.7673723e-06, 4.1572477e-07, 3.3559684e-06, 6.9413865e-08, 1.2844539e-05, 1.1088841e-06, 8.20225e-05, 4.776363e-07, 0.00010140563, 0.00020103292, 0.0102817295, 7.028006e-07, 1.280345e-07, 7.7900296e-08, 2.2497119e-08, 2.561236e-06, 0.1696264, 2.9865847e-05, 5.6159975e-06, 7.2814935e-08, 0.00068952155, 0.0012441854, 0.0011415058, 1.1424935e-07, 0.000115644, 2.9650494e-06, 2.663814e-08, 9.872088e-07, 3.3579597e-06, 4.1641233e-05, 0.0036986433, 2.6593805e-06, 6.618676e-05, 0.006487717, 0.003647023, 0.00051620265, 1.907405e-05, 1.9360971e-07, 6.4864296e-05, 0.00010170071, 9.3993356e-07, 1.2542142e-07, 6.292731e-07, 0.00048219363, 1.08320656e-07, 2.0919606e-08, 3.3057508e-11, 8.111486e-06, 3.0378917e-06, 8.439111e-08, 7.4048725e-11, 8.0662124e-07, 0.030495808, 0.005440838, 1.9613658e-06, 7.260342e-05, 1.31411125e-05, 2.455805e-07, 2.4117822e-10, 1.9137303e-06, 0.0012584632, 0.0006258425, 1.254168e-06, 8.665115e-06, 6.608123e-08, 2.9339142e-05, 1.4519131e-09, 2.7933478e-07, 0.010813668, 8.598605e-11, 6.8501385e-11, 2.318615e-05, 8.037115e-05, 8.765382e-07, 7.0547435e-09, 1.6254854e-06, 7.720839e-06, 4.9764134e-07, 2.164986e-05, 1.7799847e-06, 1.0305236e-05, 0.00012736396, 4.2162583e-06, 3.989632e-06, 2.0608368e-07, 2.8652115e-05, 1.8777186e-09, 9.823132e-06, 0.00027473454, 1.2042964e-06, 4.6350444e-11, 5.136594e-05, 3.7679903e-05, 2.9635328e-05, 3.5225588e-07, 2.4539163e-06, 8.556768e-06, 7.923131e-06, 2.7760564e-06, 1.4556551e-07, 5.728928e-05, 2.7022513e-06, 4.851251e-06, 3.8192433e-10, 2.9049381e-11, 1.7707931e-09, 1.0341507e-08, 1.932762e-09, 0.92782193, 1.168885e-06, 1.31834495e-05, 3.2723754e-08, 2.749244e-07, 1.4428115e-06, 2.846607e-05, 3.0511487e-06, 4.843949e-11, 0.0003427738, 1.783818e-05, 1.1406266e-05, 1.5087662e-07, 2.0460517e-07, 0.7681774, 3.1113342e-07, 7.206926e-11, 4.2353845e-06, 2.0338375e-06, 6.252055e-07, 2.205171e-09, 9.803748e-07, 0.016406449, 0.0003696278, 3.367629e-06, 2.5318118e-06, 7.847855e-06, 7.6292886e-06, 1.4542026e-06, 0.00021497482, 1.3394595e-05, 5.950282e-05, 1.6331266e-10, 2.783755e-06, 2.0978494e-05, 0.00024465023, 4.452066e-06, 2.4490766e-06, 9.765407e-06, 3.3783428e-05, 4.1246713e-07, 1.5085073e-09, 5.315826e-08, 2.362472e-08, 3.5374017e-06, 1.2684625e-07, 9.08472e-06, 0.0041672373, 9.9023666e-08, 2.0966022e-08, 6.095705e-07, 8.994408e-09, 8.30683e-09, 1.4686272e-07, 0.00010093388, 8.3185006e-07, 0.00037322, 2.9635606e-07, 2.0673498e-10, 3.6535341e-10, 5.391896e-10, 1.632089e-07, 8.120318e-06, 3.8602823e-07, 0.00028576984, 1.3112104e-06, 4.4922703e-07, 2.2430904e-05, 5.929519e-07, 1.1335327e-06, 0.04935656, 1.16273395e-05, 9.586736e-06, 3.6631957e-07, 1.4126722e-06, 0.0001461721, 1.6036352e-06, 0.00034478414, 1.6238123e-09, 0.00038775217, 0.00029757462, 1.3670092e-06, 0.00024501112, 3.3533656e-08, 1.4600595e-05, 7.570545e-06, 6.246268e-10, 8.955886e-10, 8.082659e-09, 1.4657478e-06, 0.00037542393, 0.00011117733, 9.92978e-06, 3.8627164e-05, 8.0228805e-05, 2.6146227e-09, 1.3364177e-05, 9.844823e-06, 1.4856491e-05, 0.00027764498, 1.2042258e-07, 1.2187645e-08, 2.1894307e-08, 1.6237334e-05, 2.4761268e-06, 1.2871676e-05, 7.1247778e-06, 5.2208275e-06, 0.00040650825, 8.655551e-06, 4.9290757e-05, 4.182044e-10, 4.51989e-05, 1.6777904e-10, 9.5048273e-07, 5.623608e-06, 0.00024171882, 7.9261383e-07, 6.613389e-05, 4.1776948e-05, 0.008034742, 8.0772425e-06, 0.00048510268, 1.3512813e-05, 2.0217188e-07, 5.6098684e-06, 2.6131035e-08, 4.2326214e-05, 4.8035478e-08, 0.000240494, 9.7913566e-11, 0.00014886034, 3.1280635e-07, 1.0624636e-06, 1.003705e-05, 1.2834277e-05, 1.2013196e-06, 1.3111276e-07, 9.925054e-05, 1.798797e-07, 1.573006e-05, 2.3114906e-05, 1.4165281e-05, 9.2695224e-08, 2.2180369e-09, 5.4603124e-06, 2.5866884e-06, 1.5475874e-07, 9.508532e-06, 3.3040112e-06, 7.5735566e-06, 1.614656e-08, 1.1563677e-07, 7.148756e-05, 3.0608252e-08, 1.5053777e-05, 8.154641e-06, 2.8944902e-07, 1.1449778e-08, 2.0527823e-06, 4.984355e-07, 5.6795692e-05, 5.926777e-06, 7.0887354e-06, 0.0001005828, 2.9063449e-05, 6.257173e-07, 0.0003865466, 4.6522075e-08, 3.9012466e-05, 9.577036e-09, 8.594061e-06, 6.9337254e-08, 6.232796e-07, 4.7350056e-07, 1.778145e-05, 1.2067056e-07, 6.114919e-08, 2.1337822e-08, 4.7740136e-06, 3.098702e-07, 0.000111145964, 3.8683822e-08, 1.6781225e-07, 0.008223254, 1.7980699e-07, 1.3967319e-07, 0.00012822014, 4.784503e-05, 4.442979e-08, 2.1294907e-06, 0.0014496958, 4.4081722e-10, 8.000717e-06, 1.6982613e-06, 1.2685531e-05, 0.00065449695, 1.1945104e-07, 2.7893436e-06, 9.745812e-07, 0.00014092178, 4.758749e-10, 2.0531118e-07, 2.0955983e-06, 4.5279264e-10, 8.250379e-06, 9.005584e-06, 1.9354948e-06, 1.2566902e-07, 8.649014e-07, 0.00013641796, 6.8210664e-07, 1.2842497e-07, 4.1397193e-06, 0.00033851858, 0.012169981, 1.166859e-06, 3.8442204e-06, 1.7219556e-08, 4.5457306e-05, 1.4056893e-06, 0.00031904175, 6.0339687e-07, 3.1436186e-05, 9.0449785e-06, 2.1579045e-09, 4.3320827e-09, 0.00088034745, 8.360833e-06, 7.1486966e-08, 2.4111506e-07, 7.885645e-08, 4.732667e-08, 0.00018902135, 3.553628e-07, 8.337361e-06, 2.2887377e-06, 8.663786e-06, 2.6155825e-05, 2.5529213e-05, 3.2773667e-07, 1.5820905e-06, 8.5845215e-09, 1.3987276e-06, 1.1276867e-06, 2.4291527e-08, 0.007121965, 0.0002597257, 3.4552204e-07, 4.5107354e-06, 3.368435e-06, 3.4082655e-05, 0.0028543186, 2.3203436e-06, 1.4953727e-06, 0.00026789523, 2.278609e-10, 0.00012348944, 2.7109525e-06, 0.00029832998, 1.5599841e-06, 9.946718e-06, 4.7325673e-05, 4.8884704e-08, 3.880949e-06, 3.7224054e-06, 4.8049093e-05, 5.220454e-06, 2.0774212e-05, 0.022785628, 2.11842e-05, 1.8517812e-05, 2.698597e-06, 6.052203e-07, 0.000107157895, 7.0243203e-07, 0.0002582072, 1.3405996e-06, 7.473782e-06, 9.703169e-09, 0.00021901375, 2.612217e-05, 0.006077914, 4.6756322e-05, 2.0473783e-06, 5.999389e-09, 1.442132e-06, 7.856265e-06, 0.00025901772, 3.56008e-05, 0.00028260416, 4.530723e-06, 1.3626564e-09, 1.659467e-05, 1.7824703e-07, 2.1139467e-06, 4.7244102e-06, 1.5309248e-09, 1.1014436e-09, 0.00017114915, 1.5413686e-06, 0.0038250377, 7.988602e-06, 4.571364e-06, 8.7375085e-08, 4.1409938e-09, 1.08868665e-08, 9.963595e-09, 2.218114e-08, 3.3267795e-06, 0.00018992196, 0.0012995418, 4.149261e-06, 1.508323e-07, 3.061806e-08, 6.360632e-08, 1.5738394e-06, 1.0433511e-09, 5.0199696e-06, 0.00013582311, 1.9123263e-05, 4.15003e-05, 5.8001444e-08, 3.0720372e-08, 1.9970912e-05, 0.0001289835, 1.6627413e-05, 9.2067916e-07, 4.4069508e-05, 1.0344845e-07, 3.033717e-06, 7.7849035e-07, 3.8402558e-07, 0.0026110848, 1.3499136e-06, 1.6310496e-05, 2.1091886e-08, 6.061329e-08, 2.9364674e-06, 4.6062946e-06, 7.7219573e-07, 1.7928868e-07, 1.2527454e-06, 1.6143584e-05, 7.760577e-06, 7.319863e-05, 7.1606896e-06, 0.053469248, 3.4807784e-10, 1.1831692e-05, 7.859914e-06, 0.00017988954, 7.820063e-06, 0.00031594528, 1.7173658e-06, 1.2089248e-08, 6.809089e-06, 3.8689764e-06, 2.114344e-06, 0.00027112255, 0.07488642, 5.291033e-07, 0.00066778966, 8.889647e-07, 1.4365507e-06, 8.639748e-07, 5.0730694e-07, 3.302345e-06, 1.3288002e-05, 2.6170796e-06, 7.923297e-07, 0.0002821836, 1.039621e-06, 3.3320435e-09, 3.1682426e-08, 3.1969492e-05, 2.5879126e-05, 0.00074223866, 1.5853952e-07, 1.0020125e-07, 1.4761249e-05, 0.01970283, 6.8920956e-05, 3.4167224e-06, 2.285057e-08, 6.871464e-07, 2.5759535e-05, 2.3688493e-05, 2.8937225e-06, 2.792002e-10, 1.1919972e-06, 1.6225478e-05, 1.0945333e-05, 0.51123494, 5.42309e-07, 1.17702236e-07, 0.00033125712, 3.2181622e-05, 1.729532e-05, 1.0674549e-07, 4.775015e-10, 3.8473353e-09, 7.081641e-07, 1.6632077e-06, 0.00025398345, 8.895598e-05, 4.707177e-06, 4.6988026e-07, 5.470641e-07, 1.6660733e-06, 3.8259336e-07, 3.2618325e-05, 6.2755703e-06, 1.8571166e-06, 4.532576e-05, 9.289589e-06, 0.0023258142, 0.0038242037, 2.029035e-06, 0.16028577, 2.7473543e-09, 0.00020138995, 9.39705e-07, 3.1708728e-07, 0.018324377, 1.3106442e-06, 1.7897888e-05, 1.1390322e-06, 8.2590884e-07, 1.81763e-05, 2.8980694e-06, 9.780654e-07, 7.5020457e-06, 1.2777338e-06, 8.7622226e-07, 0.00039489736, 1.1694381e-06, 0.00016864922, 9.010949e-05, 2.2157196e-09, 5.8619447e-09, 8.02371e-08, 5.655257e-07, 0.11093606, 2.75917e-07, 0.0001539885, 0.00070566905, 2.7498075e-07, 7.665687e-07, 0.071964525, 2.5804875e-05, 6.287078e-09, 0.00032715735, 6.371038e-08, 1.5781754e-06, 0.0037266728, 0.015020328, 0.00020991612, 0.0026607604, 0.07870836, 0.009148315, 0.0007560945, 1.3368051e-05, 9.1082484e-08, 6.020125e-05, 4.2779608e-05, 8.471448e-06, 0.0009146564, 1.3449817e-06, 3.132945e-07, 6.0659486e-06, 4.3421253e-09, 7.5799356e-08, 1.552091e-06, 2.9999521e-06, 6.404403e-07, 0.00014860647, 1.5225585e-07, 0.00042754196, 0.002032534, 1.4369849e-05, 7.7361165e-07, 1.1299892e-05, 2.8635548e-06, 6.138396e-07, 5.995897e-10, 2.0407213e-06, 2.0791316e-05, 4.5096502e-07, 6.776981e-07, 1.041885e-06, 2.544469e-06, 7.3581265e-07, 0.0005143387, 4.611718e-07, 0.0008252787, 1.3140067e-07, 9.96679e-06, 5.2127598e-05, 4.016707e-06, 1.5299046e-06, 6.596871e-10, 4.747377e-06, 3.059551e-05, 3.152486e-07, 1.720008e-06, 7.826964e-06, 1.2469772e-05, 3.2516805e-06, 5.3895646e-06, 1.18655144e-07, 4.900504e-07, 2.4140496e-05, 6.614989e-10, 5.4952277e-08, 1.6017995e-07, 1.1017478e-06, 5.344047e-07, 5.2711108e-05, 3.397039e-07, 1.4056443e-08, 7.380809e-06, 1.8290817e-06, 3.859295e-08, 5.09845e-07, 5.758812e-10, 9.053056e-07, 3.8404e-09, 6.5403476e-08, 0.017641017, 5.3452977e-06, 2.6520584e-06, 0.00014550888, 0.007749301, 6.694707e-07, 1.461759e-05, 3.991503e-09, 4.745366e-05, 6.40662e-08, 1.8479737e-08, 7.762911e-05, 7.605017e-05, 1.679624e-06, 9.552681e-07, 6.769836e-05, 1.16281935e-05, 3.4201291e-06, 6.324017e-05, 1.5980338e-07, 0.00015998559, 2.4598217e-05, 7.583515e-10, 3.1484735e-05, 2.8555549e-05, 8.042522e-09, 1.6745954e-06, 2.6057325e-08, 0.00028945046, 2.2382395e-05, 9.518053e-07, 3.0089489e-06, 1.6252468e-06, 0.00022881714, 0.041223723, 0.00021763862, 7.453252e-10, 3.0167643e-05, 0.0074961213, 1.8291537e-05, 0.00059500936, 2.1215212e-07, 1.4347706e-09, 4.1499828e-07, 2.2058899e-07, 7.483845e-06, 1.8762218e-07, 0.00018226613, 3.9658098e-05, 0.0137424115, 0.00015943978, 4.0343726e-05, 6.846366e-07, 7.5115287e-07, 8.755157e-05, 3.633778e-05, 0.020286918, 1.7590145e-07, 5.267593e-05, 0.00039465574, 2.9552e-06, 2.2646724e-05, 0.06955346, 0.004786932, 3.902609e-06, 1.1256118e-05, 7.894281e-07, 0.0009391069, 7.1448856e-05, 2.4521068e-08, 9.898314e-07, 6.0590337e-06, 6.648954e-06, 7.079089e-07, 0.004402978, 3.647356e-06, 0.00060664583, 4.3226552e-07, 2.5298374e-07, 0.008831384, 2.0027495e-07, 2.7390422e-06, 3.5984533e-07, 1.8062014e-05, 2.2374251e-09, 1.9376706e-05, 8.30104e-06, 1.7393912e-08, 3.557111e-05, 0.0010183443, 4.4506297e-07, 8.576617e-09, 1.0871678e-06, 1.4245722e-06, 2.9966644e-05, 5.519066e-07, 1.373712e-06, 2.3586192e-06, 0.016403563, 0.03613511, 0.0029431174, 0.00027963106, 0.00012503465, 1.4097209e-06, 1.959087e-06, 1.1291136e-06, 1.6429784e-09, 7.6773576e-10, 1.1456615e-08, 2.997604e-06, 9.870461e-08, 0.00085282786, 5.9476247e-06, 0.00012414542, 5.135281e-05, 7.2633696e-07, 0.017000182, 7.7462646e-05, 7.6032566e-06, 2.6814246e-06, 0.00012590508, 4.2265888e-06, 1.5960568e-09, 7.7128897e-07, 1.9683755e-05, 5.9785384e-06, 0.00028349872, 2.8233699e-06, 1.5903492e-10, 1.968366e-06, 1.9904994e-06, 8.0745554e-07, 2.357976e-06, 5.0477087e-07, 2.6287237e-06, 1.4822485e-05, 8.7192933e-07, 6.369438e-06, 5.4619686e-05, 9.948897e-09, 1.9351484e-05, 5.3040853e-06, 8.192315e-07, 3.6672434e-05, 6.594373e-08, 0.0019618298, 1.002536e-06, 1.7555349e-06, 1.4391218e-06, 8.068128e-07, 6.153128e-06, 2.5197508e-07, 6.4065654e-07, 8.6851344e-07, 1.7663943e-09, 4.6066284e-06, 2.3767655e-10, 9.917732e-07, 6.280272e-05, 0.0003013501, 2.999426e-07, 5.5480396e-06, 1.4117052e-06, 1.0683714e-05, 1.9577594e-07, 4.418488e-08, 1.4289128e-06, 5.0294105e-08, 0.09394761, 0.37227806, 4.871321e-10, 0.0013860342, 3.033457e-07, 7.399501e-09, 0.00019087578, 3.3373627e-08, 1.0829314e-06, 3.694533e-07, 1.7395844e-07, 3.814079e-07, 5.9706013e-06, 4.3665177e-06, 3.029542e-05, 5.908981e-05, 8.035777e-07, 3.1905227e-05, 3.961739e-05, 1.0043303e-05, 8.068162e-05, 2.3912966e-07, 9.250719e-05, 1.5254453e-05, 4.1771275e-09, 1.6128727e-06, 5.2930395e-06, 3.9083177e-05, 1.5710756e-06, 7.4677445e-07, 5.935774e-09, 5.914508e-08, 0.00031975762, 1.3215575e-05, 3.7227496e-06, 3.2012254e-06, 7.872352e-06, 3.5741976e-07, 2.955961e-06, 9.295782e-05, 1.4442541e-05, 6.0236925e-06, 1.1185199e-09, 7.6250626e-06, 0.0032070319, 2.8676786e-06, 0.0003267627, 1.7788643e-05, 6.9165274e-08, 2.0464999e-08, 1.9737477e-06, 3.1453443e-08, 1.4994574e-05, 8.113591e-07, 2.2854701e-05, 2.6340213e-06, 4.2112526e-07, 0.00066694943, 0.00016528578, 2.7137121e-08, 0.00034009293, 2.2154582e-06, 0.00012841224, 1.1329126e-08, 6.339147e-08, 1.0138138e-05, 8.701934e-08, 2.434269e-07, 3.468817e-06, 3.6578338e-05, 0.10388911, 1.7862443e-06, 9.410795e-06, 4.8074304e-05, 2.0411792e-07, 0.00049572357, 5.1624943e-06, 0.0033098967, 8.5751955e-05, 0.062312175, 5.0651768e-05, 0.0010208786, 1.7310133e-06, 6.024559e-05, 2.6470073e-07, 0.0014874607, 1.446319e-06, 2.4053677e-05, 8.188714e-05, 0.04890523, 2.444734e-06, 0.040658697, 0.027895624, 1.6512862e-05, 0.015336656, 6.045591e-06, 2.8571087e-08, 0.0001576105, 2.8195733e-05, 0.00042643442, 7.787497e-06, 4.2427746e-06, 0.0010875667, 2.2354486e-06, 0.00018965792, 1.157492e-07, 9.322377e-05, 0.016791226, 4.2696953e-05, 4.1811298e-05, 0.0017709133, 6.2663366e-06, 3.8466037e-08, 6.1283376e-05, 7.915781e-09, 3.056341e-05, 0.0006426778, 1.953654e-06, 2.6797965e-05, 2.3265091e-05, 1.2101922e-06, 9.099894e-06, 3.0733904e-06, 1.5853084e-08, 1.3139685e-08, 1.7432096e-05, 1.4883535e-05, 0.00062587234, 0.00015591217, 3.6323425e-07, 0.28484288, 0.00015777483, 2.9618684e-07, 0.0056893053, 2.7535927e-05, 2.1544363e-06, 2.050849e-08, 8.026548e-06, 3.213868e-06, 0.0006365187, 1.8984529e-05, 3.8151776e-07, 0.003432839, 0.005891024, 4.2951553e-10, 1.6351877e-09, 6.307427e-07, 0.00012261131, 1.1810183e-05, 5.9713534e-07, 0.0005119489, 0.97759855, 1.0172092e-06, 0.0002312435, 0.00031395722, 1.8121807e-06, 6.103545e-05, 1.8089868e-09, 0.43919712, 0.00014318257, 1.3105775e-07, 0.00010168548, 0.00015426068, 7.352393e-05, 0.00013765541, 0.0008310664, 0.0028757597, 2.441861e-09, 8.271504e-05, 6.593984e-08, 3.597979e-05, 0.00027138533, 0.00024268594, 0.0005282679, 0.0076937503, 0.0004939707, 6.62588e-08, 1.0694373e-06, 1.3432935e-06, 0.000106006606, 8.3802725e-09, 7.891837e-05, 0.0007042811, 0.0019682515, 0.00013633916, 0.00070474437, 0.000110068264, 6.687943e-08, 0.00013592871, 0.0007895796, 1.400122e-07, 1.0626161e-07, 0.0001854905, 0.000103062695, 0.0004414437, 1.1558457e-08, 0.00093895657, 5.466844e-07, 1.2903593e-08, 2.5719737e-06, 3.895162e-08, 4.4763357e-07, 0.00070976914, 9.33818e-08, 3.0072739e-05, 1.5851587e-05, 0.00012124232, 3.0295942e-06, 2.1389835e-06, 1.9959039e-08, 4.655425e-07, 0.00019624065, 2.3104702e-05, 0.00013685145, 0.00014065274, 0.00015186728, 0.00018201586, 7.169182e-05, 0.00018170927, 3.3357417e-06, 5.322045e-07, 9.4277e-06, 0.00041656775, 4.460479e-08, 3.9333642e-08, 0.00030604607, 3.9822422e-05, 0.0019212737, 0.0001899819, 0.0001283449, 2.1864442e-05, 5.6829333e-05, 0.0006295204, 3.388077e-07, 0.001968534, 7.882397e-08, 1.37647085e-05, 7.126614e-07, 0.009520854, 5.871448e-08, 0.00013817172, 2.9681541e-07, 2.9262412e-05, 3.0344108e-05, 7.2417004e-07, 0.0003759201, 0.0009824121, 0.025484608, 3.5594798e-09, 6.225602e-07, 0.0022227427, 0.0007314866, 0.00043762714, 0.017192952, 4.11078e-06, 4.3247383e-05, 6.540038e-06, 0.00054271106, 3.379995e-05, 0.00010460331, 2.2872928e-09, 6.960337e-05, 2.8894268e-05, 7.995004e-05, 0.00016296405, 0.0015364732, 0.00067495904, 2.5756857e-05, 0.00010059383, 0.0006493945, 0.00061995327, 1.2591466e-08, 0.046322696, 3.9734798e-05, 0.00017789552, 4.045091e-09, 0.00017500998, 8.461765e-05, 0.0004396308, 7.29251e-05, 0.00028427583, 2.9639737e-05, 8.910555e-05, 0.0051725428, 0.0051725428, 5.4970064e-06, 2.287422e-06, 0.00040751934, 3.9388462e-05, 2.0732593e-06, 0.00010044306, 1.1475607e-06, 6.90716e-07, 1.3367899e-05, 1.4092034e-06, 0.0061235214, 8.457967e-06, 8.692056e-06, 0.00036181128, 0.00013742788, 8.256334e-08, 7.5090747e-06, 9.486133e-06, 3.4951702e-06, 0.002832516, 2.3631836e-05, 1.5828813e-06, 3.297354e-06, 1.1517545e-06, 1.5445544e-07, 3.098491e-06, 1.642079e-06, 0.0014069665, 1.4606628e-06, 0.00011574968, 1.2758495e-05, 0.0030926133, 0.00059090357, 0.008980852, 0.04031451, 6.4462574e-06, 0.00011172061, 0.00010867346, 0.00012543544, 0.00018658959, 5.3753996e-07, 9.463139e-05, 0.0060131615, 2.7395352e-05, 2.414418e-05, 3.7900713e-06, 5.330887e-05, 1.8357117e-06, 0.0006226049, 9.512495e-06, 0.00012499605, 4.914146e-06, 4.213873e-05, 4.7546746e-05, 9.865168e-09, 9.5487914e-05, 5.9727254e-06, 6.384318e-06, 7.303922e-07, 0.00026361152, 3.7636375e-05, 0.00023291635, 0.00013709268, 0.00048376212, 4.932434e-08, 3.792497e-05, 2.5810036e-07, 5.483511e-07, 0.003305272, 0.0012431483, 1.8328537e-05, 4.0187415e-06, 0.00016118513, 0.9598605, 1.4863747e-05, 0.0024197772, 0.0041198516, 1.8558135e-06, 8.992588e-05, 8.913935e-06, 0.6493183, 3.3862744e-07, 3.6580782e-06, 0.0030952105, 0.0001510183, 0.73851925, 1.153224e-06, 4.167615e-05, 5.063198e-06, 4.8422057e-06, 1.5102724e-05, 9.3365384e-07, 8.315769e-06, 5.5305034e-05, 2.2312048e-07, 0.00018957094, 5.4659057e-07, 6.717731e-07, 0.00013605294, 5.933547e-07, 2.844425e-05, 0.0008737897, 0.00051313755, 3.1341133e-07, 0.00013109579, 1.7682089e-05, 2.6653453e-05, 1.2375509e-06, 0.68127286, 5.502276e-08, 7.966834e-06, 6.7609074e-07, 4.363851e-05, 6.4195397e-06, 0.0019112926, 1.830307e-05, 9.747422e-06, 2.4398185e-05, 1.6209178e-05, 0.587199, 0.000305741, 7.309996e-06, 5.7367135e-05, 0.0090001235, 5.4302604e-06, 1.5489827e-06, 7.68595e-08, 1.6886916e-05, 3.371844e-05, 4.370042e-06, 6.4774554e-07, 0.9750676, 3.3696262e-05, 1.174841e-05, 2.1535311e-07, 4.3019177e-06, 3.4501702e-06, 4.3325283e-05, 1.9218178e-06, 0.00069567043, 0.00094454933, 0.8513878, 1.47089895e-05, 5.508691e-07, 0.00010303902, 1.14887875e-07, 0.0029663409, 0.00013756526, 0.00024022083, 5.820428e-05, 0.00047513295, 6.272563e-05, 8.419958e-05, 8.0053644e-07, 5.260177e-07, 9.3271495e-07, 1.3451074e-06, 0.16494747, 0.974573, 3.617183e-05, 0.025336819, 0.00025912392, 0.00025315737, 0.0012097649, 0.00012929444, 0.00010540635, 2.7977174e-07, 4.634874e-05, 8.876634e-07, 8.333505e-06, 0.035078563, 0.034329593, 4.8403916e-07, 0.74871826, 1.3757586e-06, 1.6718652e-06, 1.5901408e-06, 2.0836098e-06, 1.3511552e-06, 0.005529467, 1.8722126e-07, 3.8832638e-07, 2.2159685e-07, 4.6892048e-08, 4.9938615e-07, 9.628617e-08, 1.7426778e-07, 8.818957e-05, 1.2380521e-07, 2.4672846e-07, 4.2974955e-07, 4.5018555e-07, 1.508303e-06, 1.8523284e-06, 1.3584164e-06, 7.840128e-06, 1.2590917e-05, 4.947425e-07, 1.22161755e-05, 4.0878285e-06, 0.0089416085, 1.5391315e-06, 0.0005723163, 3.135251e-05, 0.00014060998, 0.10645339, 0.01544643, 3.5976852e-06, 1.00109936e-07, 5.82209e-07, 1.2964112e-07, 3.62489e-05, 2.8148938e-07, 4.1576474e-08, 0.00012581026, 4.934983e-05, 0.00912665, 0.002523003, 8.870202e-05, 0.00045497337, 1.4778589e-05, 1.5137389e-05, 0.9897176, 0.0008743877, 0.0056008906, 7.43222e-07, 6.872821e-07, 1.5156919e-05, 0.003155476, 2.3302373e-05, 0.00029732988, 0.5037589, 0.0002033054, 1.2028446e-05, 5.687992e-05, 5.529862e-08, 7.878076e-06, 2.9737845e-05, 2.9942075e-07, 5.0305803e-06, 0.0035852084, 0.027502568, 0.034382634, 0.0015497288, 1.9847444e-05, 1.8920551e-06, 8.519542e-06, 0.0021227377, 3.1679294e-05, 2.8338469e-05, 1.538932e-05, 0.00010073158, 0.00021215402, 6.575099e-05, 0.00010046594, 0.0009036233, 4.7400567e-07, 5.628063e-05, 0.0054818443, 0.00043301436, 6.935279e-05, 2.048416e-07, 1.0564898e-09, 1.1775665e-08, 2.043132e-06, 5.0031375e-08, 9.665107e-05, 0.00019182471, 1.1742088e-06, 6.136277e-07, 3.8830516e-05, 1.5832225e-06, 9.585991e-07, 5.996331e-06, 9.3566105e-06, 0.000224938, 2.6722428e-05, 3.770733e-06, 1.1330733e-05, 3.7497623e-05, 6.593979e-06, 9.839406e-07, 8.350375e-08, 0.00075084396, 3.2656948e-07, 0.43740162, 0.005980251, 1.7515114e-05, 0.00011324971, 1.7902668e-05, 5.4888387e-05, 0.00011220382, 0.0005775113, 7.641379e-05, 9.82271e-06, 5.2034866e-05, 0.28725374, 0.00013187187, 9.77319e-05, 7.477311e-05, 4.9618645e-08, 7.7856035e-05, 0.00011268837, 0.00030045735, 0.00012037384, 0.0002480964, 1.7095336e-06, 0.00054942974, 2.4279914e-06, 2.248341e-06, 0.00011245747, 0.09065252, 0.00073798076, 0.00028179726, 1.9968931e-05, 3.3537884e-07, 0.0018773602, 0.0001424832, 0.0011970778, 0.0002178051, 6.580764e-05, 6.63061e-05, 0.001918673, 3.610633e-06, 0.0016927674, 4.65416e-07, 0.00031003004, 0.011535955, 0.055422395, 0.006256909, 0.0020651969, 3.657119e-05, 0.00035724623, 1.3612591e-06, 1.3021899e-05, 0.0031280334, 0.0047335485, 5.6706663e-06, 0.0005539348, 2.3246128e-05, 0.012676679, 7.777188e-06, 4.2769978e-05, 0.003529964, 0.0017349528, 1.5240854e-06, 0.0008728344, 4.8661746e-05, 0.013915479, 0.00017872133, 0.0017126697, 0.08871642, 7.8692075e-08, 0.0010839439, 0.0001430993, 6.423077e-08, 0.00012293116, 8.5706245e-07, 1.0476309e-06, 3.0496767e-06, 0.00075285515, 0.008365757, 1.0575975e-07, 3.4958302e-06, 5.842166e-09, 0.07638343, 7.16274e-07, 4.6874273e-05, 3.2356553e-07, 7.415349e-05, 2.4333496e-05, 9.574312e-05, 2.085931e-07, 9.676836e-06, 0.0003827364, 3.1153007e-07, 4.687596e-06, 1.9456276e-07, 2.7211402e-07, 0.002770184, 3.359837e-06, 3.819049e-05, 8.631648e-06, 1.3455629e-06, 5.639792e-05, 2.966476e-07, 0.0026918754, 4.261759e-08, 2.2273014e-05, 3.1836954e-08, 5.246852e-06, 3.2160216e-07, 0.00042518828, 2.016891e-07, 1.7639954e-07, 0.0002176079, 6.239891e-08, 1.1398985e-08, 1.5375647e-06, 2.2521505e-08, 0.00011940918, 4.352789e-06, 3.4202746e-08, 1.5555385e-08, 3.3531174e-05, 2.8452455e-06, 1.5150344e-05, 3.611986e-07, 0.0021937431, 8.316285e-06, 8.316285e-06, 1.5085216e-06, 4.217824e-08, 1.1900713e-07, 3.2462575e-09, 9.944168e-10, 9.839105e-09, 0.00036800522, 3.198154e-07, 0.0003293787, 1.7629326e-07, 1.4304999e-06, 6.7323035e-06, 6.9400095e-08, 2.0231744e-06, 0.008401576, 6.588669e-05, 0.01269539, 2.6519876e-06, 2.9866892e-06, 2.9570215e-08, 1.715096e-05, 5.36683e-07, 7.840087e-05, 5.060654e-06, 2.374646e-06, 5.9809144e-09, 0.000112341826, 6.238673e-05, 4.0637184e-05, 2.7920791e-08, 1.5351486e-07, 1.5542342e-06, 3.477701e-09, 1.926575e-09, 3.7801447e-06, 3.3542233e-07, 2.2428628e-06, 3.6095917e-05, 3.6281153e-07, 0.00040362895, 6.637713e-07, 1.3866001e-07, 2.2828606e-05, 2.3126204e-06, 5.510078e-07, 0.0004473613, 5.555632e-06, 1.6323435e-08, 2.1992323e-06, 8.552554e-09, 1.8314661e-06, 4.9824052e-06, 9.551305e-07, 2.048355e-05, 7.590454e-08, 1.014786e-05, 2.6226363e-07, 7.2083567e-06, 6.4619377e-07, 1.935109e-08, 8.185497e-07, 2.3009949e-07, 2.3009949e-07, 4.420471e-06, 4.694173e-05, 0.00016694303, 0.0014195119, 5.9137954e-05, 9.77793e-07, 9.420663e-06, 0.00018735797, 0.00017452521, 0.00073752523, 1.080122e-05, 4.2499787e-06, 9.759524e-08, 1.7267994e-05, 5.6054046e-09, 2.821788e-07, 1.2222796e-08, 1.4381928e-06, 1.6652498e-08, 2.3326699e-07, 4.993699e-08, 6.7915394e-08, 0.00014415165, 1.93412e-08, 9.726351e-05, 0.05832791, 5.187518e-07, 6.319457e-08, 2.2492957e-05, 8.819122e-06, 1.1482602e-05, 6.16188e-08, 1.3699823e-06, 2.4583958e-05, 4.6237237e-06, 9.767119e-07, 0.0021067848, 0.00012842425, 0.022914402, 2.5412485e-06, 2.5412485e-06, 0.0011900296, 4.4861546e-05, 0.00026192446, 2.6907901e-05, 0.00012465776, 0.00037884517, 6.0836373e-07, 8.878114e-05, 0.04133866, 2.1717604e-05, 1.1805399e-07, 0.00030045077, 0.00014473466, 0.00016590458, 1.1654683e-05, 5.2105736e-07, 0.0030258591, 1.8105225e-06, 2.1531853e-06, 0.045342796, 0.00047134777, 5.4484324e-05, 7.3812107e-06, 0.00022563116, 8.74537e-06, 9.0797366e-05, 1.2903939e-05, 4.6160388e-08, 2.157615e-06, 3.8915707e-05, 0.00020028753, 0.0007797881, 0.00023117271, 2.0407722e-05, 0.0006118311, 3.0703436e-06, 6.196117e-07, 2.337723e-07, 7.436541e-06, 2.5007932e-05, 1.2862485e-05, 6.769863e-07, 4.6472237e-06, 1.1582507e-05, 4.534958e-05, 0.0002082666, 6.806674e-06, 2.4799786e-07, 5.992884e-08, 0.00091760844, 5.7171834e-05, 4.7451363e-06, 1.1378629e-06, 1.3915096e-07, 1.3359447e-07, 4.7850368e-05, 2.3045504e-07, 1.4363123e-06, 4.797093e-07, 4.3354103e-06, 7.52833e-05, 3.7038149e-06, 9.488995e-09, 9.24699e-08, 2.7109166e-07, 1.40175525e-05, 1.6117029e-07, 8.918682e-08, 8.496998e-08, 6.383259e-06, 1.1497832e-05, 6.8265916e-07, 1.609049e-07, 1.609049e-07, 7.290915e-08, 1.9925394e-06, 7.424683e-08, 1.7363107e-06, 4.7425292e-05, 2.9229287e-07, 8.22346e-06, 0.00033852278, 1.4001542e-07, 3.839289e-07, 0.000116514886, 2.611027e-06, 2.4475637e-09, 1.35031835e-08, 2.2865428e-05, 6.883572e-07, 2.8873774e-07, 2.0428534e-08, 2.3673786e-06, 2.1255811e-08, 3.5993364e-09, 1.0568853e-06, 1.1416146e-09, 1.0959161e-08, 8.041556e-09, 9.793919e-06, 0.006410454, 0.12681292, 8.057613e-05, 0.00049549434, 4.165061e-05, 4.447941e-06, 4.947358e-06, 7.360607e-06, 5.6748913e-06, 2.259307e-06, 9.430785e-06, 7.168321e-06, 0.0010624683, 1.9497638e-06, 0.23372884, 4.4959274e-06, 6.0402095e-07, 5.855669e-05, 4.4783183e-06, 3.6497015e-05, 1.6319424e-06, 2.3074206e-05, 4.8259368e-05, 1.4824408e-05, 2.4851047e-06, 0.002536824, 0.00037157064, 1.3198357e-05, 4.333015e-07, 0.007750464, 0.00041292567, 0.0006363216, 0.0016666586, 0.0017675388, 7.027162e-05, 0.35579407, 0.00018561223, 0.00020746171, 0.0010915118, 0.039134502, 0.00019610394, 1.4692046e-06, 2.126766e-05, 2.8060407e-05, 4.7873964e-05, 1.4023289e-05, 1.8000368e-05, 6.989372e-06, 5.760911e-06, 2.8627752e-05, 0.00022025811, 0.0001514651, 0.00017799683, 1.6844839e-05, 5.271901e-06, 0.00033486867, 0.9773402, 2.306053e-06, 0.009123438, 0.0004378558, 0.08462516, 2.998905e-06, 6.139621e-05, 1.1454953e-06, 2.6947835e-05, 6.847248e-05, 2.8517125e-05, 4.6219503e-07, 1.405167e-05, 7.711132e-05, 3.621663e-05, 2.3060572e-06, 9.2512455e-06, 5.865521e-06, 5.677289e-06, 5.8159467e-06, 0.00041830275, 0.00016981586, 1.7242734e-05, 0.00010734024, 0.00013614068, 6.786965e-05, 2.6246777e-05, 1.1984305e-05, 1.8668741e-05, 7.1343864e-05, 0.000288607, 5.6848734e-05, 6.9120565e-06, 7.3223246e-06, 5.2597476e-05, 2.4977613e-05, 3.6730503e-06, 8.253882e-06, 3.0458394e-05, 8.518323e-06, 4.6639134e-06, 4.398117e-05, 2.4999443e-05, 2.55137e-06, 9.964784e-06, 4.657757e-06, 3.5029367e-05, 2.129792e-05, 3.170345e-06, 4.4603876e-06, 0.11344863, 2.0294672e-05, 2.2317283e-05, 0.0002022484, 1.43895695e-05, 8.050296e-06, 6.624416e-05, 3.1755027e-07, 0.001864817, 0.00014179994, 0.064982295, 2.6936113e-06, 0.015396328, 1.4656466e-05, 0.0019005602, 0.0014537852, 7.3345436e-05, 1.3788191e-06, 3.9089104e-05, 0.00012785204, 2.1002677e-05, 2.2930655e-05, 6.4402234e-06, 2.6586664e-05, 0.00010894666, 1.0161834e-05, 2.1377832e-07, 5.892129e-06, 3.073984e-05, 6.4547996e-05, 1.2314113e-05, 0.00025740222, 1.1893335e-05, 1.2676026e-05, 9.742719e-06, 5.0852326e-05, 8.630179e-07, 0.00038496545, 0.0005465421, 2.1991201e-07, 0.00016599002, 3.6647648e-06, 1.8562262e-07, 1.9116962e-08, 3.2070233e-07, 4.3914656e-06, 7.5731305e-06, 6.7703613e-06, 3.583543e-06, 4.8827114e-06, 9.828642e-06, 3.5419453e-07, 1.2991035e-06, 1.9443954e-08, 0.00012478704, 2.9418756e-09, 7.3304576e-09, 4.494204e-06, 2.2423545e-05, 8.382325e-06, 2.6339333e-06, 7.96255e-07, 8.597023e-05, 1.112981e-06, 3.1277374e-05, 7.3405236e-06, 5.1523468e-05, 2.2865472e-05, 1.9616593e-05, 4.8501414e-07, 0.00026457742, 0.0006201371, 5.097821e-06, 4.3520395e-05, 1.625506e-05, 1.9619551e-06, 3.4426107e-06, 3.2904463e-06, 5.6341837e-06, 0.00012872965, 4.451039e-06, 7.838192e-06, 7.131399e-06, 1.4439622e-05, 1.9157886e-07, 3.1358303e-09, 2.955387e-07, 0.320989, 6.2729378e-06, 0.0002805938, 1.1688164e-05, 3.799093e-06, 1.3438662e-06, 4.428478e-08, 4.022855e-05, 1.1357401e-06, 0.00017170819, 6.583984e-05, 0.0002544192, 5.7770194e-05, 2.831054e-05, 5.7854713e-06, 3.7423633e-06, 1.2631641e-05, 3.6539986e-05, 0.9580605, 8.704975e-05, 0.00013252611, 1.2659141e-06, 9.634515e-06, 0.0015291724, 2.5513658e-05, 3.0510782e-05, 3.5922672e-05, 5.2145147e-05, 5.6216385e-07, 0.0011468803, 0.009562001, 4.651214e-06, 1.0385337e-05, 8.976063e-06, 5.331716e-05, 4.3445678e-05, 7.3356737e-06, 8.288711e-08, 9.1801805e-05, 8.529634e-07, 0.012632192, 1.7006405e-06, 7.3104235e-07, 0.0030949218, 7.741652e-07, 0.98995095, 1.4459644e-05, 2.6603925e-06, 1.4092413e-05, 6.083537e-06, 2.6463283e-06, 0.0020975452, 0.20718619, 0.0012047889, 0.006524483, 0.00040674699, 0.8883751, 6.526623e-06, 5.7331445e-10, 5.183634e-06, 0.0007378739, 0.0001108811, 0.012399681, 9.774634e-05, 9.7887656e-05, 0.61285776, 1.4965125e-06, 3.92881e-07, 0.99206406, 0.32683998, 0.94403434, 0.6814226, 2.188889e-05, 4.545546e-06, 0.09044487, 0.9153422, 1.16552055e-05, 0.6370946, 0.1324521, 0.87709117, 0.00087957183, 0.9999604, 8.835286e-05, 0.78434163, 0.98221886, 2.9640021e-05, 0.00030666497, 0.5596949, 5.9436215e-06, 0.41069728, 3.1293723e-06, 0.9577256, 0.97109884, 7.664696e-06, 0.0015772772, 0.1808845, 3.1341779e-06, 0.00079423795, 0.0003706817, 0.00012508249, 0.0001912011, 0.001102495, 0.5911247, 0.65024143, 5.9798498e-05, 0.982141, 0.0010114156, 0.9965612, 0.992473, 0.4947089, 0.7712378, 0.010857273, 0.845739, 0.0017804684, 0.0003496737, 0.020280086, 1.6822558e-05, 0.9284207, 0.497221, 0.99933404, 6.470428e-05, 0.00061553105, 0.9840433, 6.330318e-06, 0.10243029, 0.0044399872, 4.1184532e-07, 6.8856973e-09, 4.408788e-06, 4.7573113e-07, 2.2557682e-05, 4.9270082e-05, 8.743967e-07, 9.219259e-07, 8.3341274e-07, 9.0873965e-07, 0.99973994, 0.00010132502, 7.051401e-05, 1.8210579e-06, 9.840522e-07, 9.962912e-07, 3.3343517e-06, 5.1341303e-06, 2.60316e-06, 2.15613e-06, 7.949925e-06, 3.9102437e-07, 7.080804e-07, 0.00015022968, 3.6141366e-06, 4.150628e-05, 9.100223e-07, 4.7216176e-07, 9.063664e-05, 0.0022865683, 0.00014845183, 1.6360142e-06, 0.999961, 7.4687516e-05, 1.1121471e-06, 0.99908495, 0.30828366, 1.3527099e-05, 0.024285462, 0.001334929, 0.42163908, 0.002991853, 0.99963176, 0.00017458278, 4.1728683e-05, 0.15009364, 0.00019931252, 0.00019931252, 0.96689045, 0.8113416, 0.99860483, 0.00056113926, 1.2940624e-05, 0.9992675, 0.0017872212, 6.0970877e-05, 0.013154365, 0.92470574, 0.079735495, 1.6229082e-07, 1.1045051e-05, 0.0010740203, 1.0565765e-05, 0.00038271834, 3.6689366e-07, 0.04961638, 0.00017209338, 2.6233862e-05, 0.000632689, 0.000109650064, 0.0002771222, 0.00020983325, 1.2546306e-05, 0.00022445833, 0.00094919995, 0.89803106, 0.00013147209, 0.00054327515, 3.620132e-06, 2.0633574e-06, 0.002448993, 0.017481098, 0.9924615, 0.13509709, 0.9206207, 1.9613658e-06, 1.31411125e-05, 8.665115e-06, 1.1406266e-05, 0.00021497482, 2.2430904e-05, 0.0005494091, 0.0006657822, 3.8141366e-08, 4.808889e-05, 0.0003853624, 1.0870496e-06, 0.00012868877, 1.6481587e-07, 0.00011037274, 0.019236043, 3.8192105e-08, 7.8792105e-08, 3.288468e-08, 2.8317887e-08, 0.00046971874, 5.6703033e-08, 0.0025281827, 0.00014729475, 1.8903332e-07, 5.187291e-05, 0.002068842, 1.2822484e-05, 4.149013e-05, 1.1678315e-05, 2.378515e-06, 6.920909e-08, 6.3116304e-06, 1.0138853e-06, 2.6583324e-08, 2.9504146e-05, 0.0089984825, 0.0089984825, 7.142386e-08, 0.00058547413, 9.031491e-08, 1.2877143e-07, 7.637787e-05, 0.017764034, 1.5667844e-07, 1.37897e-07, 0.004627965, 8.6050164e-08, 6.08772e-09, 3.102534e-07, 0.0019917863, 8.702012e-05, 2.0479433e-07, 3.458593e-07, 1.3611367e-05, 8.3437186e-07, 5.9602567e-09, 0.006678616, 4.056865e-05, 8.111517e-07, 0.00021364051, 0.00012426931, 1.0922496e-06, 0.00013906788, 0.00016187361, 4.8255228e-05, 3.0964625e-07, 0.00012096412, 9.155544e-05, 0.00012467524, 1.6089176e-05, 0.0001950702, 4.671964e-05, 6.3337563e-07, 1.1173925e-06, 2.0376797e-06, 0.00039870766, 2.2715785e-06, 9.625813e-07, 0.009929666, 2.1279984e-06, 2.2363645e-07, 5.971462e-07, 4.0508496e-07, 1.2296604e-06, 2.3814885e-06, 2.9711194e-07, 3.116545e-06, 2.26677e-06, 1.7948746e-06, 6.393144e-07, 5.2048595e-06, 1.0662894e-06, 3.101191e-07, 7.742243e-07, 1.1640797e-05, 1.8455576e-06, 1.0384814e-06, 3.5368043e-07, 1.5935839e-06, 6.803876e-07, 1.1990579e-06, 7.038711e-07, 2.0815749e-07, 7.279437e-07, 2.0496451e-07, 7.667712e-07, 1.8371479e-06, 0.021070678, 3.8339176e-06, 3.6783218e-05, 0.0022185387, 2.0802393e-07, 0.36782002, 7.730557e-08, 1.4224588e-05, 3.4673843e-07, 0.00016388984, 3.4706496e-05, 0.6299165, 0.00023564597, 1.18455475e-07, 3.7525558e-07, 0.0031213465, 0.0019389754, 0.00014022931, 0.0020532052, 7.358173e-05, 1.8008653e-06, 3.425392e-05, 0.00016674068, 0.00010777718, 3.7847403e-07, 3.9782768e-07, 0.0020580569, 2.2580776e-05, 8.781479e-05, 6.8483837e-07, 2.8639406e-07, 0.00037649556, 0.00022396685, 2.5500553e-08, 9.002217e-07, 1.1868881e-06, 0.0006353217, 2.9661055e-07, 0.00039351897, 4.4604704e-08, 1.1558055e-05, 1.9674521e-06, 1.5631979e-07, 1.4858907e-07, 0.0016387306, 0.00011871437, 0.0013744374, 0.00022601098, 2.601934e-07, 1.500607e-07, 3.6181987e-07, 0.0004143499, 0.0004321208, 0.00040644157, 2.0817663e-05, 7.2486073e-06, 0.0003638928, 2.633097e-07, 3.4015407e-05, 0.04846565, 1.6548047e-05, 2.3548371e-05, 1.8135468e-07, 0.00028901175, 7.7946726e-07, 3.0830262e-07, 5.1166768e-05, 0.00033202037, 0.00012556816, 2.3731384e-06, 8.949422e-08, 0.00948367, 1.2146688e-07, 6.247316e-07, 1.283498e-07, 3.6983718e-07, 4.5318018e-07, 0.0028017769, 0.0006211592, 0.0017689208, 2.65566e-07, 4.994722e-06, 0.004425011, 0.00441266, 3.6825895e-05, 0.002388651, 6.465704e-05, 0.023376808, 0.028315209, 9.260611e-06, 2.6614367e-05, 5.212978e-05, 0.00068842235, 0.01705951, 0.000126986, 1.6418097e-06, 8.277514e-06, 3.3795973e-06, 1.4440297e-05, 2.7604732e-05, 3.813806e-06, 8.20135e-06, 0.00016354422, 9.59157e-07, 0.008790419, 0.00958645, 4.2176125e-05, 0.000102120706, 0.00019081299, 0.0019216265, 6.565046e-06, 3.005688e-06, 0.00019565194, 0.0016827808, 9.327498e-05, 1.4328798e-05, 7.1504124e-05, 0.0074496455, 6.083219e-08, 2.4993794e-06, 4.2630377e-06, 2.781914e-05, 3.308755e-05, 0.00023287392, 0.0019318932, 0.00019675288, 1.3391197e-05, 5.8566966e-05, 1.536757e-05, 3.4010723e-06, 1.0971575e-05, 3.306224e-06, 6.3717216e-06, 0.0001184448, 1.0172044e-05, 0.00040645627, 0.0006199001, 7.542745e-05, 2.2642664e-05, 1.1777139e-05, 1.9916346e-05, 0.0008423866, 4.7527763e-07, 0.00070121646, 6.0147268e-06, 1.2233103e-06, 0.0006484453, 1.7747775e-06, 5.211204e-05, 0.002820446, 2.68201e-06, 7.5848325e-06, 3.518812e-06, 5.6364943e-06, 2.9886445e-05, 1.280349e-06, 4.3610018e-07, 0.00011073084, 0.0008452225, 3.0150527e-06, 5.965303e-07, 5.495539e-06, 0.00019416669, 1.2834224e-06, 0.00029854418, 3.1606035e-06, 3.076709e-05, 2.8287495e-06, 0.0001900703, 0.0012054007, 3.9067054e-06, 1.7698605e-05, 1.3879188e-05, 0.00437, 4.4693273e-08, 1.4184396e-05, 1.6680442e-05, 3.847331e-05, 0.0073505435, 9.551824e-05, 4.5764937e-06, 1.3429782e-05, 4.5052715e-05, 4.9184923e-06, 9.30958e-06, 5.4406826e-07, 1.1509921e-05, 4.3067944e-06, 9.451917e-06, 1.2811063e-06, 0.00076093455, 7.825382e-06, 0.17857984, 1.719067e-05, 7.4415643e-06, 1.03116545e-05, 1.0888707e-05, 7.749166e-06, 2.3307716e-06, 1.4002563e-05, 3.292273e-06, 1.8546741e-06, 1.3274982e-05, 8.695737e-06, 1.6069793e-05, 2.094539e-05, 1.6483395e-05, 1.396802e-05, 6.5372177e-07, 1.0788702e-05, 9.396384e-06, 0.00030851687, 2.4423163e-05, 3.643834e-06, 2.467881e-05, 8.284512e-06, 3.0387371e-05, 9.984932e-06, 3.0375788e-06, 1.1722397e-08, 1.1791013e-06, 0.006208958, 8.156391e-06, 8.260985e-06, 2.4665555e-06, 6.8703764e-07, 8.047441e-06, 3.8217593e-05, 1.3864887e-05, 7.9785e-05, 7.2889753e-07, 5.0803523e-05, 0.028820852, 0.00022140244, 0.00040790995, 1.1230139e-05, 6.215538e-05, 0.00016567962, 1.3478629e-05, 1.8535053e-06, 7.1993227e-06, 0.00039001546, 4.8178713e-06, 5.359498e-06, 0.000187772, 1.8472692e-05, 0.00026080836, 2.3522212e-07, 6.7310966e-06, 3.0277251e-06, 4.526796e-05, 4.1937965e-05, 2.9878893e-05, 5.8965972e-05, 3.5742996e-05, 0.00028716328, 0.0008381072, 0.0008519714, 0.026872372, 1.7545809e-06, 0.0006953285, 6.574361e-07, 0.010271631, 0.013062447, 0.067294896, 0.00044779602, 0.005876471, 0.000113682494, 0.00018050775, 0.00015195723, 0.00017726801, 0.00015986437, 0.00026134375, 7.2528255e-06, 2.9387162e-05, 0.00011461991, 0.0002304786, 0.0031474512, 0.018929916, 2.2740389e-05, 4.294339e-05, 1.4701066e-05, 0.00012282512, 0.04062671, 0.00016366168, 0.00014028842, 0.000509107, 0.0059070974, 0.0020301638, 9.748319e-05, 7.789421e-05, 0.0004596587, 0.00028598594, 2.4473922e-05, 0.07240334, 0.00013353227, 2.9664224e-07, 0.0014616178, 0.00026034302, 0.042095516, 0.007111537, 0.00013875688, 0.0022082017, 0.0010516735, 0.0002707307, 0.06721865, 0.00076769904, 0.0021233328, 0.017539771, 6.155039e-05, 3.2548756e-05, 5.8196954e-05, 0.005048841, 0.0068158773, 1.2307091e-05, 0.00011888396, 0.00039964032, 0.00079634856, 3.1001797e-05, 0.021204442, 0.024585778, 0.024585778, 0.00013276945, 0.00035451388, 0.00014700166, 0.001975635, 0.015799865, 5.30122e-05, 8.89359e-06, 0.00013452568, 4.191222e-05, 0.00050229166, 0.030260434, 0.0047415914, 0.00021565025, 0.00011361466, 0.00015629262, 9.327719e-07, 0.0005057348, 0.0074697486, 5.4625936e-05, 0.005807849, 3.7900452e-05, 0.00028222316, 0.09909161, 1.5355337e-06, 0.00051427353, 0.0071846293, 0.0015237486, 0.00012826869, 4.3103646e-05, 0.0001053114, 4.543841e-05, 3.3928e-05, 0.00044628326, 0.0001253509, 0.005676657, 0.0026632156, 4.584231e-05, 0.00021469299, 0.00026904733, 0.10192235, 0.00015345028, 0.0012426837, 0.02155755, 0.0006622062, 0.025365181, 0.00011695112, 0.088076346, 6.4607143e-06, 0.0016596934, 0.06797281, 0.00021907622, 0.00019095131, 1.0730645e-05, 0.00016302978, 0.0100867, 0.0006513458, 4.5557557e-05, 5.402965e-06, 0.001114736, 0.20692632, 7.535657e-05, 0.0011003509, 0.0005026758, 0.016593762, 0.016593762, 7.941768e-05, 0.0004186741, 0.0006342599, 0.0011421242, 6.0314855e-05, 0.0011118874, 0.0011118874, 0.1965156, 0.0002197886, 0.0013571408, 0.00090251496, 5.4564966e-06, 0.00013205393, 7.9051824e-07, 1.08216345e-05, 0.0007549638, 4.39088e-05, 0.00016415415, 4.8385537e-05, 0.00026931785, 0.00041133212, 5.6384175e-07, 0.00038253344, 0.006383879, 0.0009640006, 1.2744237e-06, 0.009623212, 0.00027273438, 0.0396247, 0.0014395842, 2.5809228e-05, 0.00011879272, 0.00059284864, 0.0063709468, 0.00022640047, 0.00017509858, 0.0041294633, 0.00022039507, 6.4468644e-05, 0.056341045, 6.043801e-05, 0.01931312, 3.370841e-07, 0.0006344413, 0.0006344413, 0.001013892, 0.00048097185, 5.7804477e-06, 0.00014783297, 0.00034288852, 0.0006340291, 0.29606116, 0.020409077, 0.009545188, 1.5579128e-05, 1.5579128e-05, 0.14319114, 0.0002127654, 0.0018025676, 0.00317847, 0.00014310831, 0.009622676, 0.0003170895, 0.00049737823, 2.667662e-05, 0.00018607172, 0.001243304, 0.0049355747, 3.32346e-05, 0.00033338743, 0.0003275175, 0.0009704354, 0.00011475399, 0.00017622346, 0.00019017473, 0.0066862954, 2.647934e-06, 0.00061941054, 3.080314e-05, 0.14387818, 0.00035188097, 9.716598e-05, 7.6797165e-05, 4.9521536e-06, 8.845166e-06, 0.00014631571, 4.3582908e-08, 0.00012460654, 0.00028942092, 0.00042764182, 0.00014789627, 0.4529775, 7.502674e-05, 7.1200666e-05, 0.00012844591, 0.00027398748, 0.0001423759, 9.9795856e-05, 1.0774277e-05, 6.063723e-07, 5.1914918e-05, 0.00042839258, 5.2403364e-05, 0.00052422896, 2.2974235e-05, 5.4306605e-05, 0.00022014535, 1.238331e-05, 0.000108896485, 0.0002589194, 0.00016640047, 0.00012300888, 0.00016859405, 2.1216387e-05, 0.00048442383, 2.1181431e-05, 1.20992245e-05, 0.00011861185, 5.6497716e-05, 5.772647e-05, 1.7039004e-06, 1.2477409e-05, 2.2212052e-05, 2.3795905e-05, 0.00084379775, 4.3684853e-05, 0.00013825053, 0.0003644549, 0.00018412134, 4.774307e-05, 6.4741475e-06, 3.542331e-05, 0.00011281953, 6.139094e-05, 9.286709e-05, 0.00042552443, 3.1309093e-05, 1.9129575e-05, 1.1961938e-05, 9.1272996e-05, 9.901657e-06, 9.637327e-06, 0.00014326232, 0.00092591054, 0.0044283317, 1.0572548e-05, 0.00061719824, 8.416971e-05, 3.5616522e-05, 0.00030117892, 2.4575613e-05, 0.000709665, 2.3297394e-05, 1.4958327e-05, 4.7728598e-05, 7.086435e-05, 7.517484e-05, 2.6423077e-05, 0.00044014826, 4.226873e-05, 1.38412e-05, 0.00020209629, 3.0614901e-06, 0.00014096963, 2.2673932e-05, 0.000116944655, 2.1322634e-05, 0.00021431298, 5.876888e-06, 6.3893312e-06, 2.9385928e-05, 0.00018283479, 6.0980055e-05, 0.0003384928, 0.00014400396, 0.00010550379, 9.95906e-05, 5.0077637e-05, 0.0066666515, 4.0470527e-06, 1.9714642e-05, 0.010499846, 0.00026689842, 3.6076606e-05, 0.0011303286, 6.7422676e-05, 1.1014905e-05, 0.0003022173, 9.119466e-06, 2.787169e-05, 3.879876e-05, 7.019619e-06, 0.00014818764, 0.013041745, 0.009938071, 3.91907e-05, 7.867174e-06, 3.1443084e-05, 1.4290341e-05, 0.00024893828, 0.3013488, 0.00017602832, 0.0009807383, 0.004878551, 0.0007411685, 9.886899e-06, 0.0015105918, 0.00050702895, 0.00095916365, 0.006630237, 0.00010040945, 0.07585228, 0.0006289932, 2.795842e-05, 0.0017938954, 6.250154e-05, 0.00038921877, 0.0015896397, 8.555119e-05, 0.0010455193, 0.0032043166, 0.0175139, 0.0016638926, 0.02853774, 0.090422824, 0.00028590744, 0.0006196981, 0.0025419889, 0.0023409708, 0.0002020017, 7.5075324e-05, 0.0023234366, 0.011370224, 1.0352764e-05, 9.1230495e-06, 0.00552776, 0.16196495, 0.17530204, 5.3427034e-06, 0.006510772, 1.10243e-05, 0.0022020496, 4.2874562e-06, 3.205457e-05, 2.975231e-05, 0.00022854611, 7.741894e-05, 0.0042925877, 0.0011497989, 3.2462765e-05, 0.00023994273, 4.0374434e-05, 0.009736251, 0.0018990024, 4.0369894e-05, 0.004862694, 1.1932808e-07, 4.2307045e-05, 0.0049945484, 0.025766663, 6.390235e-05, 2.8027296e-05, 0.00015907866, 0.002791642, 7.3513334e-06, 1.7785334e-05, 8.189847e-05, 0.0008566023, 0.00035465418, 4.7453388e-05, 0.0004001588, 1.4645805e-05, 0.0017044247, 0.0035531337, 0.017781647, 0.0004808561, 0.00013067308, 4.081222e-06, 0.00080059574, 0.03665286, 0.00096228777, 0.00018117987, 0.00054915715, 0.0041726194, 4.4122244e-06, 1.3698014e-05, 2.7392216e-05, 0.0001204834, 0.0002453606, 0.00024453268, 8.414732e-05, 5.9178008e-05, 7.494736e-05, 0.000109727145, 0.02148804, 6.6984427e-07, 1.1402417e-05, 3.5416924e-05, 4.2548592e-05, 0.000118712334, 0.045880012, 0.15393558, 8.791475e-05, 0.00047059756, 0.0007029045, 0.0015423505, 0.00010047352, 0.00014813647, 3.5205187e-05, 0.016650137, 0.0033360904, 0.00043338665, 0.086006366, 0.0058971816, 0.0039631394, 0.00059691106, 0.7213155, 2.3010777e-08, 2.3418865e-05, 0.019715544, 0.00015360398, 0.0066944547, 9.36937e-05, 0.00039963768, 4.7667916e-05, 0.00198086, 0.013566896, 3.0864916e-07, 0.00014713951, 5.400101e-06, 0.018368023, 0.05762951, 0.0002614811, 1.\n",
       "*** WARNING: skipped 50815 bytes of output ***\n",
       "\n",
       "\n",
       "</div>"
      ]
     },
     "metadata": {
      "application/vnd.databricks.v1+output": {
       "addedWidgets": {},
       "arguments": {},
       "data": "<div class=\"ansiout\">WARNING:tensorflow:`input_shape` is undefined or non-square, or `rows` is not in [96, 128, 160, 192, 224]. Weights for input shape (224, 224) will be loaded as the default.\nFound 7910 files belonging to 2 classes.\n[0.009047583, 1.9313173e-05, 1.653631e-05, 1.0876821e-06, 4.3260598e-06, 0.00018759553, 0.00013659812, 1.02764666e-07, 2.0338803e-08, 6.44587e-06, 0.000606891, 2.7177218e-06, 6.1973915e-06, 1.6048759e-06, 8.085251e-06, 8.0965316e-07, 1.9027539e-05, 2.171893e-06, 2.7786065e-08, 6.3446144e-08, 1.6560822e-06, 1.6911912e-05, 0.00013510081, 1.29763275e-05, 0.00013439232, 6.1304185e-05, 0.009011903, 0.00039551713, 7.676802e-06, 4.442841e-06, 2.2239744e-06, 0.006189834, 2.088173e-06, 7.8321296e-05, 0.0038281332, 2.5704638e-05, 7.2581397e-06, 4.6824058e-05, 8.320918e-06, 0.0001377669, 2.618487e-05, 0.0025691912, 4.947391e-06, 0.00031641277, 2.3781344e-05, 0.025563365, 4.5274388e-07, 1.6508015e-05, 0.0024670253, 3.2478004e-06, 4.405207e-06, 0.021843446, 0.027586976, 0.000642597, 1.0185266e-05, 0.015780274, 1.7644323e-06, 2.370892e-06, 0.08794704, 0.6655283, 0.009679929, 1.1721211e-06, 6.7604765e-06, 3.040001e-05, 8.344578e-07, 3.0428293e-06, 2.3719136e-07, 6.959189e-07, 4.9788378e-06, 0.05651084, 1.2646395e-05, 1.0529704e-05, 3.0383604e-05, 0.006337009, 5.6823967e-05, 0.002177447, 0.0076432223, 2.6089658e-06, 3.6673694e-06, 1.132475e-06, 0.003925392, 0.0002398007, 0.00041862423, 4.1788986e-08, 0.116691746, 0.00091110065, 2.7796494e-05, 2.5150791e-06, 1.750169e-05, 0.0032458492, 3.4901157e-05, 7.064164e-07, 2.1549542e-05, 1.1058995e-05, 0.00019911895, 0.00014415564, 4.611283e-06, 2.5950325e-05, 0.00017567589, 0.00066311756, 7.4581103e-06, 0.00030009577, 0.0005138433, 0.0031651428, 3.6696329e-06, 1.6314822e-05, 1.0762956e-06, 0.0018160068, 4.873352e-06, 2.7326525e-06, 3.5422358e-06, 4.537752e-05, 4.496176e-06, 1.7777296e-05, 1.1582032e-05, 6.7140622e-06, 4.7871723e-05, 2.8834176e-05, 8.812338e-06, 9.319421e-06, 3.4733323e-06, 0.00021640617, 0.00013904071, 6.7927126e-06, 0.00048429408, 1.4456791e-06, 0.0002501994, 2.425262e-05, 5.4421904e-05, 1.151257e-06, 2.8920645e-05, 0.001264116, 0.0002072395, 4.72656e-06, 1.8346879e-06, 6.8769973e-06, 9.180172e-05, 3.6890513e-06, 2.0015701e-05, 3.4424073e-05, 1.0244005e-05, 3.5736215e-05, 0.00030106178, 1.5181165e-05, 7.537755e-05, 4.8422658e-06, 6.992492e-06, 1.0391716e-05, 0.00013287191, 1.9466408e-05, 2.3499895e-05, 8.5321924e-05, 7.0597525e-06, 6.7310697e-07, 2.319525e-06, 4.16798e-06, 3.1983947e-07, 0.000109824614, 5.328415e-06, 5.6185263e-06, 0.00019993054, 3.5216317e-07, 6.470879e-05, 1.3518977e-06, 3.083873e-05, 1.5486974e-05, 3.401325e-06, 0.00028882938, 4.170044e-05, 0.00019117666, 1.7214833e-06, 0.00021487358, 1.0174032e-06, 4.0572868e-07, 1.0761796e-06, 0.00012737526, 4.403821e-05, 1.5241671e-05, 1.1145981e-07, 0.00012050236, 9.649555e-07, 0.00019037268, 0.0016730184, 0.00016378172, 1.4299379e-06, 1.0489012e-05, 0.00028928302, 0.0007309222, 0.00019845234, 1.33628255e-05, 6.230708e-06, 5.0573868e-05, 0.00011186857, 1.0449594e-05, 6.086021e-05, 0.00087564415, 0.0001710712, 0.00010719909, 0.00019703525, 0.00013172305, 7.1890313e-06, 1.7472838e-06, 5.668638e-06, 5.522219e-05, 0.0001485882, 0.00013429727, 1.2665915e-06, 2.1517053e-06, 0.00015830636, 5.365379e-05, 7.515455e-05, 1.3224766e-05, 1.1248194e-07, 2.4840053e-06, 1.3393906e-05, 5.33002e-07, 0.00015496479, 1.5929174e-05, 0.000135022, 9.288262e-07, 7.065613e-07, 4.3995014e-06, 3.581681e-06, 3.0284846e-05, 1.7957811e-05, 0.00027279626, 4.3560052e-05, 4.7737976e-05, 0.0023755026, 7.3185547e-06, 6.5889817e-06, 3.6738627e-05, 5.98005e-07, 0.0041868654, 0.015379617, 3.868065e-05, 6.5378304e-06, 2.098934e-05, 2.9878865e-05, 1.7755205e-05, 3.9354137e-07, 0.00016928205, 6.0278395e-05, 3.924383e-06, 4.7873677e-06, 4.6522287e-05, 7.3191995e-07, 5.1787254e-05, 9.07226e-07, 1.44986e-06, 0.0034346518, 9.1961294e-07, 3.6883125e-06, 1.2378094e-06, 5.7739573e-05, 1.794877e-05, 1.8494127e-05, 4.399166e-06, 3.766323e-05, 6.407179e-05, 0.00026417058, 4.4838966e-05, 0.0015895551, 0.00023670476, 0.000119329736, 1.8433414e-07, 0.00037314923, 1.1582253e-05, 4.82073e-06, 1.1488656e-07, 5.7649777e-06, 1.1725577e-07, 0.00014303083, 2.0580474e-06, 3.3091123e-07, 5.910566e-06, 0.00010461667, 4.437877e-05, 1.2939498e-06, 1.821426e-06, 0.00013846424, 1.2475433e-05, 5.160788e-07, 6.768805e-06, 1.1572956e-05, 1.2095371e-05, 1.1804902e-05, 0.00024483784, 2.533156e-05, 1.2771071e-05, 4.340598e-06, 0.0013933133, 0.00013703138, 3.3006731e-06, 1.561998e-05, 7.5179887e-06, 9.424236e-05, 4.237764e-06, 2.3152265e-06, 6.496321e-05, 1.78146e-05, 8.891835e-06, 5.887046e-06, 5.887046e-06, 3.9237228e-05, 1.0384309e-06, 3.017144e-05, 1.2018147e-06, 1.1878914e-06, 1.4732284e-06, 2.0895313e-05, 0.0002433319, 1.8266435e-05, 1.03023325e-07, 4.454606e-06, 1.8034071e-06, 2.6242026e-06, 3.363016e-05, 1.8879327e-05, 6.3813723e-06, 1.280285e-05, 0.00022189993, 4.4443816e-05, 3.2624823e-07, 2.7677805e-05, 9.432947e-07, 3.2316e-07, 0.00027791434, 3.1668262e-07, 2.6214104e-05, 3.4506636e-05, 4.2098995e-07, 1.282254e-06, 1.4796668e-05, 1.0899637e-05, 7.48834e-07, 0.00045723116, 1.3762831e-05, 4.6377707e-07, 2.932433e-07, 2.625376e-05, 5.7393125e-05, 1.630323e-06, 1.6242938e-06, 4.4828877e-05, 0.00021103008, 3.468115e-05, 0.0006897049, 2.0069028e-05, 1.2185841e-05, 7.076348e-06, 2.786366e-06, 3.6308782e-06, 1.1322524e-05, 9.173233e-07, 3.8646212e-06, 1.3427697e-06, 3.9402323e-05, 0.00020858874, 0.00014772291, 0.019592175, 0.00056578236, 0.0011681998, 1.2769366e-05, 6.415929e-06, 0.074466065, 9.999026e-07, 1.7609273e-05, 0.0053590164, 1.3177944e-06, 3.9159993e-05, 4.2832812e-07, 7.717284e-06, 8.181711e-06, 8.631944e-06, 4.9414645e-08, 5.126749e-07, 1.3771823e-05, 6.364115e-07, 0.13814948, 9.435019e-08, 2.6396137e-06, 0.00014615244, 0.000117362455, 7.9153216e-07, 0.00025593152, 2.8897875e-07, 7.506423e-05, 7.759474e-06, 1.3924509e-06, 1.9740337e-05, 4.4558485e-05, 9.951802e-07, 0.00020360881, 3.3448606e-07, 4.7457834e-06, 1.2975393e-07, 2.2269967e-06, 4.2032625e-06, 0.00046855918, 4.8551533e-07, 5.855154e-08, 3.1054105e-06, 6.7172837e-06, 0.00043801928, 1.3127859e-05, 1.2222467e-06, 0.83186615, 5.595586e-06, 6.972483e-06, 5.17786e-07, 7.459545e-08, 0.00041658443, 1.4726842e-05, 2.5444388e-08, 3.1285379e-07, 3.1401228e-06, 1.6325401e-06, 0.3295143, 5.6939723e-07, 6.6358984e-06, 0.0005941236, 2.8326936e-06, 2.3205594e-05, 0.00011469383, 6.374229e-07, 0.013248024, 6.1437684e-05, 9.866112e-06, 1.0267498e-05, 0.009701978, 3.1573834e-06, 0.0007704345, 2.822547e-07, 2.760768e-05, 3.4332885e-07, 6.510775e-07, 2.0895216e-06, 1.413985e-06, 3.2106789e-06, 3.2585922e-07, 1.2621975e-06, 8.592512e-06, 1.8783626e-06, 1.9522756e-06, 1.2227248e-06, 8.667165e-06, 4.286573e-06, 0.004050618, 2.850852e-07, 4.7845015e-07, 4.050748e-06, 7.347135e-06, 4.5905065e-07, 4.6027693e-05, 1.9200066e-05, 2.1852957e-06, 2.1852957e-06, 4.0911787e-06, 0.96384907, 4.865225e-06, 1.4507324e-05, 0.00029518385, 7.669138e-07, 6.293911e-06, 0.00030214209, 0.01893758, 1.4694695e-06, 1.3465103e-06, 2.979148e-06, 4.2303162e-07, 2.0101815e-07, 4.7371465e-08, 9.539899e-07, 1.1712211e-05, 4.5620025e-05, 1.3002565e-05, 3.3856348e-05, 4.012598e-05, 2.550567e-06, 7.4574846e-06, 0.00041993122, 5.363855e-06, 0.00037894756, 1.1654049e-05, 5.1755233e-06, 0.019122288, 0.03810608, 2.1430902e-05, 3.7022996e-06, 0.00018672342, 5.2682516e-09, 0.013327174, 3.9150077e-06, 2.6060638e-07, 1.3244442e-05, 2.3206778e-06, 5.4020617e-05, 2.8026677e-06, 4.721969e-07, 0.011498357, 2.978325e-07, 1.2279623e-05, 0.0052730436, 0.0013120071, 7.836197e-08, 3.1117397e-06, 1.29068185e-05, 2.5372906e-08, 1.6829736e-06, 6.992048e-05, 1.6811347e-05, 0.00013714393, 2.5998108e-07, 5.586968e-07, 0.024877306, 2.81856e-06, 8.2132647e-07, 5.9762817e-05, 0.00059214054, 0.0006898268, 0.0007675758, 6.7673723e-06, 4.1572477e-07, 3.3559684e-06, 6.9413865e-08, 1.2844539e-05, 1.1088841e-06, 8.20225e-05, 4.776363e-07, 0.00010140563, 0.00020103292, 0.0102817295, 7.028006e-07, 1.280345e-07, 7.7900296e-08, 2.2497119e-08, 2.561236e-06, 0.1696264, 2.9865847e-05, 5.6159975e-06, 7.2814935e-08, 0.00068952155, 0.0012441854, 0.0011415058, 1.1424935e-07, 0.000115644, 2.9650494e-06, 2.663814e-08, 9.872088e-07, 3.3579597e-06, 4.1641233e-05, 0.0036986433, 2.6593805e-06, 6.618676e-05, 0.006487717, 0.003647023, 0.00051620265, 1.907405e-05, 1.9360971e-07, 6.4864296e-05, 0.00010170071, 9.3993356e-07, 1.2542142e-07, 6.292731e-07, 0.00048219363, 1.08320656e-07, 2.0919606e-08, 3.3057508e-11, 8.111486e-06, 3.0378917e-06, 8.439111e-08, 7.4048725e-11, 8.0662124e-07, 0.030495808, 0.005440838, 1.9613658e-06, 7.260342e-05, 1.31411125e-05, 2.455805e-07, 2.4117822e-10, 1.9137303e-06, 0.0012584632, 0.0006258425, 1.254168e-06, 8.665115e-06, 6.608123e-08, 2.9339142e-05, 1.4519131e-09, 2.7933478e-07, 0.010813668, 8.598605e-11, 6.8501385e-11, 2.318615e-05, 8.037115e-05, 8.765382e-07, 7.0547435e-09, 1.6254854e-06, 7.720839e-06, 4.9764134e-07, 2.164986e-05, 1.7799847e-06, 1.0305236e-05, 0.00012736396, 4.2162583e-06, 3.989632e-06, 2.0608368e-07, 2.8652115e-05, 1.8777186e-09, 9.823132e-06, 0.00027473454, 1.2042964e-06, 4.6350444e-11, 5.136594e-05, 3.7679903e-05, 2.9635328e-05, 3.5225588e-07, 2.4539163e-06, 8.556768e-06, 7.923131e-06, 2.7760564e-06, 1.4556551e-07, 5.728928e-05, 2.7022513e-06, 4.851251e-06, 3.8192433e-10, 2.9049381e-11, 1.7707931e-09, 1.0341507e-08, 1.932762e-09, 0.92782193, 1.168885e-06, 1.31834495e-05, 3.2723754e-08, 2.749244e-07, 1.4428115e-06, 2.846607e-05, 3.0511487e-06, 4.843949e-11, 0.0003427738, 1.783818e-05, 1.1406266e-05, 1.5087662e-07, 2.0460517e-07, 0.7681774, 3.1113342e-07, 7.206926e-11, 4.2353845e-06, 2.0338375e-06, 6.252055e-07, 2.205171e-09, 9.803748e-07, 0.016406449, 0.0003696278, 3.367629e-06, 2.5318118e-06, 7.847855e-06, 7.6292886e-06, 1.4542026e-06, 0.00021497482, 1.3394595e-05, 5.950282e-05, 1.6331266e-10, 2.783755e-06, 2.0978494e-05, 0.00024465023, 4.452066e-06, 2.4490766e-06, 9.765407e-06, 3.3783428e-05, 4.1246713e-07, 1.5085073e-09, 5.315826e-08, 2.362472e-08, 3.5374017e-06, 1.2684625e-07, 9.08472e-06, 0.0041672373, 9.9023666e-08, 2.0966022e-08, 6.095705e-07, 8.994408e-09, 8.30683e-09, 1.4686272e-07, 0.00010093388, 8.3185006e-07, 0.00037322, 2.9635606e-07, 2.0673498e-10, 3.6535341e-10, 5.391896e-10, 1.632089e-07, 8.120318e-06, 3.8602823e-07, 0.00028576984, 1.3112104e-06, 4.4922703e-07, 2.2430904e-05, 5.929519e-07, 1.1335327e-06, 0.04935656, 1.16273395e-05, 9.586736e-06, 3.6631957e-07, 1.4126722e-06, 0.0001461721, 1.6036352e-06, 0.00034478414, 1.6238123e-09, 0.00038775217, 0.00029757462, 1.3670092e-06, 0.00024501112, 3.3533656e-08, 1.4600595e-05, 7.570545e-06, 6.246268e-10, 8.955886e-10, 8.082659e-09, 1.4657478e-06, 0.00037542393, 0.00011117733, 9.92978e-06, 3.8627164e-05, 8.0228805e-05, 2.6146227e-09, 1.3364177e-05, 9.844823e-06, 1.4856491e-05, 0.00027764498, 1.2042258e-07, 1.2187645e-08, 2.1894307e-08, 1.6237334e-05, 2.4761268e-06, 1.2871676e-05, 7.1247778e-06, 5.2208275e-06, 0.00040650825, 8.655551e-06, 4.9290757e-05, 4.182044e-10, 4.51989e-05, 1.6777904e-10, 9.5048273e-07, 5.623608e-06, 0.00024171882, 7.9261383e-07, 6.613389e-05, 4.1776948e-05, 0.008034742, 8.0772425e-06, 0.00048510268, 1.3512813e-05, 2.0217188e-07, 5.6098684e-06, 2.6131035e-08, 4.2326214e-05, 4.8035478e-08, 0.000240494, 9.7913566e-11, 0.00014886034, 3.1280635e-07, 1.0624636e-06, 1.003705e-05, 1.2834277e-05, 1.2013196e-06, 1.3111276e-07, 9.925054e-05, 1.798797e-07, 1.573006e-05, 2.3114906e-05, 1.4165281e-05, 9.2695224e-08, 2.2180369e-09, 5.4603124e-06, 2.5866884e-06, 1.5475874e-07, 9.508532e-06, 3.3040112e-06, 7.5735566e-06, 1.614656e-08, 1.1563677e-07, 7.148756e-05, 3.0608252e-08, 1.5053777e-05, 8.154641e-06, 2.8944902e-07, 1.1449778e-08, 2.0527823e-06, 4.984355e-07, 5.6795692e-05, 5.926777e-06, 7.0887354e-06, 0.0001005828, 2.9063449e-05, 6.257173e-07, 0.0003865466, 4.6522075e-08, 3.9012466e-05, 9.577036e-09, 8.594061e-06, 6.9337254e-08, 6.232796e-07, 4.7350056e-07, 1.778145e-05, 1.2067056e-07, 6.114919e-08, 2.1337822e-08, 4.7740136e-06, 3.098702e-07, 0.000111145964, 3.8683822e-08, 1.6781225e-07, 0.008223254, 1.7980699e-07, 1.3967319e-07, 0.00012822014, 4.784503e-05, 4.442979e-08, 2.1294907e-06, 0.0014496958, 4.4081722e-10, 8.000717e-06, 1.6982613e-06, 1.2685531e-05, 0.00065449695, 1.1945104e-07, 2.7893436e-06, 9.745812e-07, 0.00014092178, 4.758749e-10, 2.0531118e-07, 2.0955983e-06, 4.5279264e-10, 8.250379e-06, 9.005584e-06, 1.9354948e-06, 1.2566902e-07, 8.649014e-07, 0.00013641796, 6.8210664e-07, 1.2842497e-07, 4.1397193e-06, 0.00033851858, 0.012169981, 1.166859e-06, 3.8442204e-06, 1.7219556e-08, 4.5457306e-05, 1.4056893e-06, 0.00031904175, 6.0339687e-07, 3.1436186e-05, 9.0449785e-06, 2.1579045e-09, 4.3320827e-09, 0.00088034745, 8.360833e-06, 7.1486966e-08, 2.4111506e-07, 7.885645e-08, 4.732667e-08, 0.00018902135, 3.553628e-07, 8.337361e-06, 2.2887377e-06, 8.663786e-06, 2.6155825e-05, 2.5529213e-05, 3.2773667e-07, 1.5820905e-06, 8.5845215e-09, 1.3987276e-06, 1.1276867e-06, 2.4291527e-08, 0.007121965, 0.0002597257, 3.4552204e-07, 4.5107354e-06, 3.368435e-06, 3.4082655e-05, 0.0028543186, 2.3203436e-06, 1.4953727e-06, 0.00026789523, 2.278609e-10, 0.00012348944, 2.7109525e-06, 0.00029832998, 1.5599841e-06, 9.946718e-06, 4.7325673e-05, 4.8884704e-08, 3.880949e-06, 3.7224054e-06, 4.8049093e-05, 5.220454e-06, 2.0774212e-05, 0.022785628, 2.11842e-05, 1.8517812e-05, 2.698597e-06, 6.052203e-07, 0.000107157895, 7.0243203e-07, 0.0002582072, 1.3405996e-06, 7.473782e-06, 9.703169e-09, 0.00021901375, 2.612217e-05, 0.006077914, 4.6756322e-05, 2.0473783e-06, 5.999389e-09, 1.442132e-06, 7.856265e-06, 0.00025901772, 3.56008e-05, 0.00028260416, 4.530723e-06, 1.3626564e-09, 1.659467e-05, 1.7824703e-07, 2.1139467e-06, 4.7244102e-06, 1.5309248e-09, 1.1014436e-09, 0.00017114915, 1.5413686e-06, 0.0038250377, 7.988602e-06, 4.571364e-06, 8.7375085e-08, 4.1409938e-09, 1.08868665e-08, 9.963595e-09, 2.218114e-08, 3.3267795e-06, 0.00018992196, 0.0012995418, 4.149261e-06, 1.508323e-07, 3.061806e-08, 6.360632e-08, 1.5738394e-06, 1.0433511e-09, 5.0199696e-06, 0.00013582311, 1.9123263e-05, 4.15003e-05, 5.8001444e-08, 3.0720372e-08, 1.9970912e-05, 0.0001289835, 1.6627413e-05, 9.2067916e-07, 4.4069508e-05, 1.0344845e-07, 3.033717e-06, 7.7849035e-07, 3.8402558e-07, 0.0026110848, 1.3499136e-06, 1.6310496e-05, 2.1091886e-08, 6.061329e-08, 2.9364674e-06, 4.6062946e-06, 7.7219573e-07, 1.7928868e-07, 1.2527454e-06, 1.6143584e-05, 7.760577e-06, 7.319863e-05, 7.1606896e-06, 0.053469248, 3.4807784e-10, 1.1831692e-05, 7.859914e-06, 0.00017988954, 7.820063e-06, 0.00031594528, 1.7173658e-06, 1.2089248e-08, 6.809089e-06, 3.8689764e-06, 2.114344e-06, 0.00027112255, 0.07488642, 5.291033e-07, 0.00066778966, 8.889647e-07, 1.4365507e-06, 8.639748e-07, 5.0730694e-07, 3.302345e-06, 1.3288002e-05, 2.6170796e-06, 7.923297e-07, 0.0002821836, 1.039621e-06, 3.3320435e-09, 3.1682426e-08, 3.1969492e-05, 2.5879126e-05, 0.00074223866, 1.5853952e-07, 1.0020125e-07, 1.4761249e-05, 0.01970283, 6.8920956e-05, 3.4167224e-06, 2.285057e-08, 6.871464e-07, 2.5759535e-05, 2.3688493e-05, 2.8937225e-06, 2.792002e-10, 1.1919972e-06, 1.6225478e-05, 1.0945333e-05, 0.51123494, 5.42309e-07, 1.17702236e-07, 0.00033125712, 3.2181622e-05, 1.729532e-05, 1.0674549e-07, 4.775015e-10, 3.8473353e-09, 7.081641e-07, 1.6632077e-06, 0.00025398345, 8.895598e-05, 4.707177e-06, 4.6988026e-07, 5.470641e-07, 1.6660733e-06, 3.8259336e-07, 3.2618325e-05, 6.2755703e-06, 1.8571166e-06, 4.532576e-05, 9.289589e-06, 0.0023258142, 0.0038242037, 2.029035e-06, 0.16028577, 2.7473543e-09, 0.00020138995, 9.39705e-07, 3.1708728e-07, 0.018324377, 1.3106442e-06, 1.7897888e-05, 1.1390322e-06, 8.2590884e-07, 1.81763e-05, 2.8980694e-06, 9.780654e-07, 7.5020457e-06, 1.2777338e-06, 8.7622226e-07, 0.00039489736, 1.1694381e-06, 0.00016864922, 9.010949e-05, 2.2157196e-09, 5.8619447e-09, 8.02371e-08, 5.655257e-07, 0.11093606, 2.75917e-07, 0.0001539885, 0.00070566905, 2.7498075e-07, 7.665687e-07, 0.071964525, 2.5804875e-05, 6.287078e-09, 0.00032715735, 6.371038e-08, 1.5781754e-06, 0.0037266728, 0.015020328, 0.00020991612, 0.0026607604, 0.07870836, 0.009148315, 0.0007560945, 1.3368051e-05, 9.1082484e-08, 6.020125e-05, 4.2779608e-05, 8.471448e-06, 0.0009146564, 1.3449817e-06, 3.132945e-07, 6.0659486e-06, 4.3421253e-09, 7.5799356e-08, 1.552091e-06, 2.9999521e-06, 6.404403e-07, 0.00014860647, 1.5225585e-07, 0.00042754196, 0.002032534, 1.4369849e-05, 7.7361165e-07, 1.1299892e-05, 2.8635548e-06, 6.138396e-07, 5.995897e-10, 2.0407213e-06, 2.0791316e-05, 4.5096502e-07, 6.776981e-07, 1.041885e-06, 2.544469e-06, 7.3581265e-07, 0.0005143387, 4.611718e-07, 0.0008252787, 1.3140067e-07, 9.96679e-06, 5.2127598e-05, 4.016707e-06, 1.5299046e-06, 6.596871e-10, 4.747377e-06, 3.059551e-05, 3.152486e-07, 1.720008e-06, 7.826964e-06, 1.2469772e-05, 3.2516805e-06, 5.3895646e-06, 1.18655144e-07, 4.900504e-07, 2.4140496e-05, 6.614989e-10, 5.4952277e-08, 1.6017995e-07, 1.1017478e-06, 5.344047e-07, 5.2711108e-05, 3.397039e-07, 1.4056443e-08, 7.380809e-06, 1.8290817e-06, 3.859295e-08, 5.09845e-07, 5.758812e-10, 9.053056e-07, 3.8404e-09, 6.5403476e-08, 0.017641017, 5.3452977e-06, 2.6520584e-06, 0.00014550888, 0.007749301, 6.694707e-07, 1.461759e-05, 3.991503e-09, 4.745366e-05, 6.40662e-08, 1.8479737e-08, 7.762911e-05, 7.605017e-05, 1.679624e-06, 9.552681e-07, 6.769836e-05, 1.16281935e-05, 3.4201291e-06, 6.324017e-05, 1.5980338e-07, 0.00015998559, 2.4598217e-05, 7.583515e-10, 3.1484735e-05, 2.8555549e-05, 8.042522e-09, 1.6745954e-06, 2.6057325e-08, 0.00028945046, 2.2382395e-05, 9.518053e-07, 3.0089489e-06, 1.6252468e-06, 0.00022881714, 0.041223723, 0.00021763862, 7.453252e-10, 3.0167643e-05, 0.0074961213, 1.8291537e-05, 0.00059500936, 2.1215212e-07, 1.4347706e-09, 4.1499828e-07, 2.2058899e-07, 7.483845e-06, 1.8762218e-07, 0.00018226613, 3.9658098e-05, 0.0137424115, 0.00015943978, 4.0343726e-05, 6.846366e-07, 7.5115287e-07, 8.755157e-05, 3.633778e-05, 0.020286918, 1.7590145e-07, 5.267593e-05, 0.00039465574, 2.9552e-06, 2.2646724e-05, 0.06955346, 0.004786932, 3.902609e-06, 1.1256118e-05, 7.894281e-07, 0.0009391069, 7.1448856e-05, 2.4521068e-08, 9.898314e-07, 6.0590337e-06, 6.648954e-06, 7.079089e-07, 0.004402978, 3.647356e-06, 0.00060664583, 4.3226552e-07, 2.5298374e-07, 0.008831384, 2.0027495e-07, 2.7390422e-06, 3.5984533e-07, 1.8062014e-05, 2.2374251e-09, 1.9376706e-05, 8.30104e-06, 1.7393912e-08, 3.557111e-05, 0.0010183443, 4.4506297e-07, 8.576617e-09, 1.0871678e-06, 1.4245722e-06, 2.9966644e-05, 5.519066e-07, 1.373712e-06, 2.3586192e-06, 0.016403563, 0.03613511, 0.0029431174, 0.00027963106, 0.00012503465, 1.4097209e-06, 1.959087e-06, 1.1291136e-06, 1.6429784e-09, 7.6773576e-10, 1.1456615e-08, 2.997604e-06, 9.870461e-08, 0.00085282786, 5.9476247e-06, 0.00012414542, 5.135281e-05, 7.2633696e-07, 0.017000182, 7.7462646e-05, 7.6032566e-06, 2.6814246e-06, 0.00012590508, 4.2265888e-06, 1.5960568e-09, 7.7128897e-07, 1.9683755e-05, 5.9785384e-06, 0.00028349872, 2.8233699e-06, 1.5903492e-10, 1.968366e-06, 1.9904994e-06, 8.0745554e-07, 2.357976e-06, 5.0477087e-07, 2.6287237e-06, 1.4822485e-05, 8.7192933e-07, 6.369438e-06, 5.4619686e-05, 9.948897e-09, 1.9351484e-05, 5.3040853e-06, 8.192315e-07, 3.6672434e-05, 6.594373e-08, 0.0019618298, 1.002536e-06, 1.7555349e-06, 1.4391218e-06, 8.068128e-07, 6.153128e-06, 2.5197508e-07, 6.4065654e-07, 8.6851344e-07, 1.7663943e-09, 4.6066284e-06, 2.3767655e-10, 9.917732e-07, 6.280272e-05, 0.0003013501, 2.999426e-07, 5.5480396e-06, 1.4117052e-06, 1.0683714e-05, 1.9577594e-07, 4.418488e-08, 1.4289128e-06, 5.0294105e-08, 0.09394761, 0.37227806, 4.871321e-10, 0.0013860342, 3.033457e-07, 7.399501e-09, 0.00019087578, 3.3373627e-08, 1.0829314e-06, 3.694533e-07, 1.7395844e-07, 3.814079e-07, 5.9706013e-06, 4.3665177e-06, 3.029542e-05, 5.908981e-05, 8.035777e-07, 3.1905227e-05, 3.961739e-05, 1.0043303e-05, 8.068162e-05, 2.3912966e-07, 9.250719e-05, 1.5254453e-05, 4.1771275e-09, 1.6128727e-06, 5.2930395e-06, 3.9083177e-05, 1.5710756e-06, 7.4677445e-07, 5.935774e-09, 5.914508e-08, 0.00031975762, 1.3215575e-05, 3.7227496e-06, 3.2012254e-06, 7.872352e-06, 3.5741976e-07, 2.955961e-06, 9.295782e-05, 1.4442541e-05, 6.0236925e-06, 1.1185199e-09, 7.6250626e-06, 0.0032070319, 2.8676786e-06, 0.0003267627, 1.7788643e-05, 6.9165274e-08, 2.0464999e-08, 1.9737477e-06, 3.1453443e-08, 1.4994574e-05, 8.113591e-07, 2.2854701e-05, 2.6340213e-06, 4.2112526e-07, 0.00066694943, 0.00016528578, 2.7137121e-08, 0.00034009293, 2.2154582e-06, 0.00012841224, 1.1329126e-08, 6.339147e-08, 1.0138138e-05, 8.701934e-08, 2.434269e-07, 3.468817e-06, 3.6578338e-05, 0.10388911, 1.7862443e-06, 9.410795e-06, 4.8074304e-05, 2.0411792e-07, 0.00049572357, 5.1624943e-06, 0.0033098967, 8.5751955e-05, 0.062312175, 5.0651768e-05, 0.0010208786, 1.7310133e-06, 6.024559e-05, 2.6470073e-07, 0.0014874607, 1.446319e-06, 2.4053677e-05, 8.188714e-05, 0.04890523, 2.444734e-06, 0.040658697, 0.027895624, 1.6512862e-05, 0.015336656, 6.045591e-06, 2.8571087e-08, 0.0001576105, 2.8195733e-05, 0.00042643442, 7.787497e-06, 4.2427746e-06, 0.0010875667, 2.2354486e-06, 0.00018965792, 1.157492e-07, 9.322377e-05, 0.016791226, 4.2696953e-05, 4.1811298e-05, 0.0017709133, 6.2663366e-06, 3.8466037e-08, 6.1283376e-05, 7.915781e-09, 3.056341e-05, 0.0006426778, 1.953654e-06, 2.6797965e-05, 2.3265091e-05, 1.2101922e-06, 9.099894e-06, 3.0733904e-06, 1.5853084e-08, 1.3139685e-08, 1.7432096e-05, 1.4883535e-05, 0.00062587234, 0.00015591217, 3.6323425e-07, 0.28484288, 0.00015777483, 2.9618684e-07, 0.0056893053, 2.7535927e-05, 2.1544363e-06, 2.050849e-08, 8.026548e-06, 3.213868e-06, 0.0006365187, 1.8984529e-05, 3.8151776e-07, 0.003432839, 0.005891024, 4.2951553e-10, 1.6351877e-09, 6.307427e-07, 0.00012261131, 1.1810183e-05, 5.9713534e-07, 0.0005119489, 0.97759855, 1.0172092e-06, 0.0002312435, 0.00031395722, 1.8121807e-06, 6.103545e-05, 1.8089868e-09, 0.43919712, 0.00014318257, 1.3105775e-07, 0.00010168548, 0.00015426068, 7.352393e-05, 0.00013765541, 0.0008310664, 0.0028757597, 2.441861e-09, 8.271504e-05, 6.593984e-08, 3.597979e-05, 0.00027138533, 0.00024268594, 0.0005282679, 0.0076937503, 0.0004939707, 6.62588e-08, 1.0694373e-06, 1.3432935e-06, 0.000106006606, 8.3802725e-09, 7.891837e-05, 0.0007042811, 0.0019682515, 0.00013633916, 0.00070474437, 0.000110068264, 6.687943e-08, 0.00013592871, 0.0007895796, 1.400122e-07, 1.0626161e-07, 0.0001854905, 0.000103062695, 0.0004414437, 1.1558457e-08, 0.00093895657, 5.466844e-07, 1.2903593e-08, 2.5719737e-06, 3.895162e-08, 4.4763357e-07, 0.00070976914, 9.33818e-08, 3.0072739e-05, 1.5851587e-05, 0.00012124232, 3.0295942e-06, 2.1389835e-06, 1.9959039e-08, 4.655425e-07, 0.00019624065, 2.3104702e-05, 0.00013685145, 0.00014065274, 0.00015186728, 0.00018201586, 7.169182e-05, 0.00018170927, 3.3357417e-06, 5.322045e-07, 9.4277e-06, 0.00041656775, 4.460479e-08, 3.9333642e-08, 0.00030604607, 3.9822422e-05, 0.0019212737, 0.0001899819, 0.0001283449, 2.1864442e-05, 5.6829333e-05, 0.0006295204, 3.388077e-07, 0.001968534, 7.882397e-08, 1.37647085e-05, 7.126614e-07, 0.009520854, 5.871448e-08, 0.00013817172, 2.9681541e-07, 2.9262412e-05, 3.0344108e-05, 7.2417004e-07, 0.0003759201, 0.0009824121, 0.025484608, 3.5594798e-09, 6.225602e-07, 0.0022227427, 0.0007314866, 0.00043762714, 0.017192952, 4.11078e-06, 4.3247383e-05, 6.540038e-06, 0.00054271106, 3.379995e-05, 0.00010460331, 2.2872928e-09, 6.960337e-05, 2.8894268e-05, 7.995004e-05, 0.00016296405, 0.0015364732, 0.00067495904, 2.5756857e-05, 0.00010059383, 0.0006493945, 0.00061995327, 1.2591466e-08, 0.046322696, 3.9734798e-05, 0.00017789552, 4.045091e-09, 0.00017500998, 8.461765e-05, 0.0004396308, 7.29251e-05, 0.00028427583, 2.9639737e-05, 8.910555e-05, 0.0051725428, 0.0051725428, 5.4970064e-06, 2.287422e-06, 0.00040751934, 3.9388462e-05, 2.0732593e-06, 0.00010044306, 1.1475607e-06, 6.90716e-07, 1.3367899e-05, 1.4092034e-06, 0.0061235214, 8.457967e-06, 8.692056e-06, 0.00036181128, 0.00013742788, 8.256334e-08, 7.5090747e-06, 9.486133e-06, 3.4951702e-06, 0.002832516, 2.3631836e-05, 1.5828813e-06, 3.297354e-06, 1.1517545e-06, 1.5445544e-07, 3.098491e-06, 1.642079e-06, 0.0014069665, 1.4606628e-06, 0.00011574968, 1.2758495e-05, 0.0030926133, 0.00059090357, 0.008980852, 0.04031451, 6.4462574e-06, 0.00011172061, 0.00010867346, 0.00012543544, 0.00018658959, 5.3753996e-07, 9.463139e-05, 0.0060131615, 2.7395352e-05, 2.414418e-05, 3.7900713e-06, 5.330887e-05, 1.8357117e-06, 0.0006226049, 9.512495e-06, 0.00012499605, 4.914146e-06, 4.213873e-05, 4.7546746e-05, 9.865168e-09, 9.5487914e-05, 5.9727254e-06, 6.384318e-06, 7.303922e-07, 0.00026361152, 3.7636375e-05, 0.00023291635, 0.00013709268, 0.00048376212, 4.932434e-08, 3.792497e-05, 2.5810036e-07, 5.483511e-07, 0.003305272, 0.0012431483, 1.8328537e-05, 4.0187415e-06, 0.00016118513, 0.9598605, 1.4863747e-05, 0.0024197772, 0.0041198516, 1.8558135e-06, 8.992588e-05, 8.913935e-06, 0.6493183, 3.3862744e-07, 3.6580782e-06, 0.0030952105, 0.0001510183, 0.73851925, 1.153224e-06, 4.167615e-05, 5.063198e-06, 4.8422057e-06, 1.5102724e-05, 9.3365384e-07, 8.315769e-06, 5.5305034e-05, 2.2312048e-07, 0.00018957094, 5.4659057e-07, 6.717731e-07, 0.00013605294, 5.933547e-07, 2.844425e-05, 0.0008737897, 0.00051313755, 3.1341133e-07, 0.00013109579, 1.7682089e-05, 2.6653453e-05, 1.2375509e-06, 0.68127286, 5.502276e-08, 7.966834e-06, 6.7609074e-07, 4.363851e-05, 6.4195397e-06, 0.0019112926, 1.830307e-05, 9.747422e-06, 2.4398185e-05, 1.6209178e-05, 0.587199, 0.000305741, 7.309996e-06, 5.7367135e-05, 0.0090001235, 5.4302604e-06, 1.5489827e-06, 7.68595e-08, 1.6886916e-05, 3.371844e-05, 4.370042e-06, 6.4774554e-07, 0.9750676, 3.3696262e-05, 1.174841e-05, 2.1535311e-07, 4.3019177e-06, 3.4501702e-06, 4.3325283e-05, 1.9218178e-06, 0.00069567043, 0.00094454933, 0.8513878, 1.47089895e-05, 5.508691e-07, 0.00010303902, 1.14887875e-07, 0.0029663409, 0.00013756526, 0.00024022083, 5.820428e-05, 0.00047513295, 6.272563e-05, 8.419958e-05, 8.0053644e-07, 5.260177e-07, 9.3271495e-07, 1.3451074e-06, 0.16494747, 0.974573, 3.617183e-05, 0.025336819, 0.00025912392, 0.00025315737, 0.0012097649, 0.00012929444, 0.00010540635, 2.7977174e-07, 4.634874e-05, 8.876634e-07, 8.333505e-06, 0.035078563, 0.034329593, 4.8403916e-07, 0.74871826, 1.3757586e-06, 1.6718652e-06, 1.5901408e-06, 2.0836098e-06, 1.3511552e-06, 0.005529467, 1.8722126e-07, 3.8832638e-07, 2.2159685e-07, 4.6892048e-08, 4.9938615e-07, 9.628617e-08, 1.7426778e-07, 8.818957e-05, 1.2380521e-07, 2.4672846e-07, 4.2974955e-07, 4.5018555e-07, 1.508303e-06, 1.8523284e-06, 1.3584164e-06, 7.840128e-06, 1.2590917e-05, 4.947425e-07, 1.22161755e-05, 4.0878285e-06, 0.0089416085, 1.5391315e-06, 0.0005723163, 3.135251e-05, 0.00014060998, 0.10645339, 0.01544643, 3.5976852e-06, 1.00109936e-07, 5.82209e-07, 1.2964112e-07, 3.62489e-05, 2.8148938e-07, 4.1576474e-08, 0.00012581026, 4.934983e-05, 0.00912665, 0.002523003, 8.870202e-05, 0.00045497337, 1.4778589e-05, 1.5137389e-05, 0.9897176, 0.0008743877, 0.0056008906, 7.43222e-07, 6.872821e-07, 1.5156919e-05, 0.003155476, 2.3302373e-05, 0.00029732988, 0.5037589, 0.0002033054, 1.2028446e-05, 5.687992e-05, 5.529862e-08, 7.878076e-06, 2.9737845e-05, 2.9942075e-07, 5.0305803e-06, 0.0035852084, 0.027502568, 0.034382634, 0.0015497288, 1.9847444e-05, 1.8920551e-06, 8.519542e-06, 0.0021227377, 3.1679294e-05, 2.8338469e-05, 1.538932e-05, 0.00010073158, 0.00021215402, 6.575099e-05, 0.00010046594, 0.0009036233, 4.7400567e-07, 5.628063e-05, 0.0054818443, 0.00043301436, 6.935279e-05, 2.048416e-07, 1.0564898e-09, 1.1775665e-08, 2.043132e-06, 5.0031375e-08, 9.665107e-05, 0.00019182471, 1.1742088e-06, 6.136277e-07, 3.8830516e-05, 1.5832225e-06, 9.585991e-07, 5.996331e-06, 9.3566105e-06, 0.000224938, 2.6722428e-05, 3.770733e-06, 1.1330733e-05, 3.7497623e-05, 6.593979e-06, 9.839406e-07, 8.350375e-08, 0.00075084396, 3.2656948e-07, 0.43740162, 0.005980251, 1.7515114e-05, 0.00011324971, 1.7902668e-05, 5.4888387e-05, 0.00011220382, 0.0005775113, 7.641379e-05, 9.82271e-06, 5.2034866e-05, 0.28725374, 0.00013187187, 9.77319e-05, 7.477311e-05, 4.9618645e-08, 7.7856035e-05, 0.00011268837, 0.00030045735, 0.00012037384, 0.0002480964, 1.7095336e-06, 0.00054942974, 2.4279914e-06, 2.248341e-06, 0.00011245747, 0.09065252, 0.00073798076, 0.00028179726, 1.9968931e-05, 3.3537884e-07, 0.0018773602, 0.0001424832, 0.0011970778, 0.0002178051, 6.580764e-05, 6.63061e-05, 0.001918673, 3.610633e-06, 0.0016927674, 4.65416e-07, 0.00031003004, 0.011535955, 0.055422395, 0.006256909, 0.0020651969, 3.657119e-05, 0.00035724623, 1.3612591e-06, 1.3021899e-05, 0.0031280334, 0.0047335485, 5.6706663e-06, 0.0005539348, 2.3246128e-05, 0.012676679, 7.777188e-06, 4.2769978e-05, 0.003529964, 0.0017349528, 1.5240854e-06, 0.0008728344, 4.8661746e-05, 0.013915479, 0.00017872133, 0.0017126697, 0.08871642, 7.8692075e-08, 0.0010839439, 0.0001430993, 6.423077e-08, 0.00012293116, 8.5706245e-07, 1.0476309e-06, 3.0496767e-06, 0.00075285515, 0.008365757, 1.0575975e-07, 3.4958302e-06, 5.842166e-09, 0.07638343, 7.16274e-07, 4.6874273e-05, 3.2356553e-07, 7.415349e-05, 2.4333496e-05, 9.574312e-05, 2.085931e-07, 9.676836e-06, 0.0003827364, 3.1153007e-07, 4.687596e-06, 1.9456276e-07, 2.7211402e-07, 0.002770184, 3.359837e-06, 3.819049e-05, 8.631648e-06, 1.3455629e-06, 5.639792e-05, 2.966476e-07, 0.0026918754, 4.261759e-08, 2.2273014e-05, 3.1836954e-08, 5.246852e-06, 3.2160216e-07, 0.00042518828, 2.016891e-07, 1.7639954e-07, 0.0002176079, 6.239891e-08, 1.1398985e-08, 1.5375647e-06, 2.2521505e-08, 0.00011940918, 4.352789e-06, 3.4202746e-08, 1.5555385e-08, 3.3531174e-05, 2.8452455e-06, 1.5150344e-05, 3.611986e-07, 0.0021937431, 8.316285e-06, 8.316285e-06, 1.5085216e-06, 4.217824e-08, 1.1900713e-07, 3.2462575e-09, 9.944168e-10, 9.839105e-09, 0.00036800522, 3.198154e-07, 0.0003293787, 1.7629326e-07, 1.4304999e-06, 6.7323035e-06, 6.9400095e-08, 2.0231744e-06, 0.008401576, 6.588669e-05, 0.01269539, 2.6519876e-06, 2.9866892e-06, 2.9570215e-08, 1.715096e-05, 5.36683e-07, 7.840087e-05, 5.060654e-06, 2.374646e-06, 5.9809144e-09, 0.000112341826, 6.238673e-05, 4.0637184e-05, 2.7920791e-08, 1.5351486e-07, 1.5542342e-06, 3.477701e-09, 1.926575e-09, 3.7801447e-06, 3.3542233e-07, 2.2428628e-06, 3.6095917e-05, 3.6281153e-07, 0.00040362895, 6.637713e-07, 1.3866001e-07, 2.2828606e-05, 2.3126204e-06, 5.510078e-07, 0.0004473613, 5.555632e-06, 1.6323435e-08, 2.1992323e-06, 8.552554e-09, 1.8314661e-06, 4.9824052e-06, 9.551305e-07, 2.048355e-05, 7.590454e-08, 1.014786e-05, 2.6226363e-07, 7.2083567e-06, 6.4619377e-07, 1.935109e-08, 8.185497e-07, 2.3009949e-07, 2.3009949e-07, 4.420471e-06, 4.694173e-05, 0.00016694303, 0.0014195119, 5.9137954e-05, 9.77793e-07, 9.420663e-06, 0.00018735797, 0.00017452521, 0.00073752523, 1.080122e-05, 4.2499787e-06, 9.759524e-08, 1.7267994e-05, 5.6054046e-09, 2.821788e-07, 1.2222796e-08, 1.4381928e-06, 1.6652498e-08, 2.3326699e-07, 4.993699e-08, 6.7915394e-08, 0.00014415165, 1.93412e-08, 9.726351e-05, 0.05832791, 5.187518e-07, 6.319457e-08, 2.2492957e-05, 8.819122e-06, 1.1482602e-05, 6.16188e-08, 1.3699823e-06, 2.4583958e-05, 4.6237237e-06, 9.767119e-07, 0.0021067848, 0.00012842425, 0.022914402, 2.5412485e-06, 2.5412485e-06, 0.0011900296, 4.4861546e-05, 0.00026192446, 2.6907901e-05, 0.00012465776, 0.00037884517, 6.0836373e-07, 8.878114e-05, 0.04133866, 2.1717604e-05, 1.1805399e-07, 0.00030045077, 0.00014473466, 0.00016590458, 1.1654683e-05, 5.2105736e-07, 0.0030258591, 1.8105225e-06, 2.1531853e-06, 0.045342796, 0.00047134777, 5.4484324e-05, 7.3812107e-06, 0.00022563116, 8.74537e-06, 9.0797366e-05, 1.2903939e-05, 4.6160388e-08, 2.157615e-06, 3.8915707e-05, 0.00020028753, 0.0007797881, 0.00023117271, 2.0407722e-05, 0.0006118311, 3.0703436e-06, 6.196117e-07, 2.337723e-07, 7.436541e-06, 2.5007932e-05, 1.2862485e-05, 6.769863e-07, 4.6472237e-06, 1.1582507e-05, 4.534958e-05, 0.0002082666, 6.806674e-06, 2.4799786e-07, 5.992884e-08, 0.00091760844, 5.7171834e-05, 4.7451363e-06, 1.1378629e-06, 1.3915096e-07, 1.3359447e-07, 4.7850368e-05, 2.3045504e-07, 1.4363123e-06, 4.797093e-07, 4.3354103e-06, 7.52833e-05, 3.7038149e-06, 9.488995e-09, 9.24699e-08, 2.7109166e-07, 1.40175525e-05, 1.6117029e-07, 8.918682e-08, 8.496998e-08, 6.383259e-06, 1.1497832e-05, 6.8265916e-07, 1.609049e-07, 1.609049e-07, 7.290915e-08, 1.9925394e-06, 7.424683e-08, 1.7363107e-06, 4.7425292e-05, 2.9229287e-07, 8.22346e-06, 0.00033852278, 1.4001542e-07, 3.839289e-07, 0.000116514886, 2.611027e-06, 2.4475637e-09, 1.35031835e-08, 2.2865428e-05, 6.883572e-07, 2.8873774e-07, 2.0428534e-08, 2.3673786e-06, 2.1255811e-08, 3.5993364e-09, 1.0568853e-06, 1.1416146e-09, 1.0959161e-08, 8.041556e-09, 9.793919e-06, 0.006410454, 0.12681292, 8.057613e-05, 0.00049549434, 4.165061e-05, 4.447941e-06, 4.947358e-06, 7.360607e-06, 5.6748913e-06, 2.259307e-06, 9.430785e-06, 7.168321e-06, 0.0010624683, 1.9497638e-06, 0.23372884, 4.4959274e-06, 6.0402095e-07, 5.855669e-05, 4.4783183e-06, 3.6497015e-05, 1.6319424e-06, 2.3074206e-05, 4.8259368e-05, 1.4824408e-05, 2.4851047e-06, 0.002536824, 0.00037157064, 1.3198357e-05, 4.333015e-07, 0.007750464, 0.00041292567, 0.0006363216, 0.0016666586, 0.0017675388, 7.027162e-05, 0.35579407, 0.00018561223, 0.00020746171, 0.0010915118, 0.039134502, 0.00019610394, 1.4692046e-06, 2.126766e-05, 2.8060407e-05, 4.7873964e-05, 1.4023289e-05, 1.8000368e-05, 6.989372e-06, 5.760911e-06, 2.8627752e-05, 0.00022025811, 0.0001514651, 0.00017799683, 1.6844839e-05, 5.271901e-06, 0.00033486867, 0.9773402, 2.306053e-06, 0.009123438, 0.0004378558, 0.08462516, 2.998905e-06, 6.139621e-05, 1.1454953e-06, 2.6947835e-05, 6.847248e-05, 2.8517125e-05, 4.6219503e-07, 1.405167e-05, 7.711132e-05, 3.621663e-05, 2.3060572e-06, 9.2512455e-06, 5.865521e-06, 5.677289e-06, 5.8159467e-06, 0.00041830275, 0.00016981586, 1.7242734e-05, 0.00010734024, 0.00013614068, 6.786965e-05, 2.6246777e-05, 1.1984305e-05, 1.8668741e-05, 7.1343864e-05, 0.000288607, 5.6848734e-05, 6.9120565e-06, 7.3223246e-06, 5.2597476e-05, 2.4977613e-05, 3.6730503e-06, 8.253882e-06, 3.0458394e-05, 8.518323e-06, 4.6639134e-06, 4.398117e-05, 2.4999443e-05, 2.55137e-06, 9.964784e-06, 4.657757e-06, 3.5029367e-05, 2.129792e-05, 3.170345e-06, 4.4603876e-06, 0.11344863, 2.0294672e-05, 2.2317283e-05, 0.0002022484, 1.43895695e-05, 8.050296e-06, 6.624416e-05, 3.1755027e-07, 0.001864817, 0.00014179994, 0.064982295, 2.6936113e-06, 0.015396328, 1.4656466e-05, 0.0019005602, 0.0014537852, 7.3345436e-05, 1.3788191e-06, 3.9089104e-05, 0.00012785204, 2.1002677e-05, 2.2930655e-05, 6.4402234e-06, 2.6586664e-05, 0.00010894666, 1.0161834e-05, 2.1377832e-07, 5.892129e-06, 3.073984e-05, 6.4547996e-05, 1.2314113e-05, 0.00025740222, 1.1893335e-05, 1.2676026e-05, 9.742719e-06, 5.0852326e-05, 8.630179e-07, 0.00038496545, 0.0005465421, 2.1991201e-07, 0.00016599002, 3.6647648e-06, 1.8562262e-07, 1.9116962e-08, 3.2070233e-07, 4.3914656e-06, 7.5731305e-06, 6.7703613e-06, 3.583543e-06, 4.8827114e-06, 9.828642e-06, 3.5419453e-07, 1.2991035e-06, 1.9443954e-08, 0.00012478704, 2.9418756e-09, 7.3304576e-09, 4.494204e-06, 2.2423545e-05, 8.382325e-06, 2.6339333e-06, 7.96255e-07, 8.597023e-05, 1.112981e-06, 3.1277374e-05, 7.3405236e-06, 5.1523468e-05, 2.2865472e-05, 1.9616593e-05, 4.8501414e-07, 0.00026457742, 0.0006201371, 5.097821e-06, 4.3520395e-05, 1.625506e-05, 1.9619551e-06, 3.4426107e-06, 3.2904463e-06, 5.6341837e-06, 0.00012872965, 4.451039e-06, 7.838192e-06, 7.131399e-06, 1.4439622e-05, 1.9157886e-07, 3.1358303e-09, 2.955387e-07, 0.320989, 6.2729378e-06, 0.0002805938, 1.1688164e-05, 3.799093e-06, 1.3438662e-06, 4.428478e-08, 4.022855e-05, 1.1357401e-06, 0.00017170819, 6.583984e-05, 0.0002544192, 5.7770194e-05, 2.831054e-05, 5.7854713e-06, 3.7423633e-06, 1.2631641e-05, 3.6539986e-05, 0.9580605, 8.704975e-05, 0.00013252611, 1.2659141e-06, 9.634515e-06, 0.0015291724, 2.5513658e-05, 3.0510782e-05, 3.5922672e-05, 5.2145147e-05, 5.6216385e-07, 0.0011468803, 0.009562001, 4.651214e-06, 1.0385337e-05, 8.976063e-06, 5.331716e-05, 4.3445678e-05, 7.3356737e-06, 8.288711e-08, 9.1801805e-05, 8.529634e-07, 0.012632192, 1.7006405e-06, 7.3104235e-07, 0.0030949218, 7.741652e-07, 0.98995095, 1.4459644e-05, 2.6603925e-06, 1.4092413e-05, 6.083537e-06, 2.6463283e-06, 0.0020975452, 0.20718619, 0.0012047889, 0.006524483, 0.00040674699, 0.8883751, 6.526623e-06, 5.7331445e-10, 5.183634e-06, 0.0007378739, 0.0001108811, 0.012399681, 9.774634e-05, 9.7887656e-05, 0.61285776, 1.4965125e-06, 3.92881e-07, 0.99206406, 0.32683998, 0.94403434, 0.6814226, 2.188889e-05, 4.545546e-06, 0.09044487, 0.9153422, 1.16552055e-05, 0.6370946, 0.1324521, 0.87709117, 0.00087957183, 0.9999604, 8.835286e-05, 0.78434163, 0.98221886, 2.9640021e-05, 0.00030666497, 0.5596949, 5.9436215e-06, 0.41069728, 3.1293723e-06, 0.9577256, 0.97109884, 7.664696e-06, 0.0015772772, 0.1808845, 3.1341779e-06, 0.00079423795, 0.0003706817, 0.00012508249, 0.0001912011, 0.001102495, 0.5911247, 0.65024143, 5.9798498e-05, 0.982141, 0.0010114156, 0.9965612, 0.992473, 0.4947089, 0.7712378, 0.010857273, 0.845739, 0.0017804684, 0.0003496737, 0.020280086, 1.6822558e-05, 0.9284207, 0.497221, 0.99933404, 6.470428e-05, 0.00061553105, 0.9840433, 6.330318e-06, 0.10243029, 0.0044399872, 4.1184532e-07, 6.8856973e-09, 4.408788e-06, 4.7573113e-07, 2.2557682e-05, 4.9270082e-05, 8.743967e-07, 9.219259e-07, 8.3341274e-07, 9.0873965e-07, 0.99973994, 0.00010132502, 7.051401e-05, 1.8210579e-06, 9.840522e-07, 9.962912e-07, 3.3343517e-06, 5.1341303e-06, 2.60316e-06, 2.15613e-06, 7.949925e-06, 3.9102437e-07, 7.080804e-07, 0.00015022968, 3.6141366e-06, 4.150628e-05, 9.100223e-07, 4.7216176e-07, 9.063664e-05, 0.0022865683, 0.00014845183, 1.6360142e-06, 0.999961, 7.4687516e-05, 1.1121471e-06, 0.99908495, 0.30828366, 1.3527099e-05, 0.024285462, 0.001334929, 0.42163908, 0.002991853, 0.99963176, 0.00017458278, 4.1728683e-05, 0.15009364, 0.00019931252, 0.00019931252, 0.96689045, 0.8113416, 0.99860483, 0.00056113926, 1.2940624e-05, 0.9992675, 0.0017872212, 6.0970877e-05, 0.013154365, 0.92470574, 0.079735495, 1.6229082e-07, 1.1045051e-05, 0.0010740203, 1.0565765e-05, 0.00038271834, 3.6689366e-07, 0.04961638, 0.00017209338, 2.6233862e-05, 0.000632689, 0.000109650064, 0.0002771222, 0.00020983325, 1.2546306e-05, 0.00022445833, 0.00094919995, 0.89803106, 0.00013147209, 0.00054327515, 3.620132e-06, 2.0633574e-06, 0.002448993, 0.017481098, 0.9924615, 0.13509709, 0.9206207, 1.9613658e-06, 1.31411125e-05, 8.665115e-06, 1.1406266e-05, 0.00021497482, 2.2430904e-05, 0.0005494091, 0.0006657822, 3.8141366e-08, 4.808889e-05, 0.0003853624, 1.0870496e-06, 0.00012868877, 1.6481587e-07, 0.00011037274, 0.019236043, 3.8192105e-08, 7.8792105e-08, 3.288468e-08, 2.8317887e-08, 0.00046971874, 5.6703033e-08, 0.0025281827, 0.00014729475, 1.8903332e-07, 5.187291e-05, 0.002068842, 1.2822484e-05, 4.149013e-05, 1.1678315e-05, 2.378515e-06, 6.920909e-08, 6.3116304e-06, 1.0138853e-06, 2.6583324e-08, 2.9504146e-05, 0.0089984825, 0.0089984825, 7.142386e-08, 0.00058547413, 9.031491e-08, 1.2877143e-07, 7.637787e-05, 0.017764034, 1.5667844e-07, 1.37897e-07, 0.004627965, 8.6050164e-08, 6.08772e-09, 3.102534e-07, 0.0019917863, 8.702012e-05, 2.0479433e-07, 3.458593e-07, 1.3611367e-05, 8.3437186e-07, 5.9602567e-09, 0.006678616, 4.056865e-05, 8.111517e-07, 0.00021364051, 0.00012426931, 1.0922496e-06, 0.00013906788, 0.00016187361, 4.8255228e-05, 3.0964625e-07, 0.00012096412, 9.155544e-05, 0.00012467524, 1.6089176e-05, 0.0001950702, 4.671964e-05, 6.3337563e-07, 1.1173925e-06, 2.0376797e-06, 0.00039870766, 2.2715785e-06, 9.625813e-07, 0.009929666, 2.1279984e-06, 2.2363645e-07, 5.971462e-07, 4.0508496e-07, 1.2296604e-06, 2.3814885e-06, 2.9711194e-07, 3.116545e-06, 2.26677e-06, 1.7948746e-06, 6.393144e-07, 5.2048595e-06, 1.0662894e-06, 3.101191e-07, 7.742243e-07, 1.1640797e-05, 1.8455576e-06, 1.0384814e-06, 3.5368043e-07, 1.5935839e-06, 6.803876e-07, 1.1990579e-06, 7.038711e-07, 2.0815749e-07, 7.279437e-07, 2.0496451e-07, 7.667712e-07, 1.8371479e-06, 0.021070678, 3.8339176e-06, 3.6783218e-05, 0.0022185387, 2.0802393e-07, 0.36782002, 7.730557e-08, 1.4224588e-05, 3.4673843e-07, 0.00016388984, 3.4706496e-05, 0.6299165, 0.00023564597, 1.18455475e-07, 3.7525558e-07, 0.0031213465, 0.0019389754, 0.00014022931, 0.0020532052, 7.358173e-05, 1.8008653e-06, 3.425392e-05, 0.00016674068, 0.00010777718, 3.7847403e-07, 3.9782768e-07, 0.0020580569, 2.2580776e-05, 8.781479e-05, 6.8483837e-07, 2.8639406e-07, 0.00037649556, 0.00022396685, 2.5500553e-08, 9.002217e-07, 1.1868881e-06, 0.0006353217, 2.9661055e-07, 0.00039351897, 4.4604704e-08, 1.1558055e-05, 1.9674521e-06, 1.5631979e-07, 1.4858907e-07, 0.0016387306, 0.00011871437, 0.0013744374, 0.00022601098, 2.601934e-07, 1.500607e-07, 3.6181987e-07, 0.0004143499, 0.0004321208, 0.00040644157, 2.0817663e-05, 7.2486073e-06, 0.0003638928, 2.633097e-07, 3.4015407e-05, 0.04846565, 1.6548047e-05, 2.3548371e-05, 1.8135468e-07, 0.00028901175, 7.7946726e-07, 3.0830262e-07, 5.1166768e-05, 0.00033202037, 0.00012556816, 2.3731384e-06, 8.949422e-08, 0.00948367, 1.2146688e-07, 6.247316e-07, 1.283498e-07, 3.6983718e-07, 4.5318018e-07, 0.0028017769, 0.0006211592, 0.0017689208, 2.65566e-07, 4.994722e-06, 0.004425011, 0.00441266, 3.6825895e-05, 0.002388651, 6.465704e-05, 0.023376808, 0.028315209, 9.260611e-06, 2.6614367e-05, 5.212978e-05, 0.00068842235, 0.01705951, 0.000126986, 1.6418097e-06, 8.277514e-06, 3.3795973e-06, 1.4440297e-05, 2.7604732e-05, 3.813806e-06, 8.20135e-06, 0.00016354422, 9.59157e-07, 0.008790419, 0.00958645, 4.2176125e-05, 0.000102120706, 0.00019081299, 0.0019216265, 6.565046e-06, 3.005688e-06, 0.00019565194, 0.0016827808, 9.327498e-05, 1.4328798e-05, 7.1504124e-05, 0.0074496455, 6.083219e-08, 2.4993794e-06, 4.2630377e-06, 2.781914e-05, 3.308755e-05, 0.00023287392, 0.0019318932, 0.00019675288, 1.3391197e-05, 5.8566966e-05, 1.536757e-05, 3.4010723e-06, 1.0971575e-05, 3.306224e-06, 6.3717216e-06, 0.0001184448, 1.0172044e-05, 0.00040645627, 0.0006199001, 7.542745e-05, 2.2642664e-05, 1.1777139e-05, 1.9916346e-05, 0.0008423866, 4.7527763e-07, 0.00070121646, 6.0147268e-06, 1.2233103e-06, 0.0006484453, 1.7747775e-06, 5.211204e-05, 0.002820446, 2.68201e-06, 7.5848325e-06, 3.518812e-06, 5.6364943e-06, 2.9886445e-05, 1.280349e-06, 4.3610018e-07, 0.00011073084, 0.0008452225, 3.0150527e-06, 5.965303e-07, 5.495539e-06, 0.00019416669, 1.2834224e-06, 0.00029854418, 3.1606035e-06, 3.076709e-05, 2.8287495e-06, 0.0001900703, 0.0012054007, 3.9067054e-06, 1.7698605e-05, 1.3879188e-05, 0.00437, 4.4693273e-08, 1.4184396e-05, 1.6680442e-05, 3.847331e-05, 0.0073505435, 9.551824e-05, 4.5764937e-06, 1.3429782e-05, 4.5052715e-05, 4.9184923e-06, 9.30958e-06, 5.4406826e-07, 1.1509921e-05, 4.3067944e-06, 9.451917e-06, 1.2811063e-06, 0.00076093455, 7.825382e-06, 0.17857984, 1.719067e-05, 7.4415643e-06, 1.03116545e-05, 1.0888707e-05, 7.749166e-06, 2.3307716e-06, 1.4002563e-05, 3.292273e-06, 1.8546741e-06, 1.3274982e-05, 8.695737e-06, 1.6069793e-05, 2.094539e-05, 1.6483395e-05, 1.396802e-05, 6.5372177e-07, 1.0788702e-05, 9.396384e-06, 0.00030851687, 2.4423163e-05, 3.643834e-06, 2.467881e-05, 8.284512e-06, 3.0387371e-05, 9.984932e-06, 3.0375788e-06, 1.1722397e-08, 1.1791013e-06, 0.006208958, 8.156391e-06, 8.260985e-06, 2.4665555e-06, 6.8703764e-07, 8.047441e-06, 3.8217593e-05, 1.3864887e-05, 7.9785e-05, 7.2889753e-07, 5.0803523e-05, 0.028820852, 0.00022140244, 0.00040790995, 1.1230139e-05, 6.215538e-05, 0.00016567962, 1.3478629e-05, 1.8535053e-06, 7.1993227e-06, 0.00039001546, 4.8178713e-06, 5.359498e-06, 0.000187772, 1.8472692e-05, 0.00026080836, 2.3522212e-07, 6.7310966e-06, 3.0277251e-06, 4.526796e-05, 4.1937965e-05, 2.9878893e-05, 5.8965972e-05, 3.5742996e-05, 0.00028716328, 0.0008381072, 0.0008519714, 0.026872372, 1.7545809e-06, 0.0006953285, 6.574361e-07, 0.010271631, 0.013062447, 0.067294896, 0.00044779602, 0.005876471, 0.000113682494, 0.00018050775, 0.00015195723, 0.00017726801, 0.00015986437, 0.00026134375, 7.2528255e-06, 2.9387162e-05, 0.00011461991, 0.0002304786, 0.0031474512, 0.018929916, 2.2740389e-05, 4.294339e-05, 1.4701066e-05, 0.00012282512, 0.04062671, 0.00016366168, 0.00014028842, 0.000509107, 0.0059070974, 0.0020301638, 9.748319e-05, 7.789421e-05, 0.0004596587, 0.00028598594, 2.4473922e-05, 0.07240334, 0.00013353227, 2.9664224e-07, 0.0014616178, 0.00026034302, 0.042095516, 0.007111537, 0.00013875688, 0.0022082017, 0.0010516735, 0.0002707307, 0.06721865, 0.00076769904, 0.0021233328, 0.017539771, 6.155039e-05, 3.2548756e-05, 5.8196954e-05, 0.005048841, 0.0068158773, 1.2307091e-05, 0.00011888396, 0.00039964032, 0.00079634856, 3.1001797e-05, 0.021204442, 0.024585778, 0.024585778, 0.00013276945, 0.00035451388, 0.00014700166, 0.001975635, 0.015799865, 5.30122e-05, 8.89359e-06, 0.00013452568, 4.191222e-05, 0.00050229166, 0.030260434, 0.0047415914, 0.00021565025, 0.00011361466, 0.00015629262, 9.327719e-07, 0.0005057348, 0.0074697486, 5.4625936e-05, 0.005807849, 3.7900452e-05, 0.00028222316, 0.09909161, 1.5355337e-06, 0.00051427353, 0.0071846293, 0.0015237486, 0.00012826869, 4.3103646e-05, 0.0001053114, 4.543841e-05, 3.3928e-05, 0.00044628326, 0.0001253509, 0.005676657, 0.0026632156, 4.584231e-05, 0.00021469299, 0.00026904733, 0.10192235, 0.00015345028, 0.0012426837, 0.02155755, 0.0006622062, 0.025365181, 0.00011695112, 0.088076346, 6.4607143e-06, 0.0016596934, 0.06797281, 0.00021907622, 0.00019095131, 1.0730645e-05, 0.00016302978, 0.0100867, 0.0006513458, 4.5557557e-05, 5.402965e-06, 0.001114736, 0.20692632, 7.535657e-05, 0.0011003509, 0.0005026758, 0.016593762, 0.016593762, 7.941768e-05, 0.0004186741, 0.0006342599, 0.0011421242, 6.0314855e-05, 0.0011118874, 0.0011118874, 0.1965156, 0.0002197886, 0.0013571408, 0.00090251496, 5.4564966e-06, 0.00013205393, 7.9051824e-07, 1.08216345e-05, 0.0007549638, 4.39088e-05, 0.00016415415, 4.8385537e-05, 0.00026931785, 0.00041133212, 5.6384175e-07, 0.00038253344, 0.006383879, 0.0009640006, 1.2744237e-06, 0.009623212, 0.00027273438, 0.0396247, 0.0014395842, 2.5809228e-05, 0.00011879272, 0.00059284864, 0.0063709468, 0.00022640047, 0.00017509858, 0.0041294633, 0.00022039507, 6.4468644e-05, 0.056341045, 6.043801e-05, 0.01931312, 3.370841e-07, 0.0006344413, 0.0006344413, 0.001013892, 0.00048097185, 5.7804477e-06, 0.00014783297, 0.00034288852, 0.0006340291, 0.29606116, 0.020409077, 0.009545188, 1.5579128e-05, 1.5579128e-05, 0.14319114, 0.0002127654, 0.0018025676, 0.00317847, 0.00014310831, 0.009622676, 0.0003170895, 0.00049737823, 2.667662e-05, 0.00018607172, 0.001243304, 0.0049355747, 3.32346e-05, 0.00033338743, 0.0003275175, 0.0009704354, 0.00011475399, 0.00017622346, 0.00019017473, 0.0066862954, 2.647934e-06, 0.00061941054, 3.080314e-05, 0.14387818, 0.00035188097, 9.716598e-05, 7.6797165e-05, 4.9521536e-06, 8.845166e-06, 0.00014631571, 4.3582908e-08, 0.00012460654, 0.00028942092, 0.00042764182, 0.00014789627, 0.4529775, 7.502674e-05, 7.1200666e-05, 0.00012844591, 0.00027398748, 0.0001423759, 9.9795856e-05, 1.0774277e-05, 6.063723e-07, 5.1914918e-05, 0.00042839258, 5.2403364e-05, 0.00052422896, 2.2974235e-05, 5.4306605e-05, 0.00022014535, 1.238331e-05, 0.000108896485, 0.0002589194, 0.00016640047, 0.00012300888, 0.00016859405, 2.1216387e-05, 0.00048442383, 2.1181431e-05, 1.20992245e-05, 0.00011861185, 5.6497716e-05, 5.772647e-05, 1.7039004e-06, 1.2477409e-05, 2.2212052e-05, 2.3795905e-05, 0.00084379775, 4.3684853e-05, 0.00013825053, 0.0003644549, 0.00018412134, 4.774307e-05, 6.4741475e-06, 3.542331e-05, 0.00011281953, 6.139094e-05, 9.286709e-05, 0.00042552443, 3.1309093e-05, 1.9129575e-05, 1.1961938e-05, 9.1272996e-05, 9.901657e-06, 9.637327e-06, 0.00014326232, 0.00092591054, 0.0044283317, 1.0572548e-05, 0.00061719824, 8.416971e-05, 3.5616522e-05, 0.00030117892, 2.4575613e-05, 0.000709665, 2.3297394e-05, 1.4958327e-05, 4.7728598e-05, 7.086435e-05, 7.517484e-05, 2.6423077e-05, 0.00044014826, 4.226873e-05, 1.38412e-05, 0.00020209629, 3.0614901e-06, 0.00014096963, 2.2673932e-05, 0.000116944655, 2.1322634e-05, 0.00021431298, 5.876888e-06, 6.3893312e-06, 2.9385928e-05, 0.00018283479, 6.0980055e-05, 0.0003384928, 0.00014400396, 0.00010550379, 9.95906e-05, 5.0077637e-05, 0.0066666515, 4.0470527e-06, 1.9714642e-05, 0.010499846, 0.00026689842, 3.6076606e-05, 0.0011303286, 6.7422676e-05, 1.1014905e-05, 0.0003022173, 9.119466e-06, 2.787169e-05, 3.879876e-05, 7.019619e-06, 0.00014818764, 0.013041745, 0.009938071, 3.91907e-05, 7.867174e-06, 3.1443084e-05, 1.4290341e-05, 0.00024893828, 0.3013488, 0.00017602832, 0.0009807383, 0.004878551, 0.0007411685, 9.886899e-06, 0.0015105918, 0.00050702895, 0.00095916365, 0.006630237, 0.00010040945, 0.07585228, 0.0006289932, 2.795842e-05, 0.0017938954, 6.250154e-05, 0.00038921877, 0.0015896397, 8.555119e-05, 0.0010455193, 0.0032043166, 0.0175139, 0.0016638926, 0.02853774, 0.090422824, 0.00028590744, 0.0006196981, 0.0025419889, 0.0023409708, 0.0002020017, 7.5075324e-05, 0.0023234366, 0.011370224, 1.0352764e-05, 9.1230495e-06, 0.00552776, 0.16196495, 0.17530204, 5.3427034e-06, 0.006510772, 1.10243e-05, 0.0022020496, 4.2874562e-06, 3.205457e-05, 2.975231e-05, 0.00022854611, 7.741894e-05, 0.0042925877, 0.0011497989, 3.2462765e-05, 0.00023994273, 4.0374434e-05, 0.009736251, 0.0018990024, 4.0369894e-05, 0.004862694, 1.1932808e-07, 4.2307045e-05, 0.0049945484, 0.025766663, 6.390235e-05, 2.8027296e-05, 0.00015907866, 0.002791642, 7.3513334e-06, 1.7785334e-05, 8.189847e-05, 0.0008566023, 0.00035465418, 4.7453388e-05, 0.0004001588, 1.4645805e-05, 0.0017044247, 0.0035531337, 0.017781647, 0.0004808561, 0.00013067308, 4.081222e-06, 0.00080059574, 0.03665286, 0.00096228777, 0.00018117987, 0.00054915715, 0.0041726194, 4.4122244e-06, 1.3698014e-05, 2.7392216e-05, 0.0001204834, 0.0002453606, 0.00024453268, 8.414732e-05, 5.9178008e-05, 7.494736e-05, 0.000109727145, 0.02148804, 6.6984427e-07, 1.1402417e-05, 3.5416924e-05, 4.2548592e-05, 0.000118712334, 0.045880012, 0.15393558, 8.791475e-05, 0.00047059756, 0.0007029045, 0.0015423505, 0.00010047352, 0.00014813647, 3.5205187e-05, 0.016650137, 0.0033360904, 0.00043338665, 0.086006366, 0.0058971816, 0.0039631394, 0.00059691106, 0.7213155, 2.3010777e-08, 2.3418865e-05, 0.019715544, 0.00015360398, 0.0066944547, 9.36937e-05, 0.00039963768, 4.7667916e-05, 0.00198086, 0.013566896, 3.0864916e-07, 0.00014713951, 5.400101e-06, 0.018368023, 0.05762951, 0.0002614811, 1.\n*** WARNING: skipped 50815 bytes of output ***\n\n\n</div>",
       "datasetInfos": [],
       "removedWidgets": [],
       "type": "html"
      }
     },
     "output_type": "display_data"
    }
   ],
   "source": [
    "base_path = '/dbfs/FileStore/shared_uploads/lilian.lu@otis.com/'\n",
    "\n",
    "img_path = DATA_PATH\n",
    "# img_path = '/dbfs/FileStore/shared_uploads/lilian.lu@otis.com/images/11_26'\n",
    "model_path = base_path+\"training/cp-0066.ckpt\"\n",
    "# CLASS_PEOPLE = 'checkpoint/people_class'\n",
    "\n",
    "model = load_model(model_path)\n",
    "result, test_ds, scores = predict(img_path, model)"
   ]
  },
  {
   "cell_type": "code",
   "execution_count": 0,
   "metadata": {
    "application/vnd.databricks.v1+cell": {
     "inputWidgets": {},
     "nuid": "7ec28651-f9a6-4f44-a2d6-2cdc2327efe4",
     "showTitle": false,
     "title": ""
    }
   },
   "outputs": [
    {
     "data": {
      "text/html": [
       "<style scoped>\n",
       "  .ansiout {\n",
       "    display: block;\n",
       "    unicode-bidi: embed;\n",
       "    white-space: pre-wrap;\n",
       "    word-wrap: break-word;\n",
       "    word-break: break-all;\n",
       "    font-family: \"Source Code Pro\", \"Menlo\", monospace;;\n",
       "    font-size: 13px;\n",
       "    color: #555;\n",
       "    margin-left: 4px;\n",
       "    line-height: 19px;\n",
       "  }\n",
       "</style>\n",
       "<div class=\"ansiout\"></div>"
      ]
     },
     "metadata": {
      "application/vnd.databricks.v1+output": {
       "addedWidgets": {},
       "arguments": {},
       "data": "<div class=\"ansiout\"></div>",
       "datasetInfos": [],
       "removedWidgets": [],
       "type": "html"
      }
     },
     "output_type": "display_data"
    }
   ],
   "source": [
    "y_p = []\n",
    "for item in result:\n",
    "  y_p.append(np.argmax(item))\n",
    "\n",
    "y_r = []\n",
    "for x, y in test_ds:\n",
    "    y_n = y.numpy()\n",
    "    y_r.extend(y_n)"
   ]
  },
  {
   "cell_type": "code",
   "execution_count": 0,
   "metadata": {
    "application/vnd.databricks.v1+cell": {
     "inputWidgets": {},
     "nuid": "20e22343-1f69-4277-93b3-0827b37ef06e",
     "showTitle": false,
     "title": ""
    }
   },
   "outputs": [
    {
     "data": {
      "text/html": [
       "<style scoped>\n",
       "  .ansiout {\n",
       "    display: block;\n",
       "    unicode-bidi: embed;\n",
       "    white-space: pre-wrap;\n",
       "    word-wrap: break-word;\n",
       "    word-break: break-all;\n",
       "    font-family: \"Source Code Pro\", \"Menlo\", monospace;;\n",
       "    font-size: 13px;\n",
       "    color: #555;\n",
       "    margin-left: 4px;\n",
       "    line-height: 19px;\n",
       "  }\n",
       "</style>\n",
       "<div class=\"ansiout\">precision:0.97928625\n",
       "recall:0.9914098\n",
       "</div>"
      ]
     },
     "metadata": {
      "application/vnd.databricks.v1+output": {
       "addedWidgets": {},
       "arguments": {},
       "data": "<div class=\"ansiout\">precision:0.97928625\nrecall:0.9914098\n</div>",
       "datasetInfos": [],
       "removedWidgets": [],
       "type": "html"
      }
     },
     "output_type": "display_data"
    }
   ],
   "source": [
    "m_p = tf.keras.metrics.Precision()\n",
    "m_r = tf.keras.metrics.Recall()\n",
    "# m_auc = tf.keras.metrics.AUC()\n",
    "\n",
    "m_p.update_state(y_r, y_p)\n",
    "m_r.update_state(y_r, y_p)\n",
    "# m_auc.update_state(y_r, y_p)\n",
    "\n",
    "precision = m_p.result().numpy()\n",
    "recall = m_r.result().numpy()\n",
    "# auc = m_auc().result.numpy()\n",
    "print(\"precision:%s\\nrecall:%s\"%(precision, recall))"
   ]
  }
 ],
 "metadata": {
  "application/vnd.databricks.v1+notebook": {
   "dashboards": [],
   "language": "python",
   "notebookName": "mobilenetV2_random_train_test",
   "notebookOrigID": 1940149461303392,
   "widgets": {}
  },
  "kernelspec": {
   "display_name": "Python 3",
   "language": "python",
   "name": "python3"
  },
  "language_info": {
   "codemirror_mode": {
    "name": "ipython",
    "version": 3
   },
   "file_extension": ".py",
   "mimetype": "text/x-python",
   "name": "python",
   "nbconvert_exporter": "python",
   "pygments_lexer": "ipython3",
   "version": "3.8.3"
  }
 },
 "nbformat": 4,
 "nbformat_minor": 1
}
