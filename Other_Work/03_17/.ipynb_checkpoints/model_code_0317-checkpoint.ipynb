{
 "cells": [
  {
   "cell_type": "code",
   "execution_count": 1,
   "metadata": {
    "ExecuteTime": {
     "end_time": "2021-03-17T09:49:40.439773Z",
     "start_time": "2021-03-17T09:49:13.789635Z"
    },
    "application/vnd.databricks.v1+cell": {
     "inputWidgets": {},
     "nuid": "9c277d6b-3712-4891-b800-562707a87bf0",
     "showTitle": false,
     "title": ""
    }
   },
   "outputs": [],
   "source": [
    "import tensorflow as tf\n",
    "from tensorflow.keras import layers\n",
    "from PIL import Image\n",
    "import os\n",
    "import pathlib\n",
    "import numpy as np\n",
    "import pathlib\n",
    "import shutil\n",
    "import os\n",
    "import numpy as np "
   ]
  },
  {
   "cell_type": "code",
   "execution_count": 2,
   "metadata": {
    "ExecuteTime": {
     "end_time": "2021-03-17T09:49:40.871753Z",
     "start_time": "2021-03-17T09:49:40.443787Z"
    },
    "application/vnd.databricks.v1+cell": {
     "inputWidgets": {},
     "nuid": "4ffa1243-7bf4-4c7a-98a5-91653addda1f",
     "showTitle": false,
     "title": ""
    }
   },
   "outputs": [
    {
     "name": "stdout",
     "output_type": "stream",
     "text": [
      "[]\n"
     ]
    }
   ],
   "source": [
    "gpus = tf.config.experimental.list_physical_devices('GPU')\n",
    "print(gpus)\n",
    "if gpus:\n",
    "  # Restrict TensorFlow to only allocate 1GB of memory on the first GPU\n",
    "  try:\n",
    "    for gpu in gpus:\n",
    "#       tf.config.experimental.set_memory_growth(gpu, True)\n",
    "      print('yes')\n",
    "#     tf.config.experimental.set_virtual_device_configuration(\n",
    "#         gpus[0],\n",
    "#         [tf.config.experimental.VirtualDeviceConfiguration(memory_limit=1024)])\n",
    "    logical_gpus = tf.config.experimental.list_logical_devices('GPU')\n",
    "    print(len(gpus), \"Physical GPUs,\", len(logical_gpus), \"Logical GPUs\")\n",
    "  except RuntimeError as e:\n",
    "    # Virtual devices must be set before GPUs have been initialized\n",
    "    print(e)"
   ]
  },
  {
   "cell_type": "code",
   "execution_count": 3,
   "metadata": {
    "ExecuteTime": {
     "end_time": "2021-03-17T09:49:40.882690Z",
     "start_time": "2021-03-17T09:49:40.874711Z"
    },
    "application/vnd.databricks.v1+cell": {
     "inputWidgets": {},
     "nuid": "7cfd9342-f3ce-419e-9e8b-e3134fff31c4",
     "showTitle": false,
     "title": ""
    }
   },
   "outputs": [],
   "source": [
    "DATA_PATH = r'/dbfs/FileStore/shared_uploads/wu.wenjun@otis.com/Resized_Data'\n",
    "log_dir = '/dbfs/FileStore/shared_uploads/wu.wenjun@otis.com/logs'\n",
    "\n",
    "seed = 12\n",
    "img_height = 120\n",
    "img_width = 160\n",
    "batch_size = 128\n",
    "\n",
    "num_classes = 2\n",
    "NUM_EPOCHS = 120"
   ]
  },
  {
   "cell_type": "code",
   "execution_count": 4,
   "metadata": {
    "ExecuteTime": {
     "end_time": "2021-03-17T09:49:42.522190Z",
     "start_time": "2021-03-17T09:49:40.885682Z"
    },
    "application/vnd.databricks.v1+cell": {
     "inputWidgets": {},
     "nuid": "7e5adcb6-5549-40ed-a46f-e6974a6c74b0",
     "showTitle": false,
     "title": ""
    }
   },
   "outputs": [
    {
     "ename": "FileNotFoundError",
     "evalue": "[WinError 3] 系统找不到指定的路径。: '/dbfs/FileStore/shared_uploads/wu.wenjun@otis.com/Resized_Data'",
     "output_type": "error",
     "traceback": [
      "\u001b[1;31m---------------------------------------------------------------------------\u001b[0m",
      "\u001b[1;31mFileNotFoundError\u001b[0m                         Traceback (most recent call last)",
      "\u001b[1;32m<ipython-input-4-f73439d67899>\u001b[0m in \u001b[0;36m<module>\u001b[1;34m\u001b[0m\n\u001b[0;32m      1\u001b[0m \u001b[1;31m# read data\u001b[0m\u001b[1;33m\u001b[0m\u001b[1;33m\u001b[0m\u001b[1;33m\u001b[0m\u001b[0m\n\u001b[0;32m      2\u001b[0m \u001b[0mAUTOTUNE\u001b[0m \u001b[1;33m=\u001b[0m \u001b[0mtf\u001b[0m\u001b[1;33m.\u001b[0m\u001b[0mdata\u001b[0m\u001b[1;33m.\u001b[0m\u001b[0mexperimental\u001b[0m\u001b[1;33m.\u001b[0m\u001b[0mAUTOTUNE\u001b[0m\u001b[1;33m\u001b[0m\u001b[1;33m\u001b[0m\u001b[0m\n\u001b[1;32m----> 3\u001b[1;33m train_ds = tf.keras.preprocessing.image_dataset_from_directory(\n\u001b[0m\u001b[0;32m      4\u001b[0m   \u001b[0mDATA_PATH\u001b[0m\u001b[1;33m,\u001b[0m\u001b[1;33m\u001b[0m\u001b[1;33m\u001b[0m\u001b[0m\n\u001b[0;32m      5\u001b[0m   \u001b[0mseed\u001b[0m\u001b[1;33m=\u001b[0m\u001b[0mseed\u001b[0m\u001b[1;33m,\u001b[0m\u001b[1;33m\u001b[0m\u001b[1;33m\u001b[0m\u001b[0m\n",
      "\u001b[1;32mD:\\ANACONDA\\lib\\site-packages\\tensorflow\\python\\keras\\preprocessing\\image_dataset.py\u001b[0m in \u001b[0;36mimage_dataset_from_directory\u001b[1;34m(directory, labels, label_mode, class_names, color_mode, batch_size, image_size, shuffle, seed, validation_split, subset, interpolation, follow_links)\u001b[0m\n\u001b[0;32m    173\u001b[0m   \u001b[1;32mif\u001b[0m \u001b[0mseed\u001b[0m \u001b[1;32mis\u001b[0m \u001b[1;32mNone\u001b[0m\u001b[1;33m:\u001b[0m\u001b[1;33m\u001b[0m\u001b[1;33m\u001b[0m\u001b[0m\n\u001b[0;32m    174\u001b[0m     \u001b[0mseed\u001b[0m \u001b[1;33m=\u001b[0m \u001b[0mnp\u001b[0m\u001b[1;33m.\u001b[0m\u001b[0mrandom\u001b[0m\u001b[1;33m.\u001b[0m\u001b[0mrandint\u001b[0m\u001b[1;33m(\u001b[0m\u001b[1;36m1e6\u001b[0m\u001b[1;33m)\u001b[0m\u001b[1;33m\u001b[0m\u001b[1;33m\u001b[0m\u001b[0m\n\u001b[1;32m--> 175\u001b[1;33m   image_paths, labels, class_names = dataset_utils.index_directory(\n\u001b[0m\u001b[0;32m    176\u001b[0m       \u001b[0mdirectory\u001b[0m\u001b[1;33m,\u001b[0m\u001b[1;33m\u001b[0m\u001b[1;33m\u001b[0m\u001b[0m\n\u001b[0;32m    177\u001b[0m       \u001b[0mlabels\u001b[0m\u001b[1;33m,\u001b[0m\u001b[1;33m\u001b[0m\u001b[1;33m\u001b[0m\u001b[0m\n",
      "\u001b[1;32mD:\\ANACONDA\\lib\\site-packages\\tensorflow\\python\\keras\\preprocessing\\dataset_utils.py\u001b[0m in \u001b[0;36mindex_directory\u001b[1;34m(directory, labels, formats, class_names, shuffle, seed, follow_links)\u001b[0m\n\u001b[0;32m     63\u001b[0m   \"\"\"\n\u001b[0;32m     64\u001b[0m   \u001b[0minferred_class_names\u001b[0m \u001b[1;33m=\u001b[0m \u001b[1;33m[\u001b[0m\u001b[1;33m]\u001b[0m\u001b[1;33m\u001b[0m\u001b[1;33m\u001b[0m\u001b[0m\n\u001b[1;32m---> 65\u001b[1;33m   \u001b[1;32mfor\u001b[0m \u001b[0msubdir\u001b[0m \u001b[1;32min\u001b[0m \u001b[0msorted\u001b[0m\u001b[1;33m(\u001b[0m\u001b[0mos\u001b[0m\u001b[1;33m.\u001b[0m\u001b[0mlistdir\u001b[0m\u001b[1;33m(\u001b[0m\u001b[0mdirectory\u001b[0m\u001b[1;33m)\u001b[0m\u001b[1;33m)\u001b[0m\u001b[1;33m:\u001b[0m\u001b[1;33m\u001b[0m\u001b[1;33m\u001b[0m\u001b[0m\n\u001b[0m\u001b[0;32m     66\u001b[0m     \u001b[1;32mif\u001b[0m \u001b[0mos\u001b[0m\u001b[1;33m.\u001b[0m\u001b[0mpath\u001b[0m\u001b[1;33m.\u001b[0m\u001b[0misdir\u001b[0m\u001b[1;33m(\u001b[0m\u001b[0mos\u001b[0m\u001b[1;33m.\u001b[0m\u001b[0mpath\u001b[0m\u001b[1;33m.\u001b[0m\u001b[0mjoin\u001b[0m\u001b[1;33m(\u001b[0m\u001b[0mdirectory\u001b[0m\u001b[1;33m,\u001b[0m \u001b[0msubdir\u001b[0m\u001b[1;33m)\u001b[0m\u001b[1;33m)\u001b[0m\u001b[1;33m:\u001b[0m\u001b[1;33m\u001b[0m\u001b[1;33m\u001b[0m\u001b[0m\n\u001b[0;32m     67\u001b[0m       \u001b[0minferred_class_names\u001b[0m\u001b[1;33m.\u001b[0m\u001b[0mappend\u001b[0m\u001b[1;33m(\u001b[0m\u001b[0msubdir\u001b[0m\u001b[1;33m)\u001b[0m\u001b[1;33m\u001b[0m\u001b[1;33m\u001b[0m\u001b[0m\n",
      "\u001b[1;31mFileNotFoundError\u001b[0m: [WinError 3] 系统找不到指定的路径。: '/dbfs/FileStore/shared_uploads/wu.wenjun@otis.com/Resized_Data'"
     ]
    }
   ],
   "source": [
    "# read data\n",
    "AUTOTUNE = tf.data.experimental.AUTOTUNE\n",
    "train_ds = tf.keras.preprocessing.image_dataset_from_directory(\n",
    "  DATA_PATH,\n",
    "  seed=seed,\n",
    "  shuffle=True,\n",
    "  validation_split=0.2,\n",
    "  subset='training',\n",
    "  image_size=(img_height, img_width),\n",
    "  batch_size=batch_size)\n",
    "train_ds = train_ds.cache().prefetch(buffer_size=AUTOTUNE)\n",
    "train_ds"
   ]
  },
  {
   "cell_type": "code",
   "execution_count": null,
   "metadata": {
    "ExecuteTime": {
     "end_time": "2021-03-17T09:49:42.525182Z",
     "start_time": "2021-03-17T09:49:13.778Z"
    },
    "application/vnd.databricks.v1+cell": {
     "inputWidgets": {},
     "nuid": "e611f1dc-d413-49c6-8408-e61e99e4bbb1",
     "showTitle": false,
     "title": ""
    }
   },
   "outputs": [],
   "source": [
    "# data augmentation\n",
    "data_augmentation = tf.keras.Sequential([\n",
    "#   layers.experimental.preprocessing.RandomFlip(\"horizontal_and_vertical\"),\n",
    "  layers.experimental.preprocessing.RandomFlip(\"horizontal\"),\n",
    "  layers.experimental.preprocessing.RandomRotation(0.2),\n",
    "  layers.experimental.preprocessing.RandomZoom(0.2),\n",
    "  layers.experimental.preprocessing.RandomContrast(0.2),\n",
    "#   layers.experimental.preprocessing.RandomContrast(0.2),\n",
    "])\n",
    "train_ds = train_ds.map(\n",
    "  lambda x, y: (data_augmentation(x, training=True), y))\n",
    "train_ds"
   ]
  },
  {
   "cell_type": "code",
   "execution_count": null,
   "metadata": {
    "ExecuteTime": {
     "end_time": "2021-03-17T09:49:42.528176Z",
     "start_time": "2021-03-17T09:49:13.780Z"
    },
    "application/vnd.databricks.v1+cell": {
     "inputWidgets": {},
     "nuid": "0fa8519e-a9d6-47ff-9a0d-5be7cbd80edc",
     "showTitle": false,
     "title": ""
    }
   },
   "outputs": [],
   "source": [
    "# data preprocessing\n",
    "def preprocess_input(image):\n",
    "    return (image/127.5) - 1\n",
    "train_ds = train_ds.map(\n",
    "  lambda x, y: (preprocess_input(x), y))\n",
    "train_ds"
   ]
  },
  {
   "cell_type": "code",
   "execution_count": null,
   "metadata": {
    "ExecuteTime": {
     "end_time": "2021-03-17T09:49:42.530169Z",
     "start_time": "2021-03-17T09:49:13.782Z"
    },
    "application/vnd.databricks.v1+cell": {
     "inputWidgets": {},
     "nuid": "536b3733-607e-4cfe-9762-5e393b821ed6",
     "showTitle": false,
     "title": ""
    }
   },
   "outputs": [],
   "source": [
    "# validation\n",
    "val_ds = tf.keras.preprocessing.image_dataset_from_directory(\n",
    "  DATA_PATH,\n",
    "  seed=seed,\n",
    "  shuffle=True,\n",
    "  validation_split=0.2,\n",
    "  subset='validation',\n",
    "  image_size=(img_height, img_width),\n",
    "  batch_size=batch_size)\n",
    "val_ds = val_ds.cache().prefetch(buffer_size=AUTOTUNE)\n",
    "val_ds = val_ds.map(\n",
    "  lambda x, y: (preprocess_input(x), y))\n",
    "val_ds"
   ]
  },
  {
   "cell_type": "code",
   "execution_count": null,
   "metadata": {
    "ExecuteTime": {
     "end_time": "2021-03-17T09:49:42.531166Z",
     "start_time": "2021-03-17T09:49:13.784Z"
    },
    "application/vnd.databricks.v1+cell": {
     "inputWidgets": {},
     "nuid": "3e2e1107-65eb-405e-9ef3-4da7d157f7e2",
     "showTitle": false,
     "title": ""
    }
   },
   "outputs": [],
   "source": [
    "def get_model(lr=0.001, alpha=0.35):\n",
    "    base_model = tf.keras.applications.MobileNetV2(\n",
    "        input_shape=(img_height, img_width, 3),\n",
    "        include_top=False, weights='imagenet', alpha=alpha)\n",
    "    base_model.trainable = True\n",
    "    # Add a new classifier layer for transfer learning\n",
    "    global_average_layer = tf.keras.layers.GlobalAveragePooling2D()\n",
    "    dropout = tf.keras.layers.Dropout(0.2)\n",
    "    prediction_layer = tf.keras.layers.Dense(num_classes, activation='softmax')\n",
    "#     prediction_layer = tf.keras.layers.Dense(1, activation='softmax')\n",
    "  \n",
    "    model = tf.keras.Sequential([\n",
    "      base_model,\n",
    "      global_average_layer,\n",
    "      dropout,\n",
    "      prediction_layer\n",
    "    ])\n",
    "    return model\n",
    "  \n",
    "def get_compiled_model(alpha=0.35, lr=0.001):\n",
    "    model = get_model(lr, alpha)\n",
    "#     lr = learning_rate = CustomSchedule(2)\n",
    "    model.compile(\n",
    "                optimizer=tf.keras.optimizers.SGD(learning_rate=lr, momentum=0.9),\n",
    "#                 optimizer=tf.keras.optimizers.SGD(learning_rate=0.01),\n",
    "                loss=tf.keras.losses.SparseCategoricalCrossentropy(from_logits=True),\n",
    "                metrics=['accuracy'])\n",
    "    return model"
   ]
  },
  {
   "cell_type": "code",
   "execution_count": 10,
   "metadata": {
    "ExecuteTime": {
     "end_time": "2021-03-17T09:50:44.466765Z",
     "start_time": "2021-03-17T09:50:44.459777Z"
    },
    "application/vnd.databricks.v1+cell": {
     "inputWidgets": {},
     "nuid": "800542fe-584c-4da0-a653-b54d77984fb4",
     "showTitle": false,
     "title": ""
    }
   },
   "outputs": [
    {
     "ename": "IndentationError",
     "evalue": "unexpected indent (<ipython-input-10-814778a14e66>, line 21)",
     "output_type": "error",
     "traceback": [
      "\u001b[1;36m  File \u001b[1;32m\"<ipython-input-10-814778a14e66>\"\u001b[1;36m, line \u001b[1;32m21\u001b[0m\n\u001b[1;33m    hist = model.fit(train_ds,\u001b[0m\n\u001b[1;37m    ^\u001b[0m\n\u001b[1;31mIndentationError\u001b[0m\u001b[1;31m:\u001b[0m unexpected indent\n"
     ]
    }
   ],
   "source": [
    "def train_and_evaluate(train_ds, val_ds, lr=0.001):\n",
    "  model = get_compiled_model()\n",
    "  print(model.summary())\n",
    "  checkpoint_path = \"/dbfs/FileStore/shared_uploads/wu.wenjun@otis.com/Model/version-{epoch:04d}.ckpt\"\n",
    "  checkpoint_dir = os.path.dirname(checkpoint_path)\n",
    "  model.save_weights(checkpoint_path.format(epoch=0))\n",
    "   # create a callback to save model\n",
    "  cp_callback = tf.keras.callbacks.ModelCheckpoint(filepath=checkpoint_path,\n",
    "                                                     save_weights_only=True,\n",
    "                                                     verbose=1)\n",
    "\n",
    "# early stop\n",
    "  early_stop = tf.keras.callbacks.EarlyStopping(monitor='accuracy', patience=10)\n",
    "\n",
    "# board_callbacks\n",
    "  board_callback = tf.keras.callbacks.TensorBoard(\n",
    "      log_dir=log_dir,\n",
    "      histogram_freq=0,  # How often to log histogram visualizations\n",
    "      embeddings_freq=0,  # How often to log embedding visualizations\n",
    "      update_freq=\"epoch\")  # How often to write logs (default: once per epoch)\n",
    "    hist = model.fit(train_ds, \n",
    "  #                      steps_per_epoch=steps_per_epoch,\n",
    "               epochs=NUM_EPOCHS,\n",
    "               validation_data=val_ds,\n",
    "  #                      class_weight={0:0.3, 1:0.7},\n",
    "  #                      validation_steps=validation_steps,\n",
    "               verbose=2,\n",
    "               callbacks=[\n",
    "                 cp_callback, \n",
    "                 board_callback, \n",
    "                 early_stop,\n",
    "  #                        CustomLearningRateScheduler(lr_schedule),\n",
    "               ])\n",
    "    return hist , model"
   ]
  },
  {
   "cell_type": "code",
   "execution_count": null,
   "metadata": {
    "ExecuteTime": {
     "end_time": "2021-03-17T09:49:42.535155Z",
     "start_time": "2021-03-17T09:49:13.789Z"
    },
    "application/vnd.databricks.v1+cell": {
     "inputWidgets": {},
     "nuid": "ba07b28d-9e99-47b6-8dbd-443a8cb20c36",
     "showTitle": false,
     "title": ""
    }
   },
   "outputs": [],
   "source": [
    "tf.debugging.set_log_device_placement(True)\n",
    "strategy = tf.distribute.MirroredStrategy()\n",
    "with strategy.scope():\n",
    "  hist,model = train_and_evaluate(train_ds, val_ds)"
   ]
  },
  {
   "cell_type": "code",
   "execution_count": null,
   "metadata": {
    "ExecuteTime": {
     "end_time": "2021-03-17T09:49:42.537150Z",
     "start_time": "2021-03-17T09:49:13.792Z"
    },
    "application/vnd.databricks.v1+cell": {
     "inputWidgets": {},
     "nuid": "cd47d687-36ac-44a0-b617-134f078f6ba9",
     "showTitle": false,
     "title": ""
    }
   },
   "outputs": [],
   "source": [
    "def load_model(checkpoint_path):\n",
    "  model = get_compiled_model()\n",
    "  # load weights\n",
    "  model.load_weights(checkpoint_path)\n",
    "  return model\n",
    "  \n",
    "def predict(img_path, model):\n",
    "  test_ds = tf.keras.preprocessing.image_dataset_from_directory(\n",
    "    img_path,\n",
    "#     seed=seed,\n",
    "    shuffle=False,\n",
    "#     validation_split=0.2,\n",
    "#     subset='validation',\n",
    "    image_size=(img_height, img_width),\n",
    "    batch_size=batch_size)\n",
    "\n",
    "#   test_ds_2 = test_ds.map(\n",
    "#   lambda x, y: (resize(x), y))\n",
    "  test_ds_2 = test_ds.map(\n",
    "    lambda x, y: (preprocess_input(x), y))\n",
    "  \n",
    "#     with open(CLASS_PEOPLE + '.pkl','rb') as f:\n",
    "#         class_to_index = pickle.load(f)\n",
    "\n",
    "  result = model.predict(test_ds_2, batch_size=batch_size)\n",
    "  scores = []\n",
    "  for i in range(len(result)):\n",
    "      scores.append(result[i][-1])\n",
    "  print(scores)\n",
    "  return result, test_ds, scores\n",
    "#   for item in result:\n",
    "#       print(np.argmax(item))"
   ]
  },
  {
   "cell_type": "code",
   "execution_count": null,
   "metadata": {
    "ExecuteTime": {
     "end_time": "2021-03-17T09:49:42.538147Z",
     "start_time": "2021-03-17T09:49:13.794Z"
    },
    "application/vnd.databricks.v1+cell": {
     "inputWidgets": {},
     "nuid": "ee305fff-9e58-4022-a9e8-806fda5a2622",
     "showTitle": false,
     "title": ""
    }
   },
   "outputs": [],
   "source": [
    "base_path = '/dbfs/FileStore/shared_uploads/wu.wenjun@otis.com/Model'\n",
    "\n",
    "img_path = DATA_PATH\n",
    "# img_path = '/dbfs/FileStore/shared_uploads/lilian.lu@otis.com/images/11_26'\n",
    "model_path = base_path+\"training/version-0066.ckpt\"\n",
    "# CLASS_PEOPLE = 'checkpoint/people_class'\n",
    "\n",
    "model = load_model(model_path)\n",
    "result, test_ds, scores = predict(img_path, model)"
   ]
  }
 ],
 "metadata": {
  "application/vnd.databricks.v1+notebook": {
   "dashboards": [],
   "language": "python",
   "notebookName": "model_code_0317",
   "notebookOrigID": 658058099033824,
   "widgets": {}
  },
  "kernelspec": {
   "display_name": "Python 3",
   "language": "python",
   "name": "python3"
  },
  "language_info": {
   "codemirror_mode": {
    "name": "ipython",
    "version": 3
   },
   "file_extension": ".py",
   "mimetype": "text/x-python",
   "name": "python",
   "nbconvert_exporter": "python",
   "pygments_lexer": "ipython3",
   "version": "3.8.3"
  }
 },
 "nbformat": 4,
 "nbformat_minor": 1
}
