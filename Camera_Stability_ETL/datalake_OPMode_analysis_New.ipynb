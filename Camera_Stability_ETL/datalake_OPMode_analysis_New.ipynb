{
 "cells": [
  {
   "cell_type": "code",
   "execution_count": 1,
   "metadata": {
    "ExecuteTime": {
     "end_time": "2021-05-27T08:53:51.283725Z",
     "start_time": "2021-05-27T08:53:48.461751Z"
    },
    "application/vnd.databricks.v1+cell": {
     "inputWidgets": {},
     "nuid": "2328c9a0-070c-497d-bd1a-69ea52084c25",
     "showTitle": false,
     "title": ""
    }
   },
   "outputs": [
    {
     "name": "stderr",
     "output_type": "stream",
     "text": [
      "ERROR:root:Internal Python error in the inspect module.\n",
      "Below is the traceback from this internal error.\n",
      "\n",
      "\n",
      "KeyboardInterrupt\n",
      "\n"
     ]
    }
   ],
   "source": [
    "import pandas as pd\n",
    "import datetime\n",
    "from datetime import timedelta\n",
    "import time\n",
    "import json\n",
    "import pytz\n",
    "\n",
    "from azure.servicebus import ServiceBusClient, ServiceBusMessage\n",
    "from azure.cosmos import CosmosClient\n",
    "import azure.cosmos.cosmos_client as cosmos_client\n",
    "\n",
    "from pyspark.sql.types import StructType, ArrayType  \n",
    "from pyspark.sql.functions import col, when\n",
    "from delta.tables import *\n",
    "from pyspark.sql.functions import *\n",
    "import numpy as np\n",
    "starttime = time.time()\n",
    "\n"
   ]
  },
  {
   "cell_type": "code",
   "execution_count": null,
   "metadata": {
    "ExecuteTime": {
     "end_time": "2021-05-27T08:53:51.286717Z",
     "start_time": "2021-05-27T08:53:48.440Z"
    },
    "application/vnd.databricks.v1+cell": {
     "inputWidgets": {},
     "nuid": "569ac82b-5082-4a62-bd22-f03e8e05663f",
     "showTitle": false,
     "title": ""
    }
   },
   "outputs": [],
   "source": [
    "Abnormal = [\"NAV\", \"DTC\", \"DTO\",\"BKF\",\"BSS\",\"COR\",'DAR','DBF','DLF','DLM','EPC','EPR','EPW','EQR','ESB','FLD','HAD','INI','LPS','LRN','NAV','OOS','RCY','REC','STP','UFS','PFO']"
   ]
  },
  {
   "cell_type": "code",
   "execution_count": null,
   "metadata": {
    "ExecuteTime": {
     "end_time": "2021-05-27T08:53:51.288712Z",
     "start_time": "2021-05-27T08:53:48.443Z"
    },
    "application/vnd.databricks.v1+cell": {
     "inputWidgets": {},
     "nuid": "e4787e20-5ae0-4557-8d76-e64a7fdf4041",
     "showTitle": false,
     "title": ""
    }
   },
   "outputs": [],
   "source": [
    "hour_list = [\"00\",\"01\",\"02\",\"03\",\"04\",\"05\",\"06\",\"07\",\"08\",\"09\",\"10\",\"11\",\"12\",\"13\",\"14\",\"15\",\"16\",\"17\",\"18\",\"19\",\"20\",\"21\",\"22\",\"23\"]\n",
    "date = datetime.datetime.now(pytz.timezone('Asia/Shanghai')) - timedelta(days=1)\n",
    "year = str(date.year).zfill(4)\n",
    "month = str(date.month).zfill(2)\n",
    "day = str(date.day).zfill(2)\n",
    "print(date)"
   ]
  },
  {
   "cell_type": "code",
   "execution_count": null,
   "metadata": {
    "ExecuteTime": {
     "end_time": "2021-05-27T08:53:51.290713Z",
     "start_time": "2021-05-27T08:53:48.446Z"
    },
    "application/vnd.databricks.v1+cell": {
     "inputWidgets": {},
     "nuid": "d1da303e-cb86-4aca-b60e-e68ab1cffd8b",
     "showTitle": false,
     "title": ""
    }
   },
   "outputs": [],
   "source": [
    "# year ,month , day = '2021' , '05' , '11'"
   ]
  },
  {
   "cell_type": "code",
   "execution_count": null,
   "metadata": {
    "ExecuteTime": {
     "end_time": "2021-05-27T08:53:51.293698Z",
     "start_time": "2021-05-27T08:53:48.448Z"
    },
    "application/vnd.databricks.v1+cell": {
     "inputWidgets": {},
     "nuid": "7e3bfa39-0bff-4a89-bc6d-d6c55f12704b",
     "showTitle": false,
     "title": ""
    }
   },
   "outputs": [],
   "source": [
    "file_location = f\"/{year}/{month}/{day}/\"\n",
    "whole_df = pd.DataFrame()\n",
    "for i in hour_list:\n",
    "  df = spark.read.parquet(file_location + i)\n",
    "  print(file_location + i)\n",
    "  df_ = df.drop('Version','UnitType','Country_Code','GatewayID','SubID','SIMCardID','MotionSensorLink','CSQ','BatteryVoltage','BackupStatus','LiftState','UnitPowerOff','Floor','Direction','DoorZone','RearDoorStatus','CountCallUp','CountCallDown','Speed','Load','CarDoorLock','FloorDoorLock','SafetyCircuitStatus','DoorProtectorStatus','PassengerExists','DetailDataPerSecond','BlinkMessage')\n",
    "  df_ = df_.toPandas()\n",
    "  whole_df = whole_df.append(df_)  \n",
    "  whole_df.sort_values('ReportTime',inplace=True)\n",
    "df = whole_df\n",
    "whole_df"
   ]
  },
  {
   "cell_type": "code",
   "execution_count": null,
   "metadata": {
    "ExecuteTime": {
     "end_time": "2021-05-27T08:53:51.295703Z",
     "start_time": "2021-05-27T08:53:48.451Z"
    },
    "application/vnd.databricks.v1+cell": {
     "inputWidgets": {},
     "nuid": "02b0f87f-f333-4f98-b3cd-0096fb1d8ec7",
     "showTitle": false,
     "title": ""
    }
   },
   "outputs": [],
   "source": [
    "abnormal_df = df[df['UnitNumber'].isin(df[df['OPMode'].isin(Abnormal)]['UnitNumber'].drop_duplicates())]\n",
    "abnormal_df['OPMode_shift'] = abnormal_df.groupby('UnitNumber')['OPMode'].shift(1)\n",
    "print(len(abnormal_df['UnitNumber'].drop_duplicates()))\n",
    "abnormal_df"
   ]
  },
  {
   "cell_type": "code",
   "execution_count": null,
   "metadata": {
    "ExecuteTime": {
     "end_time": "2021-05-27T08:53:51.297688Z",
     "start_time": "2021-05-27T08:53:48.455Z"
    },
    "application/vnd.databricks.v1+cell": {
     "inputWidgets": {},
     "nuid": "df659b8f-8135-4c38-952f-25f1dfcf32ef",
     "showTitle": false,
     "title": ""
    }
   },
   "outputs": [],
   "source": [
    "for num , elevator in enumerate(abnormal_df['UnitNumber'].drop_duplicates()):\n",
    "  elevator_df = abnormal_df[abnormal_df['UnitNumber'] == elevator]\n",
    "  elevator_df = elevator_df.reset_index(drop = True)\n",
    "  \n",
    "  \n",
    "  start = abnormal_df[(abnormal_df['OPMode'].isin(Abnormal) )& (~abnormal_df['OPMode_shift'].isin(Abnormal) )& (abnormal_df['UnitNumber'] == elevator )]\n",
    "  start = start['ReportTime'].to_list()\n",
    "  print('start_list_len: ' + str(len(start)))\n",
    "  end = abnormal_df[(~abnormal_df['OPMode'].isin(Abnormal) )& (abnormal_df['OPMode_shift'].isin(Abnormal) )& (abnormal_df['UnitNumber'] == elevator )]\n",
    "  end = end['ReportTime'].to_list()\n",
    "  print('end_list_len: ' + str(len(end)))\n",
    "  \n",
    "  \n",
    "\n",
    "  var = []\n",
    "  for start_time in start:\n",
    "    for end_time_index in range(len(end)):\n",
    "      if end[end_time_index] > start_time:\n",
    "        value = end[end_time_index] - start_time\n",
    "        var.append(value)\n",
    "        \n",
    "        # count the Open Status\n",
    "        if value > 60:\n",
    "          final = []\n",
    "          start_index = elevator_df[elevator_df['ReportTime'] == start_time].index[0]\n",
    "          status = elevator_df.iloc[start_index:start_index + 3,:]['FrontDoorStatus'].to_list()\n",
    "          final_status = ''\n",
    "          for i in set(status):\n",
    "            final_status += str(i) + '_'\n",
    "          print(elevator , final_status)\n",
    "          final = pd.DataFrame([elevator,final_status]).T\n",
    "          final.columns = ['elevator' , 'FrontDoorStatus']\n",
    "          # save\n",
    "          result2 = pd.read_csv('/dbfs/FileStore/shared_uploads/lilian.lu@otis.com/OPMode_FrontDoorStatus.csv')\n",
    "          result2 = pd.concat([result2,final],axis=0).set_index('elevator')\n",
    "          result2.to_csv('/dbfs/FileStore/shared_uploads/lilian.lu@otis.com/OPMode_FrontDoorStatus.csv')\n",
    "          \n",
    "          \n",
    "        end = end[end_time_index:]\n",
    "        break\n",
    "      else:\n",
    "        continue\n",
    "  print('完成运行第' + str(num) + \"台电梯的数据\")\n",
    "  \n",
    "#   diction = {'0-22':0,'22-42':0,'42-62':0,'62-120':0,'120以上':0}\n",
    "#   for value in var:\n",
    "#     if value <= 22:\n",
    "#       diction['0-22'] += 1\n",
    "#     elif 22 < value <= 42:\n",
    "#       diction['22-42'] += 1\n",
    "#     elif 42 < value <= 62:\n",
    "#       diction['42-62'] += 1\n",
    "#     elif 62 < value <= 120:\n",
    "#       diction['62-120'] += 1\n",
    "#     elif value > 120:\n",
    "#       diction['120以上'] += 1\n",
    "      \n",
    "  diction = {'0-30':0,'30-60':0,'60以上':0}\n",
    "  for value in var:\n",
    "    if value <= 30:\n",
    "      diction['0-30'] += 1\n",
    "    elif 30 < value <= 60:\n",
    "      diction['30-60'] += 1\n",
    "    elif value > 60:\n",
    "      diction['60以上'] += 1\n",
    "  diction = pd.DataFrame(diction,index=[elevator]).reset_index()\n",
    "  diction.columns = ['elevator' , '0-30' , '30-60' , '60以上']\n",
    "\n",
    "  \n",
    "  # save\n",
    "  result = pd.read_csv('om/OPMode.csv')\n",
    "  result = pd.concat([result,diction],axis=0).set_index('elevator')\n",
    "  result.to_csv('/com/OPMode.csv')\n",
    "  \n",
    "  \n",
    "result"
   ]
  },
  {
   "cell_type": "code",
   "execution_count": null,
   "metadata": {
    "ExecuteTime": {
     "end_time": "2021-05-27T08:53:51.299682Z",
     "start_time": "2021-05-27T08:53:48.457Z"
    },
    "application/vnd.databricks.v1+cell": {
     "inputWidgets": {},
     "nuid": "9a0d5890-99e5-491a-ab3f-45b892f44655",
     "showTitle": false,
     "title": ""
    }
   },
   "outputs": [],
   "source": [
    "result.loc['Row_sum'] = result.apply(lambda x: x.sum())\n",
    "final = pd.DataFrame(result.loc['Row_sum']).T\n",
    "final.insert(0,'Time','2020/05/11')\n",
    "final.set_index('Time',inplace=True)\n",
    "final"
   ]
  },
  {
   "cell_type": "code",
   "execution_count": null,
   "metadata": {
    "ExecuteTime": {
     "end_time": "2021-05-27T08:53:51.301677Z",
     "start_time": "2021-05-27T08:53:48.459Z"
    },
    "application/vnd.databricks.v1+cell": {
     "inputWidgets": {},
     "nuid": "53ad2d5c-f398-434e-840a-35d967e378cf",
     "showTitle": false,
     "title": ""
    }
   },
   "outputs": [],
   "source": [
    "final.div(final.sum(axis=1),axis=0)"
   ]
  },
  {
   "cell_type": "code",
   "execution_count": null,
   "metadata": {
    "ExecuteTime": {
     "end_time": "2021-05-27T08:53:51.303672Z",
     "start_time": "2021-05-27T08:53:48.462Z"
    },
    "application/vnd.databricks.v1+cell": {
     "inputWidgets": {},
     "nuid": "a444355c-0401-4c3e-9934-7aaf4c733d78",
     "showTitle": false,
     "title": ""
    }
   },
   "outputs": [],
   "source": [
    "result.to_csv('/dbfs/FileStore/shared_uploads/lilian.lu@otis.com/result2.csv')"
   ]
  },
  {
   "cell_type": "code",
   "execution_count": null,
   "metadata": {
    "ExecuteTime": {
     "end_time": "2021-05-27T08:53:51.308659Z",
     "start_time": "2021-05-27T08:53:48.465Z"
    },
    "application/vnd.databricks.v1+cell": {
     "inputWidgets": {},
     "nuid": "e8574f1d-1987-4af3-bc45-62885b9359c0",
     "showTitle": false,
     "title": ""
    }
   },
   "outputs": [],
   "source": [
    "abnormal_df[(abnormal_df['OPMode'] == 'NAV' )& (abnormal_df['OPMode_shift'] != 'NAV' )]  #正常到不正常\n",
    "\n",
    "abnormal_df[(abnormal_df['OPMode'] != 'NAV' )& (abnormal_df['OPMode_shift'] == 'NAV' )]"
   ]
  },
  {
   "cell_type": "code",
   "execution_count": null,
   "metadata": {
    "ExecuteTime": {
     "end_time": "2021-05-27T08:53:51.311650Z",
     "start_time": "2021-05-27T08:53:48.467Z"
    },
    "application/vnd.databricks.v1+cell": {
     "inputWidgets": {},
     "nuid": "9e49487e-5b5a-48a2-b74c-79e05dcee355",
     "showTitle": false,
     "title": ""
    }
   },
   "outputs": [],
   "source": [
    "Abnormal = [\"NAV\", \"DTC\", \"DTO\",\"BKF\",\"BSS\",\"COR\",'DAR','DBF','DLF','DLM','EPC','EPR','EPW','EQR','ESB','FLD','HAD','INI','LPS','LRN','NAV','OOS','RCY','REC','STP','UFS','PFO']"
   ]
  }
 ],
 "metadata": {
  "application/vnd.databricks.v1+notebook": {
   "dashboards": [],
   "language": "python",
   "notebookMetadata": {
    "pythonIndentUnit": 2
   },
   "notebookName": "OPMode_analysis",
   "notebookOrigID": 4352905096491326,
   "widgets": {}
  },
  "kernelspec": {
   "display_name": "Python 3",
   "language": "python",
   "name": "python3"
  },
  "language_info": {
   "codemirror_mode": {
    "name": "ipython",
    "version": 3
   },
   "file_extension": ".py",
   "mimetype": "text/x-python",
   "name": "python",
   "nbconvert_exporter": "python",
   "pygments_lexer": "ipython3",
   "version": "3.8.3"
  }
 },
 "nbformat": 4,
 "nbformat_minor": 1
}
