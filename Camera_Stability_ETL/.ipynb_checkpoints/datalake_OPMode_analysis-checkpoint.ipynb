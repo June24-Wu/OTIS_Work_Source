{
 "cells": [
  {
   "cell_type": "code",
   "execution_count": 1,
   "metadata": {
    "ExecuteTime": {
     "end_time": "2021-05-12T03:01:45.109987Z",
     "start_time": "2021-05-12T03:01:44.371469Z"
    },
    "application/vnd.databricks.v1+cell": {
     "inputWidgets": {},
     "nuid": "2328c9a0-070c-497d-bd1a-69ea52084c25",
     "showTitle": false,
     "title": ""
    }
   },
   "outputs": [
    {
     "name": "stderr",
     "output_type": "stream",
     "text": [
      "ERROR:root:Internal Python error in the inspect module.\n",
      "Below is the traceback from this internal error.\n",
      "\n"
     ]
    },
    {
     "name": "stdout",
     "output_type": "stream",
     "text": [
      "Traceback (most recent call last):\n",
      "  File \"D:\\ANACONDA\\lib\\site-packages\\IPython\\core\\interactiveshell.py\", line 3343, in run_code\n",
      "    exec(code_obj, self.user_global_ns, self.user_ns)\n",
      "  File \"<ipython-input-1-15b882de74f4>\", line 8, in <module>\n",
      "    from azure.servicebus import ServiceBusClient, ServiceBusMessage\n",
      "ModuleNotFoundError: No module named 'azure.servicebus'\n",
      "\n",
      "During handling of the above exception, another exception occurred:\n",
      "\n",
      "Traceback (most recent call last):\n",
      "  File \"D:\\ANACONDA\\lib\\site-packages\\IPython\\core\\interactiveshell.py\", line 2044, in showtraceback\n",
      "    stb = value._render_traceback_()\n",
      "AttributeError: 'ModuleNotFoundError' object has no attribute '_render_traceback_'\n",
      "\n",
      "During handling of the above exception, another exception occurred:\n",
      "\n",
      "Traceback (most recent call last):\n",
      "  File \"D:\\ANACONDA\\lib\\site-packages\\IPython\\core\\ultratb.py\", line 1169, in get_records\n",
      "    return _fixed_getinnerframes(etb, number_of_lines_of_context, tb_offset)\n",
      "  File \"D:\\ANACONDA\\lib\\site-packages\\IPython\\core\\ultratb.py\", line 316, in wrapped\n",
      "    return f(*args, **kwargs)\n",
      "  File \"D:\\ANACONDA\\lib\\site-packages\\IPython\\core\\ultratb.py\", line 350, in _fixed_getinnerframes\n",
      "    records = fix_frame_records_filenames(inspect.getinnerframes(etb, context))\n",
      "  File \"D:\\ANACONDA\\lib\\inspect.py\", line 1503, in getinnerframes\n",
      "    frameinfo = (tb.tb_frame,) + getframeinfo(tb, context)\n",
      "  File \"D:\\ANACONDA\\lib\\inspect.py\", line 1461, in getframeinfo\n",
      "    filename = getsourcefile(frame) or getfile(frame)\n",
      "  File \"D:\\ANACONDA\\lib\\inspect.py\", line 708, in getsourcefile\n",
      "    if getattr(getmodule(object, filename), '__loader__', None) is not None:\n",
      "  File \"D:\\ANACONDA\\lib\\inspect.py\", line 751, in getmodule\n",
      "    f = getabsfile(module)\n",
      "  File \"D:\\ANACONDA\\lib\\inspect.py\", line 720, in getabsfile\n",
      "    _filename = getsourcefile(object) or getfile(object)\n",
      "  File \"D:\\ANACONDA\\lib\\inspect.py\", line 705, in getsourcefile\n",
      "    if os.path.exists(filename):\n",
      "  File \"D:\\ANACONDA\\lib\\genericpath.py\", line 19, in exists\n",
      "    os.stat(path)\n",
      "KeyboardInterrupt\n"
     ]
    },
    {
     "ename": "TypeError",
     "evalue": "object of type 'NoneType' has no len()",
     "output_type": "error",
     "traceback": [
      "\u001b[1;31m---------------------------------------------------------------------------\u001b[0m",
      "\u001b[1;31mModuleNotFoundError\u001b[0m                       Traceback (most recent call last)",
      "    \u001b[1;31m[... skipping hidden 1 frame]\u001b[0m\n",
      "\u001b[1;32m<ipython-input-1-15b882de74f4>\u001b[0m in \u001b[0;36m<module>\u001b[1;34m\u001b[0m\n\u001b[0;32m      7\u001b[0m \u001b[1;33m\u001b[0m\u001b[0m\n\u001b[1;32m----> 8\u001b[1;33m \u001b[1;32mfrom\u001b[0m \u001b[0mazure\u001b[0m\u001b[1;33m.\u001b[0m\u001b[0mservicebus\u001b[0m \u001b[1;32mimport\u001b[0m \u001b[0mServiceBusClient\u001b[0m\u001b[1;33m,\u001b[0m \u001b[0mServiceBusMessage\u001b[0m\u001b[1;33m\u001b[0m\u001b[1;33m\u001b[0m\u001b[0m\n\u001b[0m\u001b[0;32m      9\u001b[0m \u001b[1;32mfrom\u001b[0m \u001b[0mazure\u001b[0m\u001b[1;33m.\u001b[0m\u001b[0mcosmos\u001b[0m \u001b[1;32mimport\u001b[0m \u001b[0mCosmosClient\u001b[0m\u001b[1;33m\u001b[0m\u001b[1;33m\u001b[0m\u001b[0m\n",
      "\u001b[1;31mModuleNotFoundError\u001b[0m: No module named 'azure.servicebus'",
      "\nDuring handling of the above exception, another exception occurred:\n",
      "\u001b[1;31mAttributeError\u001b[0m                            Traceback (most recent call last)",
      "\u001b[1;32mD:\\ANACONDA\\lib\\site-packages\\IPython\\core\\interactiveshell.py\u001b[0m in \u001b[0;36mshowtraceback\u001b[1;34m(self, exc_tuple, filename, tb_offset, exception_only, running_compiled_code)\u001b[0m\n\u001b[0;32m   2043\u001b[0m                         \u001b[1;31m# in the engines. This should return a list of strings.\u001b[0m\u001b[1;33m\u001b[0m\u001b[1;33m\u001b[0m\u001b[1;33m\u001b[0m\u001b[0m\n\u001b[1;32m-> 2044\u001b[1;33m                         \u001b[0mstb\u001b[0m \u001b[1;33m=\u001b[0m \u001b[0mvalue\u001b[0m\u001b[1;33m.\u001b[0m\u001b[0m_render_traceback_\u001b[0m\u001b[1;33m(\u001b[0m\u001b[1;33m)\u001b[0m\u001b[1;33m\u001b[0m\u001b[1;33m\u001b[0m\u001b[0m\n\u001b[0m\u001b[0;32m   2045\u001b[0m                     \u001b[1;32mexcept\u001b[0m \u001b[0mException\u001b[0m\u001b[1;33m:\u001b[0m\u001b[1;33m\u001b[0m\u001b[1;33m\u001b[0m\u001b[0m\n",
      "\u001b[1;31mAttributeError\u001b[0m: 'ModuleNotFoundError' object has no attribute '_render_traceback_'",
      "\nDuring handling of the above exception, another exception occurred:\n",
      "\u001b[1;31mTypeError\u001b[0m                                 Traceback (most recent call last)",
      "    \u001b[1;31m[... skipping hidden 1 frame]\u001b[0m\n",
      "\u001b[1;32mD:\\ANACONDA\\lib\\site-packages\\IPython\\core\\interactiveshell.py\u001b[0m in \u001b[0;36mshowtraceback\u001b[1;34m(self, exc_tuple, filename, tb_offset, exception_only, running_compiled_code)\u001b[0m\n\u001b[0;32m   2044\u001b[0m                         \u001b[0mstb\u001b[0m \u001b[1;33m=\u001b[0m \u001b[0mvalue\u001b[0m\u001b[1;33m.\u001b[0m\u001b[0m_render_traceback_\u001b[0m\u001b[1;33m(\u001b[0m\u001b[1;33m)\u001b[0m\u001b[1;33m\u001b[0m\u001b[1;33m\u001b[0m\u001b[0m\n\u001b[0;32m   2045\u001b[0m                     \u001b[1;32mexcept\u001b[0m \u001b[0mException\u001b[0m\u001b[1;33m:\u001b[0m\u001b[1;33m\u001b[0m\u001b[1;33m\u001b[0m\u001b[0m\n\u001b[1;32m-> 2046\u001b[1;33m                         stb = self.InteractiveTB.structured_traceback(etype,\n\u001b[0m\u001b[0;32m   2047\u001b[0m                                             value, tb, tb_offset=tb_offset)\n\u001b[0;32m   2048\u001b[0m \u001b[1;33m\u001b[0m\u001b[0m\n",
      "\u001b[1;32mD:\\ANACONDA\\lib\\site-packages\\IPython\\core\\ultratb.py\u001b[0m in \u001b[0;36mstructured_traceback\u001b[1;34m(self, etype, value, tb, tb_offset, number_of_lines_of_context)\u001b[0m\n\u001b[0;32m   1433\u001b[0m         \u001b[1;32melse\u001b[0m\u001b[1;33m:\u001b[0m\u001b[1;33m\u001b[0m\u001b[1;33m\u001b[0m\u001b[0m\n\u001b[0;32m   1434\u001b[0m             \u001b[0mself\u001b[0m\u001b[1;33m.\u001b[0m\u001b[0mtb\u001b[0m \u001b[1;33m=\u001b[0m \u001b[0mtb\u001b[0m\u001b[1;33m\u001b[0m\u001b[1;33m\u001b[0m\u001b[0m\n\u001b[1;32m-> 1435\u001b[1;33m         return FormattedTB.structured_traceback(\n\u001b[0m\u001b[0;32m   1436\u001b[0m             self, etype, value, tb, tb_offset, number_of_lines_of_context)\n\u001b[0;32m   1437\u001b[0m \u001b[1;33m\u001b[0m\u001b[0m\n",
      "\u001b[1;32mD:\\ANACONDA\\lib\\site-packages\\IPython\\core\\ultratb.py\u001b[0m in \u001b[0;36mstructured_traceback\u001b[1;34m(self, etype, value, tb, tb_offset, number_of_lines_of_context)\u001b[0m\n\u001b[0;32m   1333\u001b[0m         \u001b[1;32mif\u001b[0m \u001b[0mmode\u001b[0m \u001b[1;32min\u001b[0m \u001b[0mself\u001b[0m\u001b[1;33m.\u001b[0m\u001b[0mverbose_modes\u001b[0m\u001b[1;33m:\u001b[0m\u001b[1;33m\u001b[0m\u001b[1;33m\u001b[0m\u001b[0m\n\u001b[0;32m   1334\u001b[0m             \u001b[1;31m# Verbose modes need a full traceback\u001b[0m\u001b[1;33m\u001b[0m\u001b[1;33m\u001b[0m\u001b[1;33m\u001b[0m\u001b[0m\n\u001b[1;32m-> 1335\u001b[1;33m             return VerboseTB.structured_traceback(\n\u001b[0m\u001b[0;32m   1336\u001b[0m                 \u001b[0mself\u001b[0m\u001b[1;33m,\u001b[0m \u001b[0metype\u001b[0m\u001b[1;33m,\u001b[0m \u001b[0mvalue\u001b[0m\u001b[1;33m,\u001b[0m \u001b[0mtb\u001b[0m\u001b[1;33m,\u001b[0m \u001b[0mtb_offset\u001b[0m\u001b[1;33m,\u001b[0m \u001b[0mnumber_of_lines_of_context\u001b[0m\u001b[1;33m\u001b[0m\u001b[1;33m\u001b[0m\u001b[0m\n\u001b[0;32m   1337\u001b[0m             )\n",
      "\u001b[1;32mD:\\ANACONDA\\lib\\site-packages\\IPython\\core\\ultratb.py\u001b[0m in \u001b[0;36mstructured_traceback\u001b[1;34m(self, etype, evalue, etb, tb_offset, number_of_lines_of_context)\u001b[0m\n\u001b[0;32m   1190\u001b[0m         \u001b[1;34m\"\"\"Return a nice text document describing the traceback.\"\"\"\u001b[0m\u001b[1;33m\u001b[0m\u001b[1;33m\u001b[0m\u001b[0m\n\u001b[0;32m   1191\u001b[0m \u001b[1;33m\u001b[0m\u001b[0m\n\u001b[1;32m-> 1192\u001b[1;33m         formatted_exception = self.format_exception_as_a_whole(etype, evalue, etb, number_of_lines_of_context,\n\u001b[0m\u001b[0;32m   1193\u001b[0m                                                                tb_offset)\n\u001b[0;32m   1194\u001b[0m \u001b[1;33m\u001b[0m\u001b[0m\n",
      "\u001b[1;32mD:\\ANACONDA\\lib\\site-packages\\IPython\\core\\ultratb.py\u001b[0m in \u001b[0;36mformat_exception_as_a_whole\u001b[1;34m(self, etype, evalue, etb, number_of_lines_of_context, tb_offset)\u001b[0m\n\u001b[0;32m   1148\u001b[0m \u001b[1;33m\u001b[0m\u001b[0m\n\u001b[0;32m   1149\u001b[0m \u001b[1;33m\u001b[0m\u001b[0m\n\u001b[1;32m-> 1150\u001b[1;33m         \u001b[0mlast_unique\u001b[0m\u001b[1;33m,\u001b[0m \u001b[0mrecursion_repeat\u001b[0m \u001b[1;33m=\u001b[0m \u001b[0mfind_recursion\u001b[0m\u001b[1;33m(\u001b[0m\u001b[0morig_etype\u001b[0m\u001b[1;33m,\u001b[0m \u001b[0mevalue\u001b[0m\u001b[1;33m,\u001b[0m \u001b[0mrecords\u001b[0m\u001b[1;33m)\u001b[0m\u001b[1;33m\u001b[0m\u001b[1;33m\u001b[0m\u001b[0m\n\u001b[0m\u001b[0;32m   1151\u001b[0m \u001b[1;33m\u001b[0m\u001b[0m\n\u001b[0;32m   1152\u001b[0m         \u001b[0mframes\u001b[0m \u001b[1;33m=\u001b[0m \u001b[0mself\u001b[0m\u001b[1;33m.\u001b[0m\u001b[0mformat_records\u001b[0m\u001b[1;33m(\u001b[0m\u001b[0mrecords\u001b[0m\u001b[1;33m,\u001b[0m \u001b[0mlast_unique\u001b[0m\u001b[1;33m,\u001b[0m \u001b[0mrecursion_repeat\u001b[0m\u001b[1;33m)\u001b[0m\u001b[1;33m\u001b[0m\u001b[1;33m\u001b[0m\u001b[0m\n",
      "\u001b[1;32mD:\\ANACONDA\\lib\\site-packages\\IPython\\core\\ultratb.py\u001b[0m in \u001b[0;36mfind_recursion\u001b[1;34m(etype, value, records)\u001b[0m\n\u001b[0;32m    449\u001b[0m     \u001b[1;31m# first frame (from in to out) that looks different.\u001b[0m\u001b[1;33m\u001b[0m\u001b[1;33m\u001b[0m\u001b[1;33m\u001b[0m\u001b[0m\n\u001b[0;32m    450\u001b[0m     \u001b[1;32mif\u001b[0m \u001b[1;32mnot\u001b[0m \u001b[0mis_recursion_error\u001b[0m\u001b[1;33m(\u001b[0m\u001b[0metype\u001b[0m\u001b[1;33m,\u001b[0m \u001b[0mvalue\u001b[0m\u001b[1;33m,\u001b[0m \u001b[0mrecords\u001b[0m\u001b[1;33m)\u001b[0m\u001b[1;33m:\u001b[0m\u001b[1;33m\u001b[0m\u001b[1;33m\u001b[0m\u001b[0m\n\u001b[1;32m--> 451\u001b[1;33m         \u001b[1;32mreturn\u001b[0m \u001b[0mlen\u001b[0m\u001b[1;33m(\u001b[0m\u001b[0mrecords\u001b[0m\u001b[1;33m)\u001b[0m\u001b[1;33m,\u001b[0m \u001b[1;36m0\u001b[0m\u001b[1;33m\u001b[0m\u001b[1;33m\u001b[0m\u001b[0m\n\u001b[0m\u001b[0;32m    452\u001b[0m \u001b[1;33m\u001b[0m\u001b[0m\n\u001b[0;32m    453\u001b[0m     \u001b[1;31m# Select filename, lineno, func_name to track frames with\u001b[0m\u001b[1;33m\u001b[0m\u001b[1;33m\u001b[0m\u001b[1;33m\u001b[0m\u001b[0m\n",
      "\u001b[1;31mTypeError\u001b[0m: object of type 'NoneType' has no len()"
     ]
    }
   ],
   "source": [
    "import pandas as pd\n",
    "import datetime\n",
    "from datetime import timedelta\n",
    "import time\n",
    "import json\n",
    "import pytz\n",
    "\n",
    "from azure.servicebus import ServiceBusClient, ServiceBusMessage\n",
    "from azure.cosmos import CosmosClient\n",
    "import azure.cosmos.cosmos_client as cosmos_client\n",
    "\n",
    "from pyspark.sql.types import StructType, ArrayType  \n",
    "from pyspark.sql.functions import col, when\n",
    "from delta.tables import *\n",
    "from pyspark.sql.functions import *\n",
    "import numpy as np\n",
    "starttime = time.time()\n",
    "\n",
    "\n",
    "storage_account_name = \"\"\n",
    "container_name = \"\"\n",
    "\n",
    "\n",
    "pd.set_option('display.max_rows', 100)"
   ]
  },
  {
   "cell_type": "code",
   "execution_count": null,
   "metadata": {
    "ExecuteTime": {
     "end_time": "2021-05-12T03:01:45.115971Z",
     "start_time": "2021-05-12T03:01:44.356Z"
    },
    "application/vnd.databricks.v1+cell": {
     "inputWidgets": {},
     "nuid": "d6b58f50-a8da-4ab7-90e8-f603c7a5adec",
     "showTitle": false,
     "title": ""
    }
   },
   "outputs": [],
   "source": [
    "file_location = f\"/2021/05/10/\"\n",
    "dbutils.fs.ls(file_location)"
   ]
  },
  {
   "cell_type": "code",
   "execution_count": null,
   "metadata": {
    "ExecuteTime": {
     "end_time": "2021-05-12T03:01:45.118968Z",
     "start_time": "2021-05-12T03:01:44.361Z"
    },
    "application/vnd.databricks.v1+cell": {
     "inputWidgets": {},
     "nuid": "7e3bfa39-0bff-4a89-bc6d-d6c55f12704b",
     "showTitle": false,
     "title": ""
    }
   },
   "outputs": [],
   "source": [
    "hour_list = [\"00\",\"01\",\"02\",\"03\",\"04\",\"05\",\"06\",\"07\",\"08\",\"09\",\"10\",\"11\",\"12\",\"13\",\"14\",\"15\",\"16\",\"17\",\"18\",\"19\",\"20\",\"21\",\"22\",\"23\"]\n",
    "date = datetime.datetime.now(pytz.timezone('Asia/Shanghai')) - timedelta(days=1)\n",
    "year = date.year\n",
    "month = date.month\n",
    "day = date.day\n",
    "whole_df = pd.DataFrame()\n",
    "for i in hour_list:\n",
    "  df = spark.read.parquet(f\"2021/05/10/{i}\")\n",
    "  print(f\"2021/05/10/{i}\")\n",
    "\n",
    "  df_ = df.drop('Version','UnitType','Country_Code','GatewayID','SubID','SIMCardID','MotionSensorLink','CSQ','BatteryVoltage','BackupStatus','LiftState','UnitPowerOff','Floor','Direction','DoorZone','FrontDoorStatus','RearDoorStatus','CountCallUp','CountCallDown','Speed','Load','CarDoorLock','FloorDoorLock','SafetyCircuitStatus','DoorProtectorStatus','PassengerExists','DetailDataPerSecond','BlinkMessage')\n",
    "  df_ = df_.toPandas()\n",
    "  whole_df = whole_df.append(df_)  \n",
    "  whole_df.sort_values('ReportTime',inplace=True)\n",
    "df = whole_df\n",
    "whole_df"
   ]
  },
  {
   "cell_type": "code",
   "execution_count": null,
   "metadata": {
    "ExecuteTime": {
     "end_time": "2021-05-12T03:01:45.121955Z",
     "start_time": "2021-05-12T03:01:44.363Z"
    },
    "application/vnd.databricks.v1+cell": {
     "inputWidgets": {},
     "nuid": "9e49487e-5b5a-48a2-b74c-79e05dcee355",
     "showTitle": false,
     "title": ""
    }
   },
   "outputs": [],
   "source": [
    "Abnormal = [\"NAV\", \"DTC\", \"DTO\",\"BKF\",\"BSS\",\"COR\",'DAR','DBF','DLF','DLM','EPC','EPR','EPW','EQR','ESB','FLD','HAD','INI','LPS','LRN','NAV','OOS','RCY','REC','STP','UFS','PFO']"
   ]
  },
  {
   "cell_type": "code",
   "execution_count": null,
   "metadata": {
    "ExecuteTime": {
     "end_time": "2021-05-12T03:01:45.123950Z",
     "start_time": "2021-05-12T03:01:44.366Z"
    },
    "application/vnd.databricks.v1+cell": {
     "inputWidgets": {},
     "nuid": "a5c514ea-ed4a-42f7-8f58-32210499fb40",
     "showTitle": false,
     "title": ""
    }
   },
   "outputs": [],
   "source": [
    "# df = spark.read.parquet(f\"dbfs:/mnt/testmount/OtisOne/robustel/elevatorheartbeat/2021/05/11/00\")\n",
    "# df_ = df.drop('Version','UnitType','Country_Code','GatewayID','SubID','SIMCardID','MotionSensorLink','CSQ','BatteryVoltage','BackupStatus','LiftState','UnitPowerOff','Floor','Direction','DoorZone','FrontDoorStatus','RearDoorStatus','CountCallUp','CountCallDown','Speed','Load','CarDoorLock','FloorDoorLock','SafetyCircuitStatus','DoorProtectorStatus','PassengerExists','DetailDataPerSecond','BlinkMessage')\n",
    "# df = df_.toPandas()\n",
    "# df.sort_values('ReportTime',inplace=True)\n",
    "df = whole_df"
   ]
  },
  {
   "cell_type": "code",
   "execution_count": null,
   "metadata": {
    "ExecuteTime": {
     "end_time": "2021-05-12T03:01:45.126942Z",
     "start_time": "2021-05-12T03:01:44.368Z"
    },
    "application/vnd.databricks.v1+cell": {
     "inputWidgets": {},
     "nuid": "d16c3a44-be1e-4e04-8c27-d434e4ab9653",
     "showTitle": false,
     "title": ""
    }
   },
   "outputs": [],
   "source": [
    "abnormal_df = df[df['UnitNumber'].isin(df[df['OPMode'] == 'NAV']['UnitNumber'].drop_duplicates())]\n",
    "abnormal_df"
   ]
  },
  {
   "cell_type": "code",
   "execution_count": null,
   "metadata": {
    "ExecuteTime": {
     "end_time": "2021-05-12T03:01:45.128937Z",
     "start_time": "2021-05-12T03:01:44.371Z"
    },
    "application/vnd.databricks.v1+cell": {
     "inputWidgets": {},
     "nuid": "85e3e6de-5ac6-41e6-b778-de98da001a4d",
     "showTitle": false,
     "title": ""
    }
   },
   "outputs": [],
   "source": [
    "abnormal_df['UnitNumber'].drop_duplicates()"
   ]
  },
  {
   "cell_type": "code",
   "execution_count": null,
   "metadata": {
    "ExecuteTime": {
     "end_time": "2021-05-12T03:01:45.136915Z",
     "start_time": "2021-05-12T03:01:44.376Z"
    },
    "application/vnd.databricks.v1+cell": {
     "inputWidgets": {},
     "nuid": "60d8e6ef-9dc8-4d50-880f-025504db8d5b",
     "showTitle": false,
     "title": ""
    }
   },
   "outputs": [],
   "source": [
    "abnormal_df['OPMode_shift'] = abnormal_df.groupby('UnitNumber')['OPMode'].shift(1)\n",
    "abnormal_df"
   ]
  },
  {
   "cell_type": "code",
   "execution_count": null,
   "metadata": {
    "ExecuteTime": {
     "end_time": "2021-05-12T03:01:45.138915Z",
     "start_time": "2021-05-12T03:01:44.380Z"
    },
    "application/vnd.databricks.v1+cell": {
     "inputWidgets": {},
     "nuid": "1c2ace48-01e0-4b5a-bf43-4f1180877ae6",
     "showTitle": false,
     "title": ""
    }
   },
   "outputs": [],
   "source": [
    "final = []\n",
    "for num , elevator in enumerate(abnormal_df['UnitNumber'].drop_duplicates()):\n",
    "  print(num)\n",
    "  elevator_data = df[df['UnitNumber'] == elevator]\n",
    "  elevator_data['ReportTime_shift'] = elevator_data['ReportTime'].shift(1)\n",
    "  elevator_data['ReportTime_shift'] = elevator_data['ReportTime'] - elevator_data['ReportTime_shift']\n",
    "  \n",
    "  # 统计上传\n",
    "  normal_count , abnormal_count = 0 , 0 \n",
    "  for time in elevator_data['ReportTime_shift'].tolist():\n",
    "    if time < 30:\n",
    "      normal_count += 1\n",
    "    elif time >= 30:\n",
    "      abnormal_count += 1\n",
    "  max_report_time = elevator_data.loc[:,\"ReportTime_shift\"].max()\n",
    "  \n",
    "  \n",
    "  \n",
    "  #统计异常\n",
    "  normal_list = []\n",
    "  for count , opmode in enumerate(elevator_data['OPMode'].to_list()):\n",
    "    if opmode not in Abnormal:\n",
    "      normal_list.append(count)\n",
    "  if len(normal_list) == 0:\n",
    "    new_diction = {'异常次数大于7':1}\n",
    "  else:\n",
    "    diction = {}\n",
    "    for i in range(len(normal_list)-1):\n",
    "      if normal_list[i+1] - normal_list[i] != 1:\n",
    "        if normal_list[i+1] - normal_list[i] - 1 not in diction.keys():\n",
    "          diction[normal_list[i+1] - normal_list[i] -1 ] = 1\n",
    "        else:\n",
    "          diction[normal_list[i+1] - normal_list[i] -1 ] += 1\n",
    "    count_bigger_than_7 = 0\n",
    "    for i in {k : v for k, v in diction.items() if k>=7}.values():\n",
    "      count_bigger_than_7 += 1\n",
    "    new_diction = {k : v for k, v in diction.items() if k < 7}\n",
    "    new_diction['异常次数大于7'] =  count_bigger_than_7\n",
    "  diction = pd.DataFrame(new_diction,index=[0])\n",
    "  diction['正常时间上传次数'] , diction['断线次数'], diction['最大上传时间'] = normal_count  , abnormal_count , max_report_time\n",
    "  diction.index = [elevator]\n",
    "  if len(final) == 0 :\n",
    "    final = diction\n",
    "  else:\n",
    "    final = pd.concat([final,diction])\n",
    "final"
   ]
  },
  {
   "cell_type": "code",
   "execution_count": null,
   "metadata": {
    "ExecuteTime": {
     "end_time": "2021-05-12T03:01:45.140905Z",
     "start_time": "2021-05-12T03:01:44.382Z"
    },
    "application/vnd.databricks.v1+cell": {
     "inputWidgets": {},
     "nuid": "3f9b8efb-306c-444e-b4a1-c95bf949fdd9",
     "showTitle": false,
     "title": ""
    }
   },
   "outputs": [],
   "source": [
    "len(df['UnitNumber'].drop_duplicates())"
   ]
  },
  {
   "cell_type": "code",
   "execution_count": null,
   "metadata": {
    "ExecuteTime": {
     "end_time": "2021-05-12T03:01:45.143897Z",
     "start_time": "2021-05-12T03:01:44.384Z"
    },
    "application/vnd.databricks.v1+cell": {
     "inputWidgets": {},
     "nuid": "73195a39-06b0-4d10-b795-313c81ff8f8e",
     "showTitle": false,
     "title": ""
    }
   },
   "outputs": [],
   "source": [
    "a = ['NOR','NAV','NAV','NOR','NAV','NOR','NAV','NAV','NAV','NOR']\n",
    "normal_list = []\n",
    "# for count , opmode in enumerate(a):\n",
    "for count , opmode in enumerate(elevator_data['OPMode'].to_list()):\n",
    "  if opmode not in Abnormal:\n",
    "      normal_list.append(count)\n",
    "if len(normal_list) == 0:\n",
    "  diction = {'一直异常':1}\n",
    "else:\n",
    "  diction = {}\n",
    "  for i in range(len(normal_list)-1):\n",
    "    if normal_list[i+1] - normal_list[i] != 1:\n",
    "      if normal_list[i+1] - normal_list[i] - 1 not in diction.keys():\n",
    "        diction[normal_list[i+1] - normal_list[i] -1 ] = 1\n",
    "      else:\n",
    "        diction[normal_list[i+1] - normal_list[i] -1 ] += 1\n",
    "print(diction)\n",
    "count_bigger_than_7 = 0\n",
    "for i in {k : v for k, v in diction.items() if k>=7}.values():\n",
    "  count_bigger_than_7 += 1\n",
    "new_diction = {k : v for k, v in diction.items() if k < 7}\n",
    "new_diction['值大于7'] =  count_bigger_than_7\n",
    "new_diction"
   ]
  },
  {
   "cell_type": "code",
   "execution_count": null,
   "metadata": {
    "ExecuteTime": {
     "end_time": "2021-05-12T03:01:45.176811Z",
     "start_time": "2021-05-12T03:01:44.386Z"
    },
    "application/vnd.databricks.v1+cell": {
     "inputWidgets": {},
     "nuid": "0440a6b7-b1fc-4d72-9772-89402a78f084",
     "showTitle": false,
     "title": ""
    }
   },
   "outputs": [],
   "source": [
    "diction = pd.DataFrame(diction,index=[0])\n",
    "diction"
   ]
  },
  {
   "cell_type": "code",
   "execution_count": null,
   "metadata": {
    "ExecuteTime": {
     "end_time": "2021-05-12T03:01:45.178804Z",
     "start_time": "2021-05-12T03:01:44.388Z"
    },
    "application/vnd.databricks.v1+cell": {
     "inputWidgets": {},
     "nuid": "3f834e3e-a540-46e8-8832-ab35c78cdad7",
     "showTitle": false,
     "title": ""
    }
   },
   "outputs": [],
   "source": [
    "diction.index = ['F8N24E89']\n",
    "diction"
   ]
  },
  {
   "cell_type": "code",
   "execution_count": null,
   "metadata": {
    "ExecuteTime": {
     "end_time": "2021-05-12T03:01:45.180798Z",
     "start_time": "2021-05-12T03:01:44.390Z"
    },
    "application/vnd.databricks.v1+cell": {
     "inputWidgets": {},
     "nuid": "cf76348f-7157-4afa-a98f-e169530c1583",
     "showTitle": false,
     "title": ""
    }
   },
   "outputs": [],
   "source": [
    "diction2 = diction.copy()\n",
    "diction2['4'] = 1\n",
    "final = pd.concat([diction,diction2])\n",
    "final"
   ]
  },
  {
   "cell_type": "code",
   "execution_count": null,
   "metadata": {
    "ExecuteTime": {
     "end_time": "2021-05-12T03:01:45.182792Z",
     "start_time": "2021-05-12T03:01:44.393Z"
    },
    "application/vnd.databricks.v1+cell": {
     "inputWidgets": {},
     "nuid": "4dc4b2cd-29b4-4959-bf9e-aab22ed58bfb",
     "showTitle": false,
     "title": ""
    }
   },
   "outputs": [],
   "source": [
    "if final_dataframe not exist"
   ]
  },
  {
   "cell_type": "code",
   "execution_count": null,
   "metadata": {
    "ExecuteTime": {
     "end_time": "2021-05-12T03:01:45.184787Z",
     "start_time": "2021-05-12T03:01:44.395Z"
    },
    "application/vnd.databricks.v1+cell": {
     "inputWidgets": {},
     "nuid": "6534bc83-ddf0-4bf1-80ba-4f9896a40777",
     "showTitle": false,
     "title": ""
    }
   },
   "outputs": [],
   "source": [
    "\n",
    "Normal = [\"NOR\", \"IDL\", \"PRK\", \"\"]"
   ]
  },
  {
   "cell_type": "code",
   "execution_count": null,
   "metadata": {
    "ExecuteTime": {
     "end_time": "2021-05-12T03:01:45.186782Z",
     "start_time": "2021-05-12T03:01:44.398Z"
    },
    "application/vnd.databricks.v1+cell": {
     "inputWidgets": {},
     "nuid": "7caf5d43-8874-4d32-9a6e-145ae470de37",
     "showTitle": false,
     "title": ""
    }
   },
   "outputs": [],
   "source": [
    "hour_list = [\"00\",\"01\",\"02\",\"03\",\"04\",\"05\",\"06\",\"07\",\"08\",\"09\",\"10\",\"11\",\"12\",\"13\",\"14\",\"15\",\"16\",\"17\",\"18\",\"19\",\"20\",\"21\",\"22\",\"23\"]\n",
    "date = datetime.datetime.now(pytz.timezone('Asia/Shanghai')) - timedelta(days=1)\n",
    "year = date.year\n",
    "month = date.month\n",
    "day = date.day\n",
    "whole_df = pd.DataFrame()\n",
    "for i in hour_list:\n",
    "  if int(day) <= 9:\n",
    "    df = spark.read.parquet(f\"dbfs:/mnt/testmount/OtisOne/robustel/elevatorheartbeat/{year}/0{month}/0{day}/{i}\")\n",
    "  else:\n",
    "    df = spark.read.parquet(f\"dbfs:/mnt/testmount/OtisOne/robustel/elevatorheartbeat/{year}/0{month}/{day}/{i}\")\n",
    "  df_ = df.drop('Version','UnitType','Country_Code','GatewayID','SubID','SIMCardID','MotionSensorLink','CSQ','BatteryVoltage','BackupStatus','OPMode','LiftState','UnitPowerOff','Floor','Direction','DoorZone','FrontDoorStatus','RearDoorStatus','CountCallUp','CountCallDown','Speed','Load','CarDoorLock','FloorDoorLock','SafetyCircuitStatus','DoorProtectorStatus','PassengerExists','DetailDataPerSecond','BlinkMessage')\n",
    "  df_ = df_.toPandas()\n",
    "  whole_df = whole_df.append(df_)  \n",
    "whole_df[['ReportTime','ControllerLink']] = whole_df[['ReportTime','ControllerLink']].astype(float)"
   ]
  }
 ],
 "metadata": {
  "application/vnd.databricks.v1+notebook": {
   "dashboards": [],
   "language": "python",
   "notebookMetadata": {
    "pythonIndentUnit": 2
   },
   "notebookName": "datalake_OPMode_analysis",
   "notebookOrigID": 4352905096491297,
   "widgets": {}
  },
  "kernelspec": {
   "display_name": "Python 3",
   "language": "python",
   "name": "python3"
  },
  "language_info": {
   "codemirror_mode": {
    "name": "ipython",
    "version": 3
   },
   "file_extension": ".py",
   "mimetype": "text/x-python",
   "name": "python",
   "nbconvert_exporter": "python",
   "pygments_lexer": "ipython3",
   "version": "3.8.3"
  }
 },
 "nbformat": 4,
 "nbformat_minor": 1
}
