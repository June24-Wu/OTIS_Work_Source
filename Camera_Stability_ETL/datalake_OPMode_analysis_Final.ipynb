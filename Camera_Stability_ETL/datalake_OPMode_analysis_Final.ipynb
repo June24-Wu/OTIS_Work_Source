{
 "cells": [
  {
   "cell_type": "code",
   "execution_count": 1,
   "metadata": {
    "ExecuteTime": {
     "end_time": "2021-05-12T03:01:34.859312Z",
     "start_time": "2021-05-12T03:01:33.083333Z"
    },
    "application/vnd.databricks.v1+cell": {
     "inputWidgets": {},
     "nuid": "2328c9a0-070c-497d-bd1a-69ea52084c25",
     "showTitle": false,
     "title": ""
    }
   },
   "outputs": [
    {
     "ename": "ModuleNotFoundError",
     "evalue": "No module named 'azure.servicebus'",
     "output_type": "error",
     "traceback": [
      "\u001b[1;31m---------------------------------------------------------------------------\u001b[0m",
      "\u001b[1;31mModuleNotFoundError\u001b[0m                       Traceback (most recent call last)",
      "\u001b[1;32m<ipython-input-1-15b882de74f4>\u001b[0m in \u001b[0;36m<module>\u001b[1;34m\u001b[0m\n\u001b[0;32m      6\u001b[0m \u001b[1;32mimport\u001b[0m \u001b[0mpytz\u001b[0m\u001b[1;33m\u001b[0m\u001b[1;33m\u001b[0m\u001b[0m\n\u001b[0;32m      7\u001b[0m \u001b[1;33m\u001b[0m\u001b[0m\n\u001b[1;32m----> 8\u001b[1;33m \u001b[1;32mfrom\u001b[0m \u001b[0mazure\u001b[0m\u001b[1;33m.\u001b[0m\u001b[0mservicebus\u001b[0m \u001b[1;32mimport\u001b[0m \u001b[0mServiceBusClient\u001b[0m\u001b[1;33m,\u001b[0m \u001b[0mServiceBusMessage\u001b[0m\u001b[1;33m\u001b[0m\u001b[1;33m\u001b[0m\u001b[0m\n\u001b[0m\u001b[0;32m      9\u001b[0m \u001b[1;32mfrom\u001b[0m \u001b[0mazure\u001b[0m\u001b[1;33m.\u001b[0m\u001b[0mcosmos\u001b[0m \u001b[1;32mimport\u001b[0m \u001b[0mCosmosClient\u001b[0m\u001b[1;33m\u001b[0m\u001b[1;33m\u001b[0m\u001b[0m\n\u001b[0;32m     10\u001b[0m \u001b[1;32mimport\u001b[0m \u001b[0mazure\u001b[0m\u001b[1;33m.\u001b[0m\u001b[0mcosmos\u001b[0m\u001b[1;33m.\u001b[0m\u001b[0mcosmos_client\u001b[0m \u001b[1;32mas\u001b[0m \u001b[0mcosmos_client\u001b[0m\u001b[1;33m\u001b[0m\u001b[1;33m\u001b[0m\u001b[0m\n",
      "\u001b[1;31mModuleNotFoundError\u001b[0m: No module named 'azure.servicebus'"
     ]
    }
   ],
   "source": [
    "import pandas as pd\n",
    "import datetime\n",
    "from datetime import timedelta\n",
    "import time\n",
    "import json\n",
    "import pytz\n",
    "\n",
    "from azure.servicebus import ServiceBusClient, ServiceBusMessage\n",
    "from azure.cosmos import CosmosClient\n",
    "import azure.cosmos.cosmos_client as cosmos_client\n",
    "\n",
    "from pyspark.sql.types import StructType, ArrayType  \n",
    "from pyspark.sql.functions import col, when\n",
    "from delta.tables import *\n",
    "from pyspark.sql.functions import *\n",
    "import numpy as np\n",
    "starttime = time.time()\n",
    "\n",
    "\n",
    "storage_account_name = \"\"\n",
    "container_name = \"\"\n",
    "\n",
    "\n",
    "pd.set_option('display.max_rows', 100)"
   ]
  },
  {
   "cell_type": "code",
   "execution_count": null,
   "metadata": {
    "ExecuteTime": {
     "end_time": "2021-05-12T03:01:34.863301Z",
     "start_time": "2021-05-12T03:01:33.069Z"
    },
    "application/vnd.databricks.v1+cell": {
     "inputWidgets": {},
     "nuid": "d6b58f50-a8da-4ab7-90e8-f603c7a5adec",
     "showTitle": false,
     "title": ""
    }
   },
   "outputs": [],
   "source": [
    "file_location = f\"/2021/05/10/\"\n",
    "dbutils.fs.ls(file_location)"
   ]
  },
  {
   "cell_type": "code",
   "execution_count": null,
   "metadata": {
    "ExecuteTime": {
     "end_time": "2021-05-12T03:01:34.865296Z",
     "start_time": "2021-05-12T03:01:33.073Z"
    },
    "application/vnd.databricks.v1+cell": {
     "inputWidgets": {},
     "nuid": "7e3bfa39-0bff-4a89-bc6d-d6c55f12704b",
     "showTitle": false,
     "title": ""
    }
   },
   "outputs": [],
   "source": [
    "hour_list = [\"00\",\"01\",\"02\",\"03\",\"04\",\"05\",\"06\",\"07\",\"08\",\"09\",\"10\",\"11\",\"12\",\"13\",\"14\",\"15\",\"16\",\"17\",\"18\",\"19\",\"20\",\"21\",\"22\",\"23\"]\n",
    "date = datetime.datetime.now(pytz.timezone('Asia/Shanghai')) - timedelta(days=1)\n",
    "year = date.year\n",
    "month = date.month\n",
    "day = date.day\n",
    "whole_df = pd.DataFrame()\n",
    "for i in hour_list:\n",
    "  df = spark.read.parquet(f\"2021/05/10/{i}\")\n",
    "  print(f\"2021/05/10/{i}\")\n",
    "\n",
    "  df_ = df.drop('Version','UnitType','Country_Code','GatewayID','SubID','SIMCardID','MotionSensorLink','CSQ','BatteryVoltage','BackupStatus','LiftState','UnitPowerOff','Floor','Direction','DoorZone','FrontDoorStatus','RearDoorStatus','CountCallUp','CountCallDown','Speed','Load','CarDoorLock','FloorDoorLock','SafetyCircuitStatus','DoorProtectorStatus','PassengerExists','DetailDataPerSecond','BlinkMessage')\n",
    "  df_ = df_.toPandas()\n",
    "  whole_df = whole_df.append(df_)  \n",
    "  whole_df.sort_values('ReportTime',inplace=True)\n",
    "df = whole_df\n",
    "whole_df"
   ]
  },
  {
   "cell_type": "code",
   "execution_count": null,
   "metadata": {
    "ExecuteTime": {
     "end_time": "2021-05-12T03:01:34.867290Z",
     "start_time": "2021-05-12T03:01:33.076Z"
    },
    "application/vnd.databricks.v1+cell": {
     "inputWidgets": {},
     "nuid": "02b0f87f-f333-4f98-b3cd-0096fb1d8ec7",
     "showTitle": false,
     "title": ""
    }
   },
   "outputs": [],
   "source": [
    "abnormal_df = df[df['UnitNumber'].isin(df[df['OPMode'] == 'NAV']['UnitNumber'].drop_duplicates())]\n",
    "abnormal_df['OPMode_shift'] = abnormal_df.groupby('UnitNumber')['OPMode'].shift(1)\n",
    "abnormal_df"
   ]
  },
  {
   "cell_type": "code",
   "execution_count": null,
   "metadata": {
    "ExecuteTime": {
     "end_time": "2021-05-12T03:01:34.869285Z",
     "start_time": "2021-05-12T03:01:33.079Z"
    },
    "application/vnd.databricks.v1+cell": {
     "inputWidgets": {},
     "nuid": "df659b8f-8135-4c38-952f-25f1dfcf32ef",
     "showTitle": false,
     "title": ""
    }
   },
   "outputs": [],
   "source": [
    "result = pd.DataFrame()\n",
    "for num , elevator in enumerate(abnormal_df['UnitNumber'].drop_duplicates()):\n",
    "  start = abnormal_df[(abnormal_df['OPMode'] == 'NAV' )& (abnormal_df['OPMode_shift'] != 'NAV' )& (abnormal_df['UnitNumber'] == elevator )]\n",
    "  start = start['ReportTime'].to_list()\n",
    "  \n",
    "  end = abnormal_df[(abnormal_df['OPMode'] != 'NAV' )& (abnormal_df['OPMode_shift'] == 'NAV' )& (abnormal_df['UnitNumber'] == elevator )]\n",
    "  end = end['ReportTime'].to_list()\n",
    "  \n",
    "  var = []\n",
    "  for start_time in start:\n",
    "    for end_time_index in range(len(end)):\n",
    "      if end[end_time_index] > start_time:\n",
    "        var.append(end[end_time_index] - start_time)\n",
    "        end = end[end_time_index:]\n",
    "        break\n",
    "      else:\n",
    "        continue\n",
    "  print(num)\n",
    "  diction = {'0-22':0,'22-42':0,'42-62':0,'62-120':0,'120以上':0}\n",
    "  for value in var:\n",
    "    if value <= 22:\n",
    "      diction['0-22'] += 1\n",
    "    elif 22 < value <= 42:\n",
    "      diction['22-42'] += 1\n",
    "    elif 42 < value <= 62:\n",
    "      diction['42-62'] += 1\n",
    "    elif 62 < value <= 120:\n",
    "      diction['62-120'] += 1\n",
    "    elif value > 120:\n",
    "      diction['120以上'] += 1\n",
    "  diction = pd.DataFrame(diction,index=[elevator])\n",
    "  result = result.append(diction)\n",
    "result"
   ]
  },
  {
   "cell_type": "code",
   "execution_count": null,
   "metadata": {
    "ExecuteTime": {
     "end_time": "2021-05-12T03:01:34.871280Z",
     "start_time": "2021-05-12T03:01:33.082Z"
    },
    "application/vnd.databricks.v1+cell": {
     "inputWidgets": {},
     "nuid": "9a0d5890-99e5-491a-ab3f-45b892f44655",
     "showTitle": false,
     "title": ""
    }
   },
   "outputs": [],
   "source": [
    "result.loc['Row_sum'] = result.apply(lambda x: x.sum())\n",
    "final = pd.DataFrame(result.loc['Row_sum']).T\n",
    "final.insert(0,'Time','2020/05/12')\n",
    "final"
   ]
  },
  {
   "cell_type": "code",
   "execution_count": null,
   "metadata": {
    "ExecuteTime": {
     "end_time": "2021-05-12T03:01:34.873275Z",
     "start_time": "2021-05-12T03:01:33.086Z"
    },
    "application/vnd.databricks.v1+cell": {
     "inputWidgets": {},
     "nuid": "a444355c-0401-4c3e-9934-7aaf4c733d78",
     "showTitle": false,
     "title": ""
    }
   },
   "outputs": [],
   "source": [
    "result.to_csv('/dbfs/FileStore/shared_uploads/lilian.lu@otis.com/result.csv')"
   ]
  },
  {
   "cell_type": "code",
   "execution_count": null,
   "metadata": {
    "ExecuteTime": {
     "end_time": "2021-05-12T03:01:34.876266Z",
     "start_time": "2021-05-12T03:01:33.091Z"
    },
    "application/vnd.databricks.v1+cell": {
     "inputWidgets": {},
     "nuid": "e8574f1d-1987-4af3-bc45-62885b9359c0",
     "showTitle": false,
     "title": ""
    }
   },
   "outputs": [],
   "source": [
    "abnormal_df[(abnormal_df['OPMode'] == 'NAV' )& (abnormal_df['OPMode_shift'] != 'NAV' )]  #正常到不正常\n",
    "\n",
    "abnormal_df[(abnormal_df['OPMode'] != 'NAV' )& (abnormal_df['OPMode_shift'] == 'NAV' )]"
   ]
  },
  {
   "cell_type": "code",
   "execution_count": null,
   "metadata": {
    "ExecuteTime": {
     "end_time": "2021-05-12T03:01:34.878261Z",
     "start_time": "2021-05-12T03:01:33.094Z"
    },
    "application/vnd.databricks.v1+cell": {
     "inputWidgets": {},
     "nuid": "bcb9eb74-fb6b-4c10-a312-d853f723b0e7",
     "showTitle": false,
     "title": ""
    }
   },
   "outputs": [],
   "source": [
    "ls /dbfs/FileStore/shared_uploads/lilian.lu@otis.com/"
   ]
  },
  {
   "cell_type": "code",
   "execution_count": null,
   "metadata": {
    "ExecuteTime": {
     "end_time": "2021-05-12T03:01:34.880260Z",
     "start_time": "2021-05-12T03:01:33.096Z"
    },
    "application/vnd.databricks.v1+cell": {
     "inputWidgets": {},
     "nuid": "9e49487e-5b5a-48a2-b74c-79e05dcee355",
     "showTitle": false,
     "title": ""
    }
   },
   "outputs": [],
   "source": [
    "Abnormal = [\"NAV\", \"DTC\", \"DTO\",\"BKF\",\"BSS\",\"COR\",'DAR','DBF','DLF','DLM','EPC','EPR','EPW','EQR','ESB','FLD','HAD','INI','LPS','LRN','NAV','OOS','RCY','REC','STP','UFS','PFO']"
   ]
  },
  {
   "cell_type": "code",
   "execution_count": null,
   "metadata": {
    "ExecuteTime": {
     "end_time": "2021-05-12T03:01:34.881253Z",
     "start_time": "2021-05-12T03:01:33.098Z"
    },
    "application/vnd.databricks.v1+cell": {
     "inputWidgets": {},
     "nuid": "a5c514ea-ed4a-42f7-8f58-32210499fb40",
     "showTitle": false,
     "title": ""
    }
   },
   "outputs": [],
   "source": [
    "# df = spark.read.parquet(f\"dbfs:/mnt/testmount/OtisOne/robustel/elevatorheartbeat/2021/05/11/00\")\n",
    "# df_ = df.drop('Version','UnitType','Country_Code','GatewayID','SubID','SIMCardID','MotionSensorLink','CSQ','BatteryVoltage','BackupStatus','LiftState','UnitPowerOff','Floor','Direction','DoorZone','FrontDoorStatus','RearDoorStatus','CountCallUp','CountCallDown','Speed','Load','CarDoorLock','FloorDoorLock','SafetyCircuitStatus','DoorProtectorStatus','PassengerExists','DetailDataPerSecond','BlinkMessage')\n",
    "# df = df_.toPandas()\n",
    "# df.sort_values('ReportTime',inplace=True)\n",
    "df = whole_df"
   ]
  },
  {
   "cell_type": "code",
   "execution_count": null,
   "metadata": {
    "ExecuteTime": {
     "end_time": "2021-05-12T03:01:34.883248Z",
     "start_time": "2021-05-12T03:01:33.100Z"
    },
    "application/vnd.databricks.v1+cell": {
     "inputWidgets": {},
     "nuid": "d16c3a44-be1e-4e04-8c27-d434e4ab9653",
     "showTitle": false,
     "title": ""
    }
   },
   "outputs": [],
   "source": [
    "abnormal_df = df[df['UnitNumber'].isin(df[df['OPMode'] == 'NAV']['UnitNumber'].drop_duplicates())]\n",
    "abnormal_df"
   ]
  },
  {
   "cell_type": "code",
   "execution_count": null,
   "metadata": {
    "ExecuteTime": {
     "end_time": "2021-05-12T03:01:34.887237Z",
     "start_time": "2021-05-12T03:01:33.102Z"
    },
    "application/vnd.databricks.v1+cell": {
     "inputWidgets": {},
     "nuid": "85e3e6de-5ac6-41e6-b778-de98da001a4d",
     "showTitle": false,
     "title": ""
    }
   },
   "outputs": [],
   "source": [
    "abnormal_df['UnitNumber'].drop_duplicates()"
   ]
  },
  {
   "cell_type": "code",
   "execution_count": null,
   "metadata": {
    "ExecuteTime": {
     "end_time": "2021-05-12T03:01:34.919152Z",
     "start_time": "2021-05-12T03:01:33.105Z"
    },
    "application/vnd.databricks.v1+cell": {
     "inputWidgets": {},
     "nuid": "60d8e6ef-9dc8-4d50-880f-025504db8d5b",
     "showTitle": false,
     "title": ""
    }
   },
   "outputs": [],
   "source": [
    "abnormal_df['OPMode_shift'] = abnormal_df.groupby('UnitNumber')['OPMode'].shift(1)\n",
    "abnormal_df"
   ]
  },
  {
   "cell_type": "code",
   "execution_count": null,
   "metadata": {
    "ExecuteTime": {
     "end_time": "2021-05-12T03:01:34.921147Z",
     "start_time": "2021-05-12T03:01:33.107Z"
    },
    "application/vnd.databricks.v1+cell": {
     "inputWidgets": {},
     "nuid": "1c2ace48-01e0-4b5a-bf43-4f1180877ae6",
     "showTitle": false,
     "title": ""
    }
   },
   "outputs": [],
   "source": [
    "final = []\n",
    "for num , elevator in enumerate(abnormal_df['UnitNumber'].drop_duplicates()):\n",
    "  print(num)\n",
    "  elevator_data = df[df['UnitNumber'] == elevator]\n",
    "  elevator_data['ReportTime_shift'] = elevator_data['ReportTime'].shift(1)\n",
    "  elevator_data['ReportTime_shift'] = elevator_data['ReportTime'] - elevator_data['ReportTime_shift']\n",
    "  \n",
    "  # 统计上传\n",
    "  normal_count , abnormal_count = 0 , 0 \n",
    "  for time in elevator_data['ReportTime_shift'].tolist():\n",
    "    if time < 30:\n",
    "      normal_count += 1\n",
    "    elif time >= 30:\n",
    "      abnormal_count += 1\n",
    "  max_report_time = elevator_data.loc[:,\"ReportTime_shift\"].max()\n",
    "  \n",
    "  \n",
    "  \n",
    "  #统计异常\n",
    "  normal_list = []\n",
    "  for count , opmode in enumerate(elevator_data['OPMode'].to_list()):\n",
    "    if opmode not in Abnormal:\n",
    "      normal_list.append(count)\n",
    "  if len(normal_list) == 0:\n",
    "    new_diction = {'异常次数大于7':1}\n",
    "  else:\n",
    "    diction = {}\n",
    "    for i in range(len(normal_list)-1):\n",
    "      if normal_list[i+1] - normal_list[i] != 1:\n",
    "        if normal_list[i+1] - normal_list[i] - 1 not in diction.keys():\n",
    "          diction[normal_list[i+1] - normal_list[i] -1 ] = 1\n",
    "        else:\n",
    "          diction[normal_list[i+1] - normal_list[i] -1 ] += 1\n",
    "    count_bigger_than_7 = 0\n",
    "    for i in {k : v for k, v in diction.items() if k>=7}.values():\n",
    "      count_bigger_than_7 += 1\n",
    "    new_diction = {k : v for k, v in diction.items() if k < 7}\n",
    "    new_diction['异常次数大于7'] =  count_bigger_than_7\n",
    "  diction = pd.DataFrame(new_diction,index=[0])\n",
    "  diction['正常时间上传次数'] , diction['断线次数'], diction['最大上传时间'] = normal_count  , abnormal_count , max_report_time\n",
    "  diction.index = [elevator]\n",
    "  if len(final) == 0 :\n",
    "    final = diction\n",
    "  else:\n",
    "    final = pd.concat([final,diction])\n",
    "final"
   ]
  },
  {
   "cell_type": "code",
   "execution_count": null,
   "metadata": {
    "ExecuteTime": {
     "end_time": "2021-05-12T03:01:34.923141Z",
     "start_time": "2021-05-12T03:01:33.109Z"
    },
    "application/vnd.databricks.v1+cell": {
     "inputWidgets": {},
     "nuid": "3f9b8efb-306c-444e-b4a1-c95bf949fdd9",
     "showTitle": false,
     "title": ""
    }
   },
   "outputs": [],
   "source": [
    "len(df['UnitNumber'].drop_duplicates())"
   ]
  },
  {
   "cell_type": "code",
   "execution_count": null,
   "metadata": {
    "ExecuteTime": {
     "end_time": "2021-05-12T03:01:34.925136Z",
     "start_time": "2021-05-12T03:01:33.112Z"
    },
    "application/vnd.databricks.v1+cell": {
     "inputWidgets": {},
     "nuid": "73195a39-06b0-4d10-b795-313c81ff8f8e",
     "showTitle": false,
     "title": ""
    }
   },
   "outputs": [],
   "source": [
    "a = ['NOR','NAV','NAV','NOR','NAV','NOR','NAV','NAV','NAV','NOR']\n",
    "normal_list = []\n",
    "# for count , opmode in enumerate(a):\n",
    "for count , opmode in enumerate(elevator_data['OPMode'].to_list()):\n",
    "  if opmode not in Abnormal:\n",
    "      normal_list.append(count)\n",
    "if len(normal_list) == 0:\n",
    "  diction = {'一直异常':1}\n",
    "else:\n",
    "  diction = {}\n",
    "  for i in range(len(normal_list)-1):\n",
    "    if normal_list[i+1] - normal_list[i] != 1:\n",
    "      if normal_list[i+1] - normal_list[i] - 1 not in diction.keys():\n",
    "        diction[normal_list[i+1] - normal_list[i] -1 ] = 1\n",
    "      else:\n",
    "        diction[normal_list[i+1] - normal_list[i] -1 ] += 1\n",
    "print(diction)\n",
    "count_bigger_than_7 = 0\n",
    "for i in {k : v for k, v in diction.items() if k>=7}.values():\n",
    "  count_bigger_than_7 += 1\n",
    "new_diction = {k : v for k, v in diction.items() if k < 7}\n",
    "new_diction['值大于7'] =  count_bigger_than_7\n",
    "new_diction"
   ]
  },
  {
   "cell_type": "code",
   "execution_count": null,
   "metadata": {
    "ExecuteTime": {
     "end_time": "2021-05-12T03:01:34.928127Z",
     "start_time": "2021-05-12T03:01:33.114Z"
    },
    "application/vnd.databricks.v1+cell": {
     "inputWidgets": {},
     "nuid": "0440a6b7-b1fc-4d72-9772-89402a78f084",
     "showTitle": false,
     "title": ""
    }
   },
   "outputs": [],
   "source": [
    "diction = pd.DataFrame(diction,index=[0])\n",
    "diction"
   ]
  },
  {
   "cell_type": "code",
   "execution_count": null,
   "metadata": {
    "ExecuteTime": {
     "end_time": "2021-05-12T03:01:34.929125Z",
     "start_time": "2021-05-12T03:01:33.116Z"
    },
    "application/vnd.databricks.v1+cell": {
     "inputWidgets": {},
     "nuid": "3f834e3e-a540-46e8-8832-ab35c78cdad7",
     "showTitle": false,
     "title": ""
    }
   },
   "outputs": [],
   "source": [
    "diction.index = ['F8N24E89']\n",
    "diction"
   ]
  },
  {
   "cell_type": "code",
   "execution_count": null,
   "metadata": {
    "ExecuteTime": {
     "end_time": "2021-05-12T03:01:34.931120Z",
     "start_time": "2021-05-12T03:01:33.118Z"
    },
    "application/vnd.databricks.v1+cell": {
     "inputWidgets": {},
     "nuid": "cf76348f-7157-4afa-a98f-e169530c1583",
     "showTitle": false,
     "title": ""
    }
   },
   "outputs": [],
   "source": [
    "diction2 = diction.copy()\n",
    "diction2['4'] = 1\n",
    "final = pd.concat([diction,diction2])\n",
    "final"
   ]
  },
  {
   "cell_type": "code",
   "execution_count": null,
   "metadata": {
    "ExecuteTime": {
     "end_time": "2021-05-12T03:01:34.933114Z",
     "start_time": "2021-05-12T03:01:33.121Z"
    },
    "application/vnd.databricks.v1+cell": {
     "inputWidgets": {},
     "nuid": "4dc4b2cd-29b4-4959-bf9e-aab22ed58bfb",
     "showTitle": false,
     "title": ""
    }
   },
   "outputs": [],
   "source": [
    "if final_dataframe not exist"
   ]
  },
  {
   "cell_type": "code",
   "execution_count": null,
   "metadata": {
    "ExecuteTime": {
     "end_time": "2021-05-12T03:01:34.935109Z",
     "start_time": "2021-05-12T03:01:33.123Z"
    },
    "application/vnd.databricks.v1+cell": {
     "inputWidgets": {},
     "nuid": "6534bc83-ddf0-4bf1-80ba-4f9896a40777",
     "showTitle": false,
     "title": ""
    }
   },
   "outputs": [],
   "source": [
    "\n",
    "Normal = [\"NOR\", \"IDL\", \"PRK\", \"\"]"
   ]
  },
  {
   "cell_type": "code",
   "execution_count": null,
   "metadata": {
    "ExecuteTime": {
     "end_time": "2021-05-12T03:01:34.938101Z",
     "start_time": "2021-05-12T03:01:33.126Z"
    },
    "application/vnd.databricks.v1+cell": {
     "inputWidgets": {},
     "nuid": "7caf5d43-8874-4d32-9a6e-145ae470de37",
     "showTitle": false,
     "title": ""
    }
   },
   "outputs": [],
   "source": [
    "hour_list = [\"00\",\"01\",\"02\",\"03\",\"04\",\"05\",\"06\",\"07\",\"08\",\"09\",\"10\",\"11\",\"12\",\"13\",\"14\",\"15\",\"16\",\"17\",\"18\",\"19\",\"20\",\"21\",\"22\",\"23\"]\n",
    "date = datetime.datetime.now(pytz.timezone('Asia/Shanghai')) - timedelta(days=1)\n",
    "year = date.year\n",
    "month = date.month\n",
    "day = date.day\n",
    "whole_df = pd.DataFrame()\n",
    "for i in hour_list:\n",
    "  if int(day) <= 9:\n",
    "    df = spark.read.parquet(f\"dbfs:/mnt/testmount/OtisOne/robustel/elevatorheartbeat/{year}/0{month}/0{day}/{i}\")\n",
    "  else:\n",
    "    df = spark.read.parquet(f\"dbfs:/mnt/testmount/OtisOne/robustel/elevatorheartbeat/{year}/0{month}/{day}/{i}\")\n",
    "  df_ = df.drop('Version','UnitType','Country_Code','GatewayID','SubID','SIMCardID','MotionSensorLink','CSQ','BatteryVoltage','BackupStatus','OPMode','LiftState','UnitPowerOff','Floor','Direction','DoorZone','FrontDoorStatus','RearDoorStatus','CountCallUp','CountCallDown','Speed','Load','CarDoorLock','FloorDoorLock','SafetyCircuitStatus','DoorProtectorStatus','PassengerExists','DetailDataPerSecond','BlinkMessage')\n",
    "  df_ = df_.toPandas()\n",
    "  whole_df = whole_df.append(df_)  \n",
    "whole_df[['ReportTime','ControllerLink']] = whole_df[['ReportTime','ControllerLink']].astype(float)"
   ]
  }
 ],
 "metadata": {
  "application/vnd.databricks.v1+notebook": {
   "dashboards": [],
   "language": "python",
   "notebookMetadata": {
    "pythonIndentUnit": 2
   },
   "notebookName": "datalake_OPMode_analysis (1)",
   "notebookOrigID": 4352905096491326,
   "widgets": {}
  },
  "kernelspec": {
   "display_name": "Python 3",
   "language": "python",
   "name": "python3"
  },
  "language_info": {
   "codemirror_mode": {
    "name": "ipython",
    "version": 3
   },
   "file_extension": ".py",
   "mimetype": "text/x-python",
   "name": "python",
   "nbconvert_exporter": "python",
   "pygments_lexer": "ipython3",
   "version": "3.8.3"
  }
 },
 "nbformat": 4,
 "nbformat_minor": 1
}
